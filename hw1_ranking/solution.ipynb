{
 "cells": [
  {
   "cell_type": "code",
   "execution_count": 2,
   "metadata": {},
   "outputs": [],
   "source": [
    "import pandas as pd\n",
    "import numpy as np\n",
    "\n",
    "def preprocess(filename):\n",
    "    df = []\n",
    "    with open(filename, 'r') as f:\n",
    "        for line in f:\n",
    "            rec = {}\n",
    "            items = line.split()\n",
    "            rec['relevance'] = int(items[0])\n",
    "            rec['qid'] = int(items[1].split(':')[1])\n",
    "            rec['features'] = [float(items[i].split(':')[1]) for i in range(2,2+46)]\n",
    "            rec['docid'] = items[50]\n",
    "            df.append(rec)\n",
    "    df = pd.DataFrame(df)\n",
    "    return df\n",
    "    \n",
    "\n",
    "df_train = preprocess('MQ2007/Fold1/train.txt')\n",
    "df_valid = preprocess('MQ2007/Fold1/vali.txt')\n",
    "df_test = preprocess('MQ2007/Fold1/test.txt')"
   ]
  },
  {
   "cell_type": "code",
   "execution_count": 3,
   "metadata": {},
   "outputs": [
    {
     "data": {
      "text/html": [
       "<div>\n",
       "<style scoped>\n",
       "    .dataframe tbody tr th:only-of-type {\n",
       "        vertical-align: middle;\n",
       "    }\n",
       "\n",
       "    .dataframe tbody tr th {\n",
       "        vertical-align: top;\n",
       "    }\n",
       "\n",
       "    .dataframe thead th {\n",
       "        text-align: right;\n",
       "    }\n",
       "</style>\n",
       "<table border=\"1\" class=\"dataframe\">\n",
       "  <thead>\n",
       "    <tr style=\"text-align: right;\">\n",
       "      <th></th>\n",
       "      <th>relevance</th>\n",
       "      <th>qid</th>\n",
       "      <th>features</th>\n",
       "      <th>docid</th>\n",
       "    </tr>\n",
       "  </thead>\n",
       "  <tbody>\n",
       "    <tr>\n",
       "      <th>0</th>\n",
       "      <td>0</td>\n",
       "      <td>10</td>\n",
       "      <td>[0.0, 0.0, 0.0, 0.0, 0.0, 0.0, 0.0, 0.0, 0.0, ...</td>\n",
       "      <td>GX000-00-0000000</td>\n",
       "    </tr>\n",
       "    <tr>\n",
       "      <th>1</th>\n",
       "      <td>1</td>\n",
       "      <td>10</td>\n",
       "      <td>[0.03131, 0.666667, 0.5, 0.166667, 0.033206, 0...</td>\n",
       "      <td>GX000-24-12369390</td>\n",
       "    </tr>\n",
       "    <tr>\n",
       "      <th>2</th>\n",
       "      <td>1</td>\n",
       "      <td>10</td>\n",
       "      <td>[0.078682, 0.166667, 0.5, 0.333333, 0.080022, ...</td>\n",
       "      <td>GX000-62-7863450</td>\n",
       "    </tr>\n",
       "    <tr>\n",
       "      <th>3</th>\n",
       "      <td>1</td>\n",
       "      <td>10</td>\n",
       "      <td>[0.019058, 1.0, 1.0, 0.5, 0.022591, 0.0, 0.0, ...</td>\n",
       "      <td>GX016-48-5543459</td>\n",
       "    </tr>\n",
       "    <tr>\n",
       "      <th>4</th>\n",
       "      <td>0</td>\n",
       "      <td>10</td>\n",
       "      <td>[0.039477, 0.0, 0.75, 0.166667, 0.040555, 0.0,...</td>\n",
       "      <td>GX037-87-3082362</td>\n",
       "    </tr>\n",
       "  </tbody>\n",
       "</table>\n",
       "</div>"
      ],
      "text/plain": [
       "   relevance  qid                                           features  \\\n",
       "0          0   10  [0.0, 0.0, 0.0, 0.0, 0.0, 0.0, 0.0, 0.0, 0.0, ...   \n",
       "1          1   10  [0.03131, 0.666667, 0.5, 0.166667, 0.033206, 0...   \n",
       "2          1   10  [0.078682, 0.166667, 0.5, 0.333333, 0.080022, ...   \n",
       "3          1   10  [0.019058, 1.0, 1.0, 0.5, 0.022591, 0.0, 0.0, ...   \n",
       "4          0   10  [0.039477, 0.0, 0.75, 0.166667, 0.040555, 0.0,...   \n",
       "\n",
       "               docid  \n",
       "0   GX000-00-0000000  \n",
       "1  GX000-24-12369390  \n",
       "2   GX000-62-7863450  \n",
       "3   GX016-48-5543459  \n",
       "4   GX037-87-3082362  "
      ]
     },
     "execution_count": 3,
     "metadata": {},
     "output_type": "execute_result"
    }
   ],
   "source": [
    "df_train.head()"
   ]
  },
  {
   "cell_type": "code",
   "execution_count": 4,
   "metadata": {},
   "outputs": [],
   "source": [
    "import matplotlib.pyplot as plt"
   ]
  },
  {
   "cell_type": "markdown",
   "metadata": {},
   "source": [
    "# Dataset vis"
   ]
  },
  {
   "cell_type": "code",
   "execution_count": 4,
   "metadata": {},
   "outputs": [
    {
     "data": {
      "text/plain": [
       "0     0\n",
       "1     1\n",
       "17    2\n",
       "Name: relevance, dtype: int64"
      ]
     },
     "execution_count": 4,
     "metadata": {},
     "output_type": "execute_result"
    }
   ],
   "source": [
    "df_test['relevance'].drop_duplicates()"
   ]
  },
  {
   "cell_type": "code",
   "execution_count": 5,
   "metadata": {},
   "outputs": [
    {
     "data": {
      "image/png": "[encoded data removed]",
      "text/plain": [
       "<Figure size 640x480 with 1 Axes>"
      ]
     },
     "metadata": {},
     "output_type": "display_data"
    }
   ],
   "source": [
    "plt.hist(df_test['relevance'].values);"
   ]
  },
  {
   "cell_type": "code",
   "execution_count": 6,
   "metadata": {},
   "outputs": [
    {
     "data": {
      "image/png": "[encoded data removed]",
      "text/plain": [
       "<Figure size 640x480 with 1 Axes>"
      ]
     },
     "metadata": {},
     "output_type": "display_data"
    }
   ],
   "source": [
    "plt.hist(df_train['qid'], bins=400);"
   ]
  },
  {
   "cell_type": "code",
   "execution_count": 7,
   "metadata": {},
   "outputs": [
    {
     "data": {
      "text/plain": [
       "0          10\n",
       "40         15\n",
       "80         33\n",
       "120        34\n",
       "160        37\n",
       "         ... \n",
       "41977    5981\n",
       "42027    5988\n",
       "42067    5989\n",
       "42078    5996\n",
       "42118    6000\n",
       "Name: qid, Length: 1017, dtype: int64"
      ]
     },
     "execution_count": 7,
     "metadata": {},
     "output_type": "execute_result"
    }
   ],
   "source": [
    "df_train['qid'].drop_duplicates()"
   ]
  },
  {
   "cell_type": "code",
   "execution_count": 8,
   "metadata": {},
   "outputs": [
    {
     "data": {
      "text/plain": [
       "0        7968\n",
       "40       7979\n",
       "80       7993\n",
       "120      7995\n",
       "170      8002\n",
       "         ... \n",
       "13452    9991\n",
       "13492    9992\n",
       "13532    9994\n",
       "13572    9997\n",
       "13612    9999\n",
       "Name: qid, Length: 336, dtype: int64"
      ]
     },
     "execution_count": 8,
     "metadata": {},
     "output_type": "execute_result"
    }
   ],
   "source": [
    "df_test['qid'].drop_duplicates()"
   ]
  },
  {
   "cell_type": "code",
   "execution_count": 9,
   "metadata": {},
   "outputs": [
    {
     "data": {
      "text/plain": [
       "0         GX000-00-0000000\n",
       "17444     GX000-00-0305363\n",
       "40200     GX000-00-0398421\n",
       "16965     GX000-00-0665119\n",
       "12046     GX000-00-0972746\n",
       "               ...        \n",
       "6978     GX272-82-16261892\n",
       "31224     GX272-82-9021746\n",
       "32309    GX272-83-12234283\n",
       "16638     GX272-83-7556847\n",
       "32064     GX272-84-8558203\n",
       "Name: docid, Length: 40231, dtype: object"
      ]
     },
     "execution_count": 9,
     "metadata": {},
     "output_type": "execute_result"
    }
   ],
   "source": [
    "df_train['docid'].drop_duplicates().sort_values()"
   ]
  },
  {
   "cell_type": "code",
   "execution_count": 10,
   "metadata": {},
   "outputs": [
    {
     "data": {
      "text/plain": [
       "0         GX000-00-0000000\n",
       "80       GX000-00-12630903\n",
       "7248     GX000-00-13190733\n",
       "81       GX000-00-14019140\n",
       "13293     GX000-00-2625598\n",
       "               ...        \n",
       "8496      GX272-77-6290069\n",
       "409       GX272-78-3686656\n",
       "12331     GX272-81-5549787\n",
       "10565    GX272-82-11657440\n",
       "4449     GX272-82-14104919\n",
       "Name: docid, Length: 13302, dtype: object"
      ]
     },
     "execution_count": 10,
     "metadata": {},
     "output_type": "execute_result"
    }
   ],
   "source": [
    "df_test['docid'].drop_duplicates().sort_values()"
   ]
  },
  {
   "cell_type": "markdown",
   "metadata": {},
   "source": [
    "# Linear Model"
   ]
  },
  {
   "cell_type": "code",
   "execution_count": 9,
   "metadata": {},
   "outputs": [
    {
     "name": "stdout",
     "output_type": "stream",
     "text": [
      "train loss 0.5367111742584176\n",
      "test loss 0.5813998908904527\n"
     ]
    },
    {
     "data": {
      "text/html": [
       "<div>\n",
       "<style scoped>\n",
       "    .dataframe tbody tr th:only-of-type {\n",
       "        vertical-align: middle;\n",
       "    }\n",
       "\n",
       "    .dataframe tbody tr th {\n",
       "        vertical-align: top;\n",
       "    }\n",
       "\n",
       "    .dataframe thead th {\n",
       "        text-align: right;\n",
       "    }\n",
       "</style>\n",
       "<table border=\"1\" class=\"dataframe\">\n",
       "  <thead>\n",
       "    <tr style=\"text-align: right;\">\n",
       "      <th></th>\n",
       "      <th>predict</th>\n",
       "      <th>true</th>\n",
       "    </tr>\n",
       "  </thead>\n",
       "  <tbody>\n",
       "    <tr>\n",
       "      <th>0</th>\n",
       "      <td>-0.012137</td>\n",
       "      <td>0</td>\n",
       "    </tr>\n",
       "    <tr>\n",
       "      <th>1</th>\n",
       "      <td>0.660603</td>\n",
       "      <td>1</td>\n",
       "    </tr>\n",
       "    <tr>\n",
       "      <th>2</th>\n",
       "      <td>0.544658</td>\n",
       "      <td>1</td>\n",
       "    </tr>\n",
       "    <tr>\n",
       "      <th>3</th>\n",
       "      <td>0.750844</td>\n",
       "      <td>1</td>\n",
       "    </tr>\n",
       "    <tr>\n",
       "      <th>4</th>\n",
       "      <td>0.491347</td>\n",
       "      <td>0</td>\n",
       "    </tr>\n",
       "  </tbody>\n",
       "</table>\n",
       "</div>"
      ],
      "text/plain": [
       "    predict  true\n",
       "0 -0.012137     0\n",
       "1  0.660603     1\n",
       "2  0.544658     1\n",
       "3  0.750844     1\n",
       "4  0.491347     0"
      ]
     },
     "execution_count": 9,
     "metadata": {},
     "output_type": "execute_result"
    }
   ],
   "source": [
    "from sklearn import linear_model\n",
    "reg = linear_model.LinearRegression()\n",
    "\n",
    "def train(model:linear_model.LinearRegression, dataset:pd.DataFrame):\n",
    "    features = np.stack(dataset['features'])\n",
    "    model.fit(features, dataset['relevance'])\n",
    "    return model.coef_\n",
    "\n",
    "def predict(model:linear_model.LinearRegression, dataset:pd.DataFrame):\n",
    "    features = np.stack(dataset['features'])\n",
    "    return model.predict(features)\n",
    "    \n",
    "    \n",
    "def evaluate(model:linear_model.LinearRegression, dataset:pd.DataFrame):\n",
    "    pred_rels = predict(model, dataset)\n",
    "    return np.sqrt(np.mean(np.square(dataset['relevance']-pred_rels)))\n",
    "    # return model.score(features, dataset['relevance'])\n",
    "\n",
    "\n",
    "train(reg, df_train)\n",
    "\n",
    "print(\"train loss\", evaluate(reg, df_train))\n",
    "print(\"test loss\", evaluate(reg, df_test))\n",
    "\n",
    "result = pd.DataFrame({\"predict\":predict(reg, df_train), \"true\": df_train['relevance']})\n",
    "result.head()"
   ]
  },
  {
   "cell_type": "code",
   "execution_count": 29,
   "metadata": {},
   "outputs": [
    {
     "data": {
      "text/plain": [
       "Text(0, 0.5, 'predicted relevance')"
      ]
     },
     "execution_count": 29,
     "metadata": {},
     "output_type": "execute_result"
    },
    {
     "data": {
      "image/png": "[encoded data removed]",
      "text/plain": [
       "<Figure size 640x480 with 1 Axes>"
      ]
     },
     "metadata": {},
     "output_type": "display_data"
    }
   ],
   "source": [
    "rel = result['true'].drop_duplicates().values\n",
    "pred_rels = [np.array(result[result['true'] == x]['predict']) for x in rel]\n",
    "plt.boxplot(pred_rels, labels=rel)\n",
    "plt.xlabel(\"true relevance\")\n",
    "plt.ylabel(\"predicted relevance\")\n"
   ]
  },
  {
   "cell_type": "code",
   "execution_count": 30,
   "metadata": {},
   "outputs": [
    {
     "data": {
      "text/plain": [
       "[0.31778370285125646, 0.6363955882358779, 1.5947846815944617]"
      ]
     },
     "execution_count": 30,
     "metadata": {},
     "output_type": "execute_result"
    }
   ],
   "source": [
    "diffs = [np.sqrt(np.mean(np.square(pred_rels[i] - rel[i]))) for i in range(len(rel))]\n",
    "diffs"
   ]
  },
  {
   "cell_type": "markdown",
   "metadata": {},
   "source": [
    "# Metrics"
   ]
  },
  {
   "cell_type": "code",
   "execution_count": 10,
   "metadata": {},
   "outputs": [],
   "source": [
    "# NDCG@10\n",
    "    \n",
    "def DCG(relevance_list):\n",
    "        factor = np.log2(np.arange(2, len(relevance_list)+2))\n",
    "        numenator = np.power(2, relevance_list)-1\n",
    "        return np.sum(numenator/factor)\n",
    "    \n",
    "def NDCGatK(model, dataset, k=10):\n",
    "    qids = dataset['qid'].drop_duplicates()\n",
    "    results = []\n",
    "    for qid in qids:\n",
    "        filtered_ds = dataset[dataset['qid']==qid].copy()\n",
    "        features = np.stack(filtered_ds['features'])\n",
    "\n",
    "        filtered_ds['pred_relevance'] = model.predict(features)\n",
    "        ideal = filtered_ds.sort_values('relevance', inplace=False, ascending=False)['relevance'][:k]\n",
    "        idealDCG = DCG(ideal)\n",
    "        real = filtered_ds.sort_values('pred_relevance', inplace=False, ascending=False)['relevance'][:k]\n",
    "        realDCG = DCG(real)\n",
    "        if idealDCG != 0:\n",
    "            results.append(realDCG/idealDCG)\n",
    "        # else:\n",
    "        #     results.append(1)\n",
    "    return np.mean(results)\n"
   ]
  },
  {
   "cell_type": "code",
   "execution_count": 11,
   "metadata": {},
   "outputs": [
    {
     "data": {
      "text/plain": [
       "(0.523303338860965, 0.4936030128505534)"
      ]
     },
     "execution_count": 11,
     "metadata": {},
     "output_type": "execute_result"
    }
   ],
   "source": [
    "NDCGatK(reg, df_test), NDCGatK(reg, df_train), "
   ]
  },
  {
   "attachments": {},
   "cell_type": "markdown",
   "metadata": {},
   "source": [
    "linear model baseline:\\\n",
    "test, train = (0.52, 0.49)"
   ]
  },
  {
   "cell_type": "code",
   "execution_count": 12,
   "metadata": {},
   "outputs": [],
   "source": [
    "def NDCGatK_torch(model, pred_func, dataset, k=10):\n",
    "    qids = dataset['qid'].drop_duplicates()\n",
    "    results = []\n",
    "    for qid in qids:\n",
    "        filtered_ds = dataset[dataset['qid']==qid].copy()\n",
    "\n",
    "        filtered_ds['pred_relevance'] = pred_func(model, filtered_ds)\n",
    "        ideal = filtered_ds.sort_values('relevance', inplace=False, ascending=False)['relevance'][:k]\n",
    "        idealDCG = DCG(ideal)\n",
    "        real = filtered_ds.sort_values('pred_relevance', inplace=False, ascending=False)['relevance'][:k]\n",
    "        realDCG = DCG(real)\n",
    "        if idealDCG != 0:\n",
    "            results.append(realDCG/idealDCG)\n",
    "        # else:\n",
    "        #     results.append(1)\n",
    "    return np.mean(results)"
   ]
  },
  {
   "cell_type": "code",
   "execution_count": 13,
   "metadata": {},
   "outputs": [
    {
     "data": {
      "text/plain": [
       "(0.523303338860965, 0.4936030128505534)"
      ]
     },
     "execution_count": 13,
     "metadata": {},
     "output_type": "execute_result"
    }
   ],
   "source": [
    "NDCGatK_torch(reg, predict, df_test), NDCGatK_torch(reg, predict, df_train)"
   ]
  },
  {
   "cell_type": "markdown",
   "metadata": {},
   "source": [
    "# RankNet"
   ]
  },
  {
   "cell_type": "code",
   "execution_count": 14,
   "metadata": {},
   "outputs": [],
   "source": [
    "dtype = np.float32"
   ]
  },
  {
   "cell_type": "code",
   "execution_count": 15,
   "metadata": {},
   "outputs": [
    {
     "data": {
      "text/plain": [
       "46"
      ]
     },
     "execution_count": 15,
     "metadata": {},
     "output_type": "execute_result"
    }
   ],
   "source": [
    "featureN = len(df_train['features'][0])\n",
    "featureN"
   ]
  },
  {
   "cell_type": "code",
   "execution_count": 16,
   "metadata": {},
   "outputs": [],
   "source": [
    "import torch\n",
    "from torch import nn\n",
    "import torch.nn.functional as F\n",
    "from torch.utils.data import Dataset, DataLoader\n",
    "from tqdm.auto import tqdm"
   ]
  },
  {
   "cell_type": "code",
   "execution_count": 124,
   "metadata": {},
   "outputs": [],
   "source": [
    "class MyModule(torch.nn.Module):\n",
    "    def __init__(self) -> None:\n",
    "        super().__init__()\n",
    "        self.lin1 = nn.Linear(featureN, 10)\n",
    "        self.lin3 = nn.Linear(10, 1)\n",
    "    def forward(self, input):\n",
    "        x = torch.sigmoid(self.lin1(input))\n",
    "        # x = torch.sigmoid(self.lin2(x))\n",
    "        x = 2*torch.sigmoid(self.lin3(x))\n",
    "        return x.squeeze(-1)\n",
    "    \n",
    "\n",
    "class MyDataset(Dataset):\n",
    "    def __init__(self, dataFrame):\n",
    "        super().__init__()\n",
    "        self.dataFrame = dataFrame\n",
    "        \n",
    "    def __len__(self):\n",
    "        return len(self.dataFrame)\n",
    "    \n",
    "    def __getitem__(self, index):\n",
    "        \n",
    "        x = np.array(self.dataFrame['features'].values[index], dtype=dtype)\n",
    "\n",
    "        y = dtype(self.dataFrame['relevance'].values[index])\n",
    "        return x, y\n",
    "    \n",
    "trainloader = DataLoader(MyDataset(df_train), batch_size=1024,\n",
    "                                          shuffle=True)\n",
    "\n",
    "testloader = DataLoader(MyDataset(df_test), batch_size=1024,\n",
    "                                         shuffle=False)\n",
    "\n",
    "model = MyModule()\n",
    "loss_fn = nn.MSELoss()\n",
    "optim = torch.optim.Adam(model.parameters(), lr=1e-4)\n",
    "history = []"
   ]
  },
  {
   "cell_type": "code",
   "execution_count": 125,
   "metadata": {},
   "outputs": [],
   "source": [
    "def fit_epoch(model, train_loader, criterion, optimizer):\n",
    "    running_loss = 0.0\n",
    "    processed_data = 0\n",
    "    model.train()\n",
    "\n",
    "    for inputs, labels in train_loader:\n",
    "        optimizer.zero_grad()\n",
    "\n",
    "        outputs = model(inputs)\n",
    "        loss = criterion(outputs, labels)\n",
    "        loss.backward()\n",
    "        optimizer.step()\n",
    "        running_loss += loss.item() * inputs.size(0)\n",
    "        processed_data += inputs.size(0)\n",
    "              \n",
    "    train_loss = running_loss / processed_data\n",
    "    \n",
    "    return train_loss     \n",
    "\n",
    "def predict(model, dataFrame, batch_size=100):\n",
    "    data_loader = DataLoader(MyDataset(dataFrame), batch_size=batch_size, shuffle=False)\n",
    "\n",
    "    model.eval()\n",
    "    result = []\n",
    "    with torch.set_grad_enabled(False):\n",
    "        for inputs, labels in data_loader:\n",
    "            outputs = model(inputs)\n",
    "            result.extend(outputs.tolist())\n",
    "            \n",
    "    return np.array(result, dtype=dtype)\n"
   ]
  },
  {
   "cell_type": "code",
   "execution_count": 126,
   "metadata": {},
   "outputs": [],
   "source": [
    "# def eval_epoch(model, dataFrame, criterion, batch_size=100):\n",
    "\n",
    "#     with torch.set_grad_enabled(False):\n",
    "#         pred = predict(model, dataFrame)\n",
    "#         # loss = criterion(pred, torch.from_numpy(dataFrame['relevance'].values))\n",
    "#         metrics = NDCGatK_torch(model, dataFrame)\n",
    "#     return metrics # loss, \n",
    "    \n",
    "def train(train_data, test_data, model, epochs, batch_size, optimizer, criterion):\n",
    "    train_loader = DataLoader(MyDataset(train_data), batch_size=batch_size, shuffle=True)\n",
    "    history = []\n",
    "    log_template = \"\\nEpoch {ep:03d} train_acc {t_acc:0.4f} test_acc {v_acc:0.4f}\"\n",
    "    with tqdm(total=epochs) as pbar:\n",
    "        for epoch in range(epochs):\n",
    "            fit_epoch(model, train_loader, criterion, optimizer)\n",
    "            train_acc = NDCGatK_torch(model, predict, train_data)\n",
    "            val_acc = NDCGatK_torch(model, predict, test_data)\n",
    "            pbar.set_postfix_str(log_template.format(ep=epoch, t_acc=train_acc, v_acc=val_acc))\n",
    "            history.append((train_acc, val_acc))\n",
    "            yield (train_acc, val_acc)\n",
    "            \n",
    "            pbar.update()                \n",
    "    # return history"
   ]
  },
  {
   "cell_type": "code",
   "execution_count": null,
   "metadata": {},
   "outputs": [],
   "source": [
    "for h in train(df_train, df_test, model, 7, 100, optim, loss_fn):\n",
    "    history.append(h)"
   ]
  },
  {
   "cell_type": "code",
   "execution_count": null,
   "metadata": {},
   "outputs": [],
   "source": [
    "plt.plot(history, label=['train_met', 'test_met'])\n",
    "plt.legend()\n",
    "plt.xlabel(\"epochs\")\n",
    "plt.title(\"NDCG@10 accuracy\");"
   ]
  },
  {
   "attachments": {},
   "cell_type": "markdown",
   "metadata": {},
   "source": [
    "complex model"
   ]
  },
  {
   "cell_type": "code",
   "execution_count": 74,
   "metadata": {},
   "outputs": [],
   "source": [
    "class MyModule2(torch.nn.Module):\n",
    "    def __init__(self) -> None:\n",
    "        super().__init__()\n",
    "        self.lin1 = nn.Linear(featureN, 40)\n",
    "        self.lin2 = nn.Linear(40, 40)\n",
    "        self.lin3 = nn.Linear(40, 40)\n",
    "        self.lin4 = nn.Linear(40, 40)\n",
    "        self.lin5 = nn.Linear(40, 10)\n",
    "        self.lin_last = nn.Linear(10, 1)\n",
    "    def forward(self, input):\n",
    "        x = torch.sigmoid(self.lin1(input))\n",
    "        x = torch.sigmoid(self.lin2(x))\n",
    "        x = torch.sigmoid(self.lin3(x))\n",
    "        x = torch.sigmoid(self.lin4(x))\n",
    "        x = torch.sigmoid(self.lin5(x))\n",
    "        x = self.lin_last(x)\n",
    "        return x.squeeze(-1)\n",
    "\n",
    "model = MyModule2()\n",
    "loss_fn = nn.MSELoss()\n",
    "optim = torch.optim.Adam(model.parameters(), lr=1e-2)\n",
    "history = []"
   ]
  },
  {
   "cell_type": "code",
   "execution_count": 78,
   "metadata": {},
   "outputs": [
    {
     "data": {
      "application/vnd.jupyter.widget-view+json": {
       "model_id": "70fd59e4b5a842e995b25a55eda6df30",
       "version_major": 2,
       "version_minor": 0
      },
      "text/plain": [
       "  0%|          | 0/7 [00:00<?, ?it/s]"
      ]
     },
     "metadata": {},
     "output_type": "display_data"
    }
   ],
   "source": [
    "for h in train(df_train, df_test, model, 7, 100, optim, loss_fn):\n",
    "    history.append(h)"
   ]
  },
  {
   "cell_type": "code",
   "execution_count": 76,
   "metadata": {},
   "outputs": [
    {
     "data": {
      "image/png": "[encoded data removed]",
      "text/plain": [
       "<Figure size 640x480 with 1 Axes>"
      ]
     },
     "metadata": {},
     "output_type": "display_data"
    }
   ],
   "source": [
    "plt.plot(history, label=['train_met', 'test_met'])\n",
    "plt.legend()\n",
    "plt.xlabel(\"epochs\")\n",
    "plt.title(\"NDCG@10 accuracy\");"
   ]
  },
  {
   "attachments": {},
   "cell_type": "markdown",
   "metadata": {},
   "source": [
    "нелинейные модели достигают токого же качества в (0.54, 52)"
   ]
  },
  {
   "attachments": {},
   "cell_type": "markdown",
   "metadata": {},
   "source": [
    "### pairwise loss."
   ]
  },
  {
   "cell_type": "code",
   "execution_count": 80,
   "metadata": {},
   "outputs": [
    {
     "data": {
      "text/plain": [
       "2297    147\n",
       "3134    113\n",
       "1439    109\n",
       "1665    108\n",
       "2343    108\n",
       "       ... \n",
       "1921     40\n",
       "6000     40\n",
       "5715     11\n",
       "5989     11\n",
       "3394      6\n",
       "Name: qid, Length: 1017, dtype: int64"
      ]
     },
     "execution_count": 80,
     "metadata": {},
     "output_type": "execute_result"
    }
   ],
   "source": [
    "df_train['qid'].value_counts()"
   ]
  },
  {
   "cell_type": "code",
   "execution_count": 81,
   "metadata": {},
   "outputs": [
    {
     "data": {
      "text/plain": [
       "1809850"
      ]
     },
     "execution_count": 81,
     "metadata": {},
     "output_type": "execute_result"
    }
   ],
   "source": [
    "np.sum(np.square(df_train['qid'].value_counts()))"
   ]
  },
  {
   "cell_type": "code",
   "execution_count": 82,
   "metadata": {},
   "outputs": [
    {
     "data": {
      "text/plain": [
       "42158"
      ]
     },
     "execution_count": 82,
     "metadata": {},
     "output_type": "execute_result"
    }
   ],
   "source": [
    "np.sum(df_train['qid'].value_counts())"
   ]
  },
  {
   "cell_type": "code",
   "execution_count": 83,
   "metadata": {},
   "outputs": [
    {
     "data": {
      "text/plain": [
       "42.930167465249774"
      ]
     },
     "execution_count": 83,
     "metadata": {},
     "output_type": "execute_result"
    }
   ],
   "source": [
    "1809850/42158"
   ]
  },
  {
   "attachments": {},
   "cell_type": "markdown",
   "metadata": {},
   "source": [
    "чтобы не слишком долго учиться, будем выбирать только $D$ пар из $D^2$ для каждого запроса.\n",
    "\n",
    "априорные веросятности $P( f(x_i)$ > $f(x_j)  )$ приближаю $\\sigma(rel_i - rel_j)$"
   ]
  },
  {
   "cell_type": "code",
   "execution_count": 128,
   "metadata": {},
   "outputs": [],
   "source": [
    "\n",
    "class PairDataset(Dataset):\n",
    "    def __init__(self, dataFrame):\n",
    "        super().__init__()\n",
    "        self.dataFrame = dataFrame\n",
    "        self.filtered_df = {}\n",
    "        qids = dataFrame['qid'].drop_duplicates()\n",
    "        for qid in qids:\n",
    "            filtered_df = dataFrame[dataFrame['qid']==qid]\n",
    "            self.filtered_df[qid] = filtered_df\n",
    "\n",
    "    def __len__(self):\n",
    "        return len(self.dataFrame)\n",
    "    \n",
    "    def __getitem__(self, index):\n",
    "        \n",
    "        qid = self.dataFrame['qid'].values[index]\n",
    "        \n",
    "        paired_x_id = np.random.choice(self.filtered_df[qid].index)\n",
    "        paired_x = self.filtered_df[qid]['features'][paired_x_id]\n",
    "        paired_y = self.filtered_df[qid]['relevance'][paired_x_id]\n",
    "        \n",
    "        x = self.dataFrame['features'].values[index]\n",
    "\n",
    "        y = dtype(self.dataFrame['relevance'].values[index])\n",
    "        return np.array([x, paired_x], dtype=dtype), y - paired_y\n",
    "\n",
    "class MyModule2(torch.nn.Module):\n",
    "    def __init__(self) -> None:\n",
    "        super().__init__()\n",
    "        self.lin1 = nn.Linear(featureN, 40)\n",
    "        self.lin2 = nn.Linear(40, 40)\n",
    "        self.lin3 = nn.Linear(40, 40)\n",
    "        self.lin4 = nn.Linear(40, 40)\n",
    "        self.lin5 = nn.Linear(40, 10)\n",
    "        self.lin_last = nn.Linear(10, 1)\n",
    "    def forward(self, input):\n",
    "        x = torch.sigmoid(self.lin1(input))\n",
    "        x = torch.sigmoid(self.lin2(x))\n",
    "        x = torch.sigmoid(self.lin3(x))\n",
    "        x = torch.sigmoid(self.lin4(x))\n",
    "        x = torch.sigmoid(self.lin5(x))\n",
    "        x = self.lin_last(x)\n",
    "        return x.squeeze(-1)\n",
    "\n",
    "model = MyModule2()\n",
    "optim = torch.optim.Adam(model.parameters(), lr=1e-4)\n",
    "history = []\n",
    "\n",
    "loss_fn = nn.BCEWithLogitsLoss()"
   ]
  },
  {
   "cell_type": "code",
   "execution_count": 134,
   "metadata": {},
   "outputs": [],
   "source": [
    "def fit_epoch(model, train_loader, criterion, optimizer):\n",
    "    running_loss = 0.0\n",
    "    processed_data = 0\n",
    "    model.train()\n",
    "\n",
    "    for inputs, labels in train_loader:\n",
    "        optimizer.zero_grad()\n",
    "\n",
    "        outputs = model(inputs)\n",
    "        loss = loss_fn(torch.sigmoid(labels), outputs[..., 0]-outputs[..., 1])\n",
    "        loss.backward()\n",
    "        optimizer.step()\n",
    "        running_loss += loss.item() * inputs.size(0)\n",
    "        processed_data += inputs.size(0)\n",
    "              \n",
    "    train_loss = running_loss / processed_data\n",
    "    \n",
    "    return train_loss     \n",
    "def train(train_data, test_data, model, epochs, batch_size, optimizer, criterion):\n",
    "    train_loader = DataLoader(PairDataset(train_data), batch_size=batch_size, shuffle=True)\n",
    "    history = []\n",
    "    log_template = \"\\nEpoch {ep:03d} train_acc {t_acc:0.4f} test_acc {v_acc:0.4f}\"\n",
    "    with tqdm(total=epochs) as pbar:\n",
    "        for epoch in range(epochs):\n",
    "            fit_epoch(model, train_loader, criterion, optimizer)\n",
    "            train_acc = NDCGatK_torch(model, predict, train_data)\n",
    "            val_acc = NDCGatK_torch(model, predict, test_data)\n",
    "            pbar.set_postfix_str(log_template.format(ep=epoch, t_acc=train_acc, v_acc=val_acc))\n",
    "            history.append((train_acc, val_acc))\n",
    "            yield (train_acc, val_acc)\n",
    "            \n",
    "            pbar.update()                \n",
    "    # return history"
   ]
  },
  {
   "cell_type": "code",
   "execution_count": 136,
   "metadata": {},
   "outputs": [
    {
     "data": {
      "application/vnd.jupyter.widget-view+json": {
       "model_id": "9430072d3fbf47f48b2852087a4e126d",
       "version_major": 2,
       "version_minor": 0
      },
      "text/plain": [
       "  0%|          | 0/7 [00:00<?, ?it/s]"
      ]
     },
     "metadata": {},
     "output_type": "display_data"
    }
   ],
   "source": [
    "for h in train(df_train, df_test, model, 7, 100, optim, loss_fn):\n",
    "    history.append(h)"
   ]
  },
  {
   "cell_type": "code",
   "execution_count": 137,
   "metadata": {},
   "outputs": [
    {
     "data": {
      "image/png": "[encoded data removed]",
      "text/plain": [
       "<Figure size 640x480 with 1 Axes>"
      ]
     },
     "metadata": {},
     "output_type": "display_data"
    }
   ],
   "source": [
    "plt.plot(history, label=['train_met', 'test_met'])\n",
    "plt.legend()\n",
    "plt.xlabel(\"epochs\")\n",
    "plt.title(\"NDCG@10 accuracy\");"
   ]
  },
  {
   "attachments": {},
   "cell_type": "markdown",
   "metadata": {},
   "source": [
    "похожая точность (0.51, 0.47)"
   ]
  },
  {
   "attachments": {},
   "cell_type": "markdown",
   "metadata": {},
   "source": [
    "Теперь априорная вероятность бинарна."
   ]
  },
  {
   "cell_type": "code",
   "execution_count": 143,
   "metadata": {},
   "outputs": [
    {
     "name": "stdout",
     "output_type": "stream",
     "text": [
      "tensor([[0.5676, 0.6847],\n",
      "        [0.9539, 0.4621]])\n",
      "tensor([[1., 1.],\n",
      "        [1., 1.]])\n"
     ]
    }
   ],
   "source": [
    "a = torch.rand(2, 2)\n",
    "print(a)\n",
    "print((a>0).float())"
   ]
  },
  {
   "cell_type": "code",
   "execution_count": 144,
   "metadata": {},
   "outputs": [],
   "source": [
    "def fit_epoch(model, train_loader, criterion, optimizer):\n",
    "    running_loss = 0.0\n",
    "    processed_data = 0\n",
    "    model.train()\n",
    "\n",
    "    for inputs, labels in train_loader:\n",
    "        optimizer.zero_grad()\n",
    "\n",
    "        outputs = model(inputs)\n",
    "        loss = loss_fn((labels>0).float(), outputs[..., 0]-outputs[..., 1])\n",
    "        loss.backward()\n",
    "        optimizer.step()\n",
    "        running_loss += loss.item() * inputs.size(0)\n",
    "        processed_data += inputs.size(0)\n",
    "              \n",
    "    train_loss = running_loss / processed_data\n",
    "    \n",
    "    return train_loss "
   ]
  },
  {
   "cell_type": "code",
   "execution_count": 145,
   "metadata": {},
   "outputs": [],
   "source": [
    "model = MyModule2()\n",
    "optim = torch.optim.Adam(model.parameters(), lr=1e-4)\n",
    "history = []"
   ]
  },
  {
   "cell_type": "code",
   "execution_count": 146,
   "metadata": {},
   "outputs": [
    {
     "data": {
      "application/vnd.jupyter.widget-view+json": {
       "model_id": "a1da17da4ed74b21b5ea5d43ce238fc8",
       "version_major": 2,
       "version_minor": 0
      },
      "text/plain": [
       "  0%|          | 0/7 [00:00<?, ?it/s]"
      ]
     },
     "metadata": {},
     "output_type": "display_data"
    }
   ],
   "source": [
    "for h in train(df_train, df_test, model, 7, 100, optim, loss_fn):\n",
    "    history.append(h)"
   ]
  },
  {
   "cell_type": "code",
   "execution_count": 147,
   "metadata": {},
   "outputs": [
    {
     "data": {
      "image/png": "[encoded data removed]",
      "text/plain": [
       "<Figure size 640x480 with 1 Axes>"
      ]
     },
     "metadata": {},
     "output_type": "display_data"
    }
   ],
   "source": [
    "plt.plot(history, label=['train_met', 'test_met'])\n",
    "plt.legend()\n",
    "plt.xlabel(\"epochs\")\n",
    "plt.title(\"NDCG@10 accuracy\");"
   ]
  },
  {
   "attachments": {},
   "cell_type": "markdown",
   "metadata": {},
   "source": [
    "Такой же результат. Получается, результат не зависит от преобразования relevance score-ов."
   ]
  },
  {
   "cell_type": "code",
   "execution_count": null,
   "metadata": {},
   "outputs": [],
   "source": []
  }
 ],
 "metadata": {
  "kernelspec": {
   "display_name": "Python 3 (ipykernel)",
   "language": "python",
   "name": "python3"
  },
  "language_info": {
   "codemirror_mode": {
    "name": "ipython",
    "version": 3
   },
   "file_extension": ".py",
   "mimetype": "text/x-python",
   "name": "python",
   "nbconvert_exporter": "python",
   "pygments_lexer": "ipython3",
   "version": "3.11.0"
  }
 },
 "nbformat": 4,
 "nbformat_minor": 2
}
