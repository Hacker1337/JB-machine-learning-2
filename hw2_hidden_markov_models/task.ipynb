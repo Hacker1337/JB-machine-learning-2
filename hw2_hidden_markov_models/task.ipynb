{
 "cells": [
  {
   "cell_type": "markdown",
   "metadata": {},
   "source": [
    "# Assignment 2  \n",
    "Implement Hidden Markov Model with supervised training and Viterbi algorithm for finding the most probable sequence of hidden states.  \n",
    "Use [Laplace smoothing](https://en.wikipedia.org/wiki/Additive_smoothing) for estimation of probabilities.  \n",
    "Apply the developed model to the problems:\n",
    "* part of speech tagging\n",
    "* spelling correction"
   ]
  },
  {
   "cell_type": "code",
   "execution_count": 187,
   "metadata": {},
   "outputs": [],
   "source": [
    "import numpy as np\n",
    "from scipy import sparse\n",
    "from tqdm.notebook import tqdm\n",
    "from IPython.display import Image\n",
    "from collections import defaultdict"
   ]
  },
  {
   "cell_type": "markdown",
   "metadata": {},
   "source": [
    "HMM model for 3-grams:\n",
    "\n",
    "$P(x_1, .., x_T, y_1, .., y_T, y_{T+1}) = \\prod_{t=1}^{T+1} q(y_t | y_{t-2}, y_{t-1}) \\prod_{t=1}^T e(x_t | y_t)$\n",
    "\n",
    "$x_1, .., x_T$ - sequence of observed states of length T  \n",
    "$y_1, .., y_T$ - sequence of hidden states of length T  \n",
    "$q(i | u, v) = \\frac {count(u, v, i)} {count(u, v)} $ - transition probability   \n",
    "$e(x_k | i) = \\frac {count(i, x_k)} {count(i)}$ - emission probability  \n",
    "$A_{i,j} = A_{(u,v), j} = q(i | u, v)$ - transition matrix  \n",
    "$B_{j,k} = e(x_k | j)$ - emission matrix  \n",
    "\n",
    "We assume, that $y_{T+1} = TERM$, and $y_0 = y_{-1} = START$"
   ]
  },
  {
   "cell_type": "markdown",
   "metadata": {},
   "source": [
    "## Task1: Implement HMM (20%)"
   ]
  },
  {
   "cell_type": "code",
   "execution_count": 165,
   "metadata": {},
   "outputs": [],
   "source": [
    "def flatten(list_of_lists):\n",
    "    # converts 2d list to 1d list\n",
    "    return [item for sublist in list_of_lists for item in sublist]\n",
    "\n",
    "class HMM:\n",
    "    START = '*'\n",
    "    TERM = '$$'     # CHANGED IT, because '$' emerges in original tags\n",
    "    REST = '$REST$' # to deal with observed states who have never appeared in train dataset.\n",
    "    alpha = 0.01     # Laplace smoothing parameter for probabilities estimate\n",
    "        \n",
    "    def cond_idx(self, u, v):\n",
    "        '''\n",
    "        converts two indices of hidden state into 1. First index for 'A' matrix \n",
    "        '''\n",
    "        return np.ravel_multi_index((u, v), (self.h_dim, self.h_dim))\n",
    "        \n",
    "    def fit(self, X, y):\n",
    "        \"\"\"\n",
    "        X - list of lists, observed states\n",
    "        y - list of lists, hidden states\n",
    "        estimate elements of A, B matrices from train sequence. \n",
    "        \"\"\"\n",
    "        \n",
    "        #######################        \n",
    "        unique_hidden_states = set(flatten(y))\n",
    "        unique_hidden_states.update([self.START, self.TERM])\n",
    "        self.hidden_idx2state = list(unique_hidden_states) # list of unique hidden states in train sequence + [START, TERM]\n",
    "        \n",
    "        self.hidden_states = {state: idx for idx, state in enumerate(self.hidden_idx2state)} # from state name to state index in hidden_idx2state\n",
    "        self.h_dim = len(self.hidden_idx2state) # number of hidden states\n",
    "\n",
    "        unique_observed_states = set(flatten(X))\n",
    "        self.observed_idx2state = list(unique_observed_states) # list of unique observed states in train sequence + [REST]\n",
    "        self.observed_idx2state.append(self.REST)\n",
    "        \n",
    "        self.observed_states = {state: idx for idx, state in enumerate(self.observed_idx2state)}# from state name to state index in hidden_idx2state\n",
    "        self.o_dim = len(self.observed_idx2state) # number of observed states\n",
    "        \n",
    "        #######################       \n",
    "        \n",
    "        \n",
    "        #######################\n",
    "        # estimate emission matrix\n",
    "        count_emission_matrix = np.zeros((self.h_dim, self.o_dim))\n",
    "        for o_st, h_st in zip(X, y):\n",
    "            o_idx = [self.observed_states[el] for el in o_st]\n",
    "            h_idx = [self.hidden_states[el] for el in h_st]\n",
    "            \n",
    "            for o, h in zip(o_idx, h_idx):\n",
    "                count_emission_matrix[h, o] += 1\n",
    "        \n",
    "        # self.B = sparse.csr_matrix(count_emission_matrix) # sparse csr matrix of shape (h_dim, o_dim)\n",
    "        self.B = count_emission_matrix # sparse csr matrix of shape (h_dim, o_dim)\n",
    "        assert self.B.shape == (self.h_dim, self.o_dim)\n",
    "        \n",
    "        #######################\n",
    "        \n",
    "        self.B_rowsum = np.ravel(self.B.sum(axis=1)) \n",
    "        \n",
    "        \n",
    "        ########################\n",
    "        # transition matrix\n",
    "        count_trans_matrix = np.zeros((self.h_dim**2, self.h_dim))\n",
    "        \n",
    "        for h_st in y:\n",
    "            h_idx = [self.hidden_states[el] for el in \n",
    "                     [self.START]*2 + h_st + [self.TERM]\n",
    "                     ] \n",
    "            for i in range(len(h_idx)-2):\n",
    "                count_trans_matrix[self.cond_idx(h_idx[i], h_idx[i+1]), h_idx[i+2]] += 1\n",
    "        \n",
    "        # self.A = sparse.csr_matrix(count_trans_matrix) # dense matrix of shape (h_dim **2, h_dim)\n",
    "        self.A = count_trans_matrix # dense matrix of shape (h_dim **2, h_dim)\n",
    "        # remember about padding for sequence of hidden states, eg {a, b} -> {START, START, a, b, TERM}\n",
    "        ########################\n",
    "        \n",
    "        self.A_rowsum = np.ravel(self.A.sum(axis=1))\n",
    "        \n",
    "        return self\n",
    "    \n",
    "    def tr_prob(self, j, u, v):\n",
    "        \"\"\"\n",
    "        A_ij = q(j | i) = q(j| u, v) with Laplace smoothing\n",
    "        \"\"\"\n",
    "        return self._tr_prob(self.cond_idx(u, v), j)\n",
    "    \n",
    "    def _tr_prob(self, i, j):\n",
    "        \"\"\"\n",
    "        A_ij = q(j | i) = q(j| u, v) with Laplace smoothing\n",
    "        \"\"\"\n",
    "        ########################\n",
    "        result = (self.A[i, j]+self.alpha)/(self.A_rowsum[i] + self.h_dim*self.alpha) # smoothed probability\n",
    "        ########################\n",
    "        return result\n",
    "    \n",
    "    def em_prob(self, k, j):\n",
    "        \"\"\"\n",
    "        j - hidden index\n",
    "        k - observable index\n",
    "        B_jk = e(x_k| j) with Laplace smoothing\n",
    "        \"\"\"\n",
    "        ########################\n",
    "        result = (self.B[j, k]+self.alpha)/(self.B_rowsum[j] + self.o_dim*self.alpha) # smoothed probability\n",
    "        ########################\n",
    "        return result\n",
    "        \n",
    "    def o_state(self, x):\n",
    "        \"\"\"\n",
    "        return index of observed state\n",
    "        \"\"\"\n",
    "        return self.observed_states.get(x, self.observed_states[self.REST])\n",
    "    \n",
    "    \n",
    "    def predict(self, X):\n",
    "        \"\"\"\n",
    "        Predict the most probable sequence of hidden states for every sequence of observed states\n",
    "        X - list of lists\n",
    "        \"\"\"\n",
    "        y_pred = [self._viterbi(seq) for seq in tqdm(X)]\n",
    "        return y_pred \n",
    "            \n",
    "    def _viterbi(self, X):\n",
    "        \"\"\"\n",
    "        X - list of observables\n",
    "        product of probabilities usually is not numerically stable\n",
    "        remember, that log(ab) = log(a) + log(b) and argmax[log(f(x))] = argmax[f(x)]\n",
    "        \"\"\"   \n",
    "        T = len(X)\n",
    "        \n",
    "        # pi[t, u, v] - max probability for any state sequence ending with y_t = v and y_{t-1} = u.\n",
    "        pi = np.zeros((T, self.h_dim, self.h_dim))\n",
    "        # backpointers, bp[t, u, v] = argmax probability for any state sequence ending with y_t = v and y_{t-1} = u.\n",
    "        bp = np.zeros((T, self.h_dim, self.h_dim), dtype=int)\n",
    "        \n",
    "        ###################\n",
    "        # fill tables pi and bp\n",
    "        # pi[t, u, v] = max_{w} [ pi[t-1, w, u] * q(v| w, u) * e(x_k| v) ]\n",
    "        # bp[t, u, v] = argmax_{w} [ pi[t-1, w, u] * q(v| w, u) * e(x_k| v) ]\n",
    "        \n",
    "        for t in range(1):  # loop to keep variables \n",
    "            x_t = self.o_state(X[t])\n",
    "            # start_idx = self.hidden_states[self.START]\n",
    "            for u in range(self.h_dim):\n",
    "                for v in range(self.h_dim):\n",
    "                    # log_prob[w] - log of probabilities to have `w` as hidden value at t = 0. \n",
    "                    log_prob = [np.log(self.tr_prob(v, w, u)) + np.log(self.em_prob(x_t, v))\n",
    "                                for w in range(self.h_dim)]\n",
    "            \n",
    "                    bp[t, u, v] = np.argmax(log_prob)\n",
    "                    pi[t, u, v] = np.max(log_prob)\n",
    "        for t in tqdm(range(1, T)):\n",
    "            x_t = self.o_state(X[t])\n",
    "            for u in range(self.h_dim):\n",
    "                for v in range(self.h_dim):\n",
    "                    # log_prob(w) = log( pi[t-1, w, u] * q(v| w, u) * e(x_k| v))\n",
    "                    log_prob = [pi[t-1, w, u] + np.log(self.tr_prob(v, w, u)) + np.log(self.em_prob(x_t, v))\n",
    "                                for w in range(self.h_dim)]\n",
    "                    bp[t, u, v] = np.argmax(log_prob)\n",
    "                    pi[t, u, v] = np.max(log_prob)  \n",
    "                        \n",
    "        ###################\n",
    "                    \n",
    "        term_idx = self.hidden_states[self.TERM]\n",
    "        \n",
    "        ###################\n",
    "        # r(u,v) = pi[T, u, v] * q(TERM | u, v)\n",
    "        # find argmax_{u, v} r(u, v)\n",
    "        r = [[ \n",
    "              pi[T-1, u, v] \n",
    "              + np.log(self.tr_prob(term_idx, u, v))\n",
    "            for v in range(self.h_dim)] for u in range(self.h_dim)]\n",
    "        u, v = np.unravel_index(np.argmax(r), (self.h_dim, self.h_dim))\n",
    "        ###################\n",
    "\n",
    "        h_states = [v, u]\n",
    "        ###################\n",
    "        # rollback backpointers\n",
    "        # y_{t-2} = bp[t, y_{t-1}, y_t]\n",
    "        # h_states is a reversed sequence of hidden states\n",
    "        for t in reversed(range(T)):\n",
    "            h_states.append(bp[t, h_states[-1], h_states[-2]])\n",
    "        ###################        \n",
    "            \n",
    "        return [self.hidden_idx2state[i] for i in reversed(h_states[:T])]"
   ]
  },
  {
   "cell_type": "markdown",
   "metadata": {},
   "source": [
    "## Task 2. Part of speech tagging (20%)\n",
    "\n",
    "Build Part-of-Speech tagging model using HMM. Estimate accuracy on test dataset."
   ]
  },
  {
   "cell_type": "code",
   "execution_count": 84,
   "metadata": {},
   "outputs": [
    {
     "name": "stderr",
     "output_type": "stream",
     "text": [
      "[nltk_data] Downloading package treebank to /home/amir/nltk_data...\n",
      "[nltk_data]   Package treebank is already up-to-date!\n"
     ]
    }
   ],
   "source": [
    "import nltk\n",
    "nltk.download('treebank')\n",
    "from nltk.corpus import treebank\n",
    "from sklearn import metrics"
   ]
  },
  {
   "cell_type": "code",
   "execution_count": 154,
   "metadata": {
    "scrolled": true
   },
   "outputs": [
    {
     "name": "stdout",
     "output_type": "stream",
     "text": [
      "sentence:  Pierre Vinken , 61 years old , will join the board as a nonexecutive director Nov. 29 .\n",
      "tags:  NNP NNP , CD NNS JJ , MD VB DT NN IN DT JJ NN NNP CD .\n"
     ]
    }
   ],
   "source": [
    "data = treebank.tagged_sents()[:3000]\n",
    "test_data = treebank.tagged_sents()[3000:3010]\n",
    "\n",
    "X_train = [[x[0] for x in y] for y in data]\n",
    "y_train = [[x[1] for x in y] for y in data]\n",
    "\n",
    "X_test = [[x[0] for x in y] for y in test_data]\n",
    "y_test = [[x[1] for x in y] for y in test_data]\n",
    "\n",
    "print('sentence: ', \" \".join(X_train[0]))\n",
    "print('tags: ', \" \".join(y_train[0]))"
   ]
  },
  {
   "cell_type": "code",
   "execution_count": 86,
   "metadata": {},
   "outputs": [
    {
     "name": "stdout",
     "output_type": "stream",
     "text": [
      "['NNS', 'IN', 'DT', 'CD', 'JJ', 'NNS', 'VBD', 'IN', '$', 'CD', 'CD', '-NONE-', 'IN', 'DT', 'JJS', 'NN', ',', 'TO', '$', 'CD', 'CD', '-NONE-', '.']\n",
      "['NNP', 'NNP', 'NNP', 'NNP', 'VBD', '-NONE-', 'NNS', 'VBD', 'PRP$', 'NN', 'IN', 'NNP', 'NNP', 'NNP', 'IN', 'NNP', 'IN', '$', 'CD', '-NONE-', 'DT', 'NN', ',', 'CC', '$', 'CD', 'CD', '-NONE-', '.']\n",
      "['NNP', 'NNP', 'NNP', 'VBD', '-NONE-', 'PRP$', 'NNP', 'CC', 'NNP', 'NN', 'VBD', 'DT', 'NN', 'IN', 'PRP$', 'NNP', 'NNP', 'NNP', 'TO', 'NNP', 'NNP', '.', 'NNP', 'IN', '$', 'CD', 'CD', '-NONE-', '.']\n",
      "['PRP', 'VBZ', 'CD', 'NNS', 'CC', 'VBZ', 'JJ', 'NN', 'IN', 'IN', '$', 'CD', 'CD', '-NONE-', '.']\n",
      "['DT', 'NN', 'POS', 'NN', 'NN', 'VBD', 'IN', 'NN', 'NNP', 'TO', '$', 'CD', 'CD', '-NONE-', 'IN', '$', 'CD', 'CD', '-NONE-', '.']\n",
      "['DT', 'NNP', 'VBZ', 'VBN', '-NONE-', 'TO', 'VB', 'DT', 'NN', 'TO', '$', 'CD', 'CD', '-NONE-', ',', 'CC', 'DT', 'NNP', 'VBZ', 'RB', 'VBN', '-NONE-', 'TO', 'VB', 'IN', 'JJ', 'NN', 'IN', 'DT', 'JJS', '.']\n",
      "['NNP', 'NNP', 'VBD', 'DT', 'NN', 'NN', 'IN', '$', 'CD', 'CD', '-NONE-', 'IN', 'NNP', ',', '-NONE-', 'VBG', 'DT', 'NN', 'POS', 'JJ', 'NN', ',', 'VBG', 'TO', 'NN', 'NNS', 'VBD', '-NONE-', 'NNP', '.']\n",
      "['NNS', 'IN', 'NNP', 'VBD', 'IN', '$', 'CD', 'CD', '-NONE-', ',', 'DT', 'JJ', 'CD', 'NN', 'NN', 'IN', 'DT', 'NN', 'JJR', ',', 'IN', 'NNS', 'VBD', 'RB', 'TO', '$', 'CD', 'CD', '-NONE-', ',', 'RB', 'CD', 'NN', 'IN', 'JJ', 'NNP', '.']\n",
      "['NN', 'NNS', 'VBD', '-NONE-', 'NNS', 'IN', 'DT', 'NN', 'IN', 'DT', 'NN', 'MD', 'VB', 'IN', 'DT', 'NN', 'NN', 'IN', '$', 'CD', 'CD', '-NONE-', '.']\n",
      "['IN', 'DT', 'JJ', 'NN', ',', 'NNP', 'NNP', 'VBZ', 'VBN', 'DT', 'NN', 'NN', 'IN', '$', 'CD', 'CD', '-NONE-', 'IN', 'IN', 'DT', 'NN', '.']\n",
      "['IN', 'NNP', 'TO', 'NNP', ',', 'DT', 'NN', 'POS', 'VBN', 'NNS', 'VBD', 'CD', 'NN', 'IN', 'DT', 'JJ', 'NN', 'JJ', 'NN', 'TO', '$', 'CD', 'CD', '-NONE-', '.']\n",
      "['NNS', 'VBD', 'IN', '$', 'CD', 'CD', '-NONE-', ',', 'RB', 'CD', 'NN', '.']\n",
      "['DT', 'JJ', ',', 'JJ', 'NN', 'IN', 'NNP', 'MD', 'VB', '$', 'CD', '-NONE-', '.']\n",
      "['IN', 'NNP', ',', 'NNP', 'NN', 'VBD', 'PRP$', 'VBN', 'NN', 'NN', 'NN', 'IN', 'CD', 'IN', '-NONE-', 'RB', 'VBG', 'NN', 'NN', 'NNS', ':', 'IN', 'DT', 'JJR', 'NN', 'NN', ',', 'NNP', 'POS', 'NN', 'NN', '-NONE-', 'MD', 'VB', 'RB', 'CD', 'NN', 'JJR', 'IN', 'NN', ':', 'DT', 'JJ', 'NN', 'IN', 'NNP', 'VBZ', 'IN', '$', 'CD', '-NONE-', '.']\n",
      "['DT', 'NN', 'MD', 'VB', 'IN', '``', 'NN', 'NNS', \"''\", 'NNS', 'WP', 'IN', 'CD', '-NONE-', 'VBP', 'CC', 'VBP', 'PRP$', 'CD', 'NN', ',', 'RB', 'RB', 'IN', 'PRP', 'VBD', '$', 'CD', '-NONE-', 'IN', 'CD', 'CC', '$', 'CD', '-NONE-', 'IN', 'CD', '.']\n",
      "['NNP', 'NNP', 'NNP', ',', 'VBN', '-NONE-', 'IN', 'NNP', ',', 'NNP', ',', 'VBD', 'VBN', '$', 'CD', 'CD', '-NONE-', '-NONE-', '-NONE-', 'TO', 'VB', 'NNP', 'IN', 'NNP', 'NNP', ',', 'RB', 'IN', 'DT', '$', 'CD', 'CD', '-NONE-', 'NN', '-NONE-', 'NNP', 'NNP', 'NNS', '-NONE-', 'IN', 'PRP$', 'NN', 'CC', 'DT', '$', 'CD', 'CD', '-NONE-', '-NONE-', 'NNP', 'VBZ', '-NONE-', 'PRP$', 'NN', 'VBZ', 'IN', '-NONE-', '.']\n",
      "['NNP', 'IN', 'NNP', 'NNP', ',', 'NNP', ',', 'NNP', ',', 'VBZ', 'PRP$', 'JJ', 'NN', 'NN', 'IN', 'IN', '$', 'CD', 'CD', '-NONE-', '.']\n",
      "['NNP', 'IN', 'NNP', 'NNP', 'NNS', 'VBD', 'NN', 'IN', '$', 'CD', '-NONE-', ',', 'IN', 'CD', 'NNS', ',', 'IN', 'NNP', 'NNP', 'NNP', 'NNP', 'JJ', 'NN', '.']\n",
      "['NNP', 'NNP', 'NNP', 'VBD', 'VBN', '-NONE-', '-NONE-', 'TO', 'VB', 'IN', '$', 'CD', 'CD', '-NONE-', 'TO', 'PRP$', 'JJ', 'CC', 'JJ', 'NNS', 'IN', 'JJ', 'NNS', 'VBN', '-NONE-', 'IN', 'NN', 'NNS', 'IN', 'DT', 'JJ', 'NN', 'NN', '.']\n",
      "['DT', 'NN', 'VBD', 'IN', '$', 'CD', 'CD', '-NONE-', 'JJR', 'IN', '-NONE-', 'RB', 'VBN', '-NONE-', 'IN', 'DT', 'NNP', 'NNP', 'NNP', 'CC', 'NN', 'NNS', 'VBD', '-NONE-', 'PRP', 'MD', 'VB', 'DT', 'JJS', 'RB', 'VBN', '-NONE-', 'IN', 'DT', 'NN', 'CC', 'JJ', 'NN', '.']\n",
      "['NN', 'NN', 'NNP', 'NNP', 'NNP', 'VBD', 'NNP', '-NONE-', 'TO', 'VB', 'JJ', 'NNS', 'IN', 'IN', '$', 'CD', 'TO', '$', 'CD', '-NONE-', 'DT', 'TO', 'NNP', 'NNS', 'WP', '-NONE-', 'VBP', 'VBN', 'JJ', 'NN', 'IN', 'NNP', 'CD', ',', 'VBG', 'IN', 'CD', 'CD', 'NNS', 'WP', '-NONE-', 'VBP', 'VBN', 'IN', 'DT', 'NN', '.']\n",
      "['NNP', 'NNP', 'VBD', '-NONE-', 'DT', 'NN', 'MD', 'VB', 'PRP', 'TO', 'VB', 'PRP$', 'CD', 'NNS', 'IN', '$', 'CD', '-NONE-', 'DT', 'NN', '.']\n",
      "['IN', 'CD', ',', 'NNP', 'NNP', 'VBD', 'NNS', 'IN', '$', 'CD', 'CD', '-NONE-', ',', 'CC', '$', 'CD', '-NONE-', 'DT', 'NN', '.']\n",
      "['IN', 'NNP', 'NNP', 'NNP', 'NNP', 'JJ', 'NN', 'NN', ',', 'NNP', 'NNP', 'VBD', 'IN', '$', 'CD', '-NONE-', ',', 'RB', 'CD', 'NNS', '.']\n",
      "['DT', '$', 'CD', 'CD', '-NONE-', 'NNP', 'CD', 'NN', 'IN', 'NNP', ',', 'NNP', ',', 'VBD', 'VBN', '-NONE-', 'IN', 'CD', '.']\n",
      "['IN', 'DT', 'VBN', 'CD', 'NN', ',', 'DT', 'NNP', 'NNP', 'VBD', '-NONE-', 'NNP', 'NNP', 'MD', 'VB', 'PRP$', 'NN', 'NNS', 'IN', '$', 'CD', 'CD', '-NONE-', '-NONE-', 'TO', 'VB', 'IN', 'DT', 'NN', '.']\n",
      "['IN', 'NNP', ',', 'DT', 'NN', 'VBD', 'IN', 'IN', '$', 'CD', 'CD', 'CC', '$', 'CD', 'CD', '-NONE-', 'IN', 'DT', 'NN', 'POS', 'NN', 'NN', 'VBD', 'JJ', 'CC', 'MD', 'VB', 'VBN', '-NONE-', ',', 'CC', 'NN', '.']\n",
      "['IN', 'PRP$', 'NN', ',', 'NNP', 'NNP', 'VBD', 'DT', 'JJ', '$', 'CD', 'CD', '-NONE-', 'TO', 'DT', 'NN', 'POS', 'NNS', '.']\n",
      "['NNP', 'NNP', 'RB', 'VBZ', 'DT', 'JJ', 'JJ', 'NN', 'IN', 'PRP$', 'JJ', 'NN', 'JJ', 'NNS', 'IN', 'DT', 'NNP', 'NNP', 'NNP', 'VBZ', 'VBN', '-NONE-', 'IN', '$', 'CD', 'CD', '-NONE-', '.']\n",
      "['NNP', 'NNP', 'VBZ', 'VBG', 'IN', '$', 'CD', 'CD', '-NONE-', 'IN', 'NN', 'NNS', '-NONE-', '-NONE-', 'TO', 'VB', 'IN', 'NNP', 'CD', '.']\n",
      "['JJ', 'NN', 'NNP', 'NNP', 'VBD', '-NONE-', 'TO', 'VB', '$', 'CD', 'CD', '-NONE-', 'IN', 'JJ', 'NN', 'IN', 'PRP$', 'NNP', 'NNP', 'JJ', 'NN', '.']\n",
      "['NNS', 'VBN', '-NONE-', 'IN', 'DT', 'NNPS', 'CC', 'NNP', 'NNP', 'IN', 'DT', 'VBG', 'NN', 'VBD', 'IN', 'NNP', 'NNP', 'NNP', 'MD', 'VB', 'DT', 'RB', '$', 'CD', 'CD', '-NONE-', 'IN', 'NN', '-NONE-', 'PRP', 'VBZ', 'VBG', 'DT', 'JJ', 'NN', '-NONE-', 'IN', 'NNP', 'NNP', 'VBZ', 'CC', 'IN', 'DT', 'JJ', 'NN', '-NONE-', 'PRP', 'VBZ', '-NONE-', 'VBZ', 'VBN', '-NONE-', '.']\n",
      "['DT', 'NNS', 'RB', 'VBD', 'IN', 'NNP', 'NNP', 'VBZ', '-NONE-', 'VBG', 'RB', 'DT', '$', 'CD', 'CD', '-NONE-', 'IN', 'NN', 'VBG', 'JJ', 'NNP', '.']\n",
      "['DT', 'NN', 'IN', 'DT', 'NNS', 'IN', 'DT', 'NN', 'VBD', 'NNP', 'NNP', 'NN', 'TO', 'VB', '$', 'CD', '-NONE-', 'NN', '-NONE-', 'TO', 'VB', 'IN', '$', 'CD', '-NONE-', 'IN', 'NNP', 'NNP', 'NNP', 'NNP', 'JJ', 'NN', '.']\n",
      "['NNS', 'VBD', 'NN', 'IN', 'NNP', 'NNP', 'POS', 'NN', '-NONE-', 'TO', 'VB', 'PRP$', '$', 'CD', 'CD', '-NONE-', 'JJ', 'NN', 'TO', 'NNP', 'NNP', 'POS', 'NN', 'MD', 'VB', 'DT', 'NN', 'IN', 'DT', 'JJ', 'NN', '.']\n",
      "['DT', 'JJ', 'NN', 'VBD', '-NONE-', 'PRP', 'VBZ', '-NONE-', 'EX', 'VBP', 'JJR', 'IN', 'CD', 'JJ', 'NNS', 'IN', 'NNS', 'VBN', '-NONE-', 'IN', '$', 'CD', 'CD', 'CC', '$', 'CD', 'CD', '-NONE-', ':', 'RB', 'DT', 'NNP', 'NN', 'NN', '.']\n",
      "['NNS', 'VBP', 'NNP', 'NNP', 'POS', 'JJ', 'NN', 'NN', 'IN', 'IN', '$', 'CD', '-NONE-', 'DT', 'NN', '.']\n",
      "['IN', 'IN', 'DT', 'NN', ',', 'NNP', 'NNP', 'VBZ', 'VBG', 'IN', '$', 'CD', 'CD', '-NONE-', 'IN', 'NNS', ',', 'RB', 'DT', 'VBN', 'TO', 'DT', 'CD', 'NN', ',', 'WDT', '-NONE-', 'VBZ', 'VBN', 'DT', 'NN', 'IN', 'NNP', 'NNP', 'POS', 'NNS', '.']\n",
      "['IN', 'DT', 'NNP', 'NN', 'CC', 'NN', 'NNS', ',', 'DT', 'NN', 'MD', 'VB', 'VBN', 'JJ', '-NONE-', 'TO', 'VB', 'DT', 'NN', 'IN', '$', 'CD', 'CD', '-NONE-', '-NONE-', 'IN', 'DT', 'JJ', 'DT', 'IN', 'CD', 'RB', 'IN', 'DT', '$', 'CD', 'CD', '-NONE-', '-NONE-', 'PRP', 'VBD', '-NONE-', '.']\n",
      "['IN', 'DT', 'JJ', 'NN', ',', 'VBD', 'PRP', 'VBN', 'RB', ',', 'NNP', 'NNP', 'MD', 'VB', 'VBN', 'DT', '$', 'CD', 'CD', '-NONE-', 'NN', '.']\n",
      "['-NONE-', 'VBN', '-NONE-', 'IN', 'DT', 'NN', 'IN', 'DT', 'NN', ',', 'NNP', 'NNP', 'VBD', 'VBN', '-NONE-', '$', 'CD', '-NONE-', 'IN', 'NNP', 'NNP', 'JJ', 'NN', '.']\n",
      "['IN', 'NNP', 'NNP', ',', 'PRP', 'MD', 'VB', 'VBN', '-NONE-', '$', 'CD', '-NONE-', '.']\n",
      "['NNP', 'VBD', '-NONE-', 'PRP', 'MD', 'VB', 'NN', 'NNS', '-NONE-', 'TO', 'VB', 'PRP$', 'JJ', 'NN', 'IN', '$', 'CD', 'CD', '-NONE-', ':', 'DT', 'JJS', 'IN', 'DT', 'VBG', 'NN', '.']\n",
      "['IN', 'NN', ',', 'DT', 'NNP', 'NNP', 'VBD', 'DT', 'JJ', '$', 'CD', '-NONE-', '.']\n",
      "['NN', ',', 'NN', 'NNS', 'RB', 'VBP', 'DT', '$', 'CD', 'CD', '-NONE-', 'JJ', '.']\n",
      "['NNP', 'NNP', 'CC', 'NNP', ',', 'DT', 'JJ', 'NNS', 'NN', ',', 'VBD', '-NONE-', 'PRP$', 'NNP', 'NNP', 'NN', 'VBD', 'NNP', 'NNP', 'IN', '$', 'CD', 'CD', '-NONE-', '.']\n",
      "['NNP', 'NNP', 'NNP', 'VBD', '-NONE-', 'PRP', 'VBD', 'DT', '$', 'CD', 'CD', '-NONE-', 'NN', 'IN', 'PRP$', 'NNP', 'NNP', 'NN', 'TO', 'DT', 'NN', 'VBD', '-NONE-', 'IN', 'DT', 'NN', 'POS', 'NN', ',', 'NNP', 'NNP', 'NNP', ',', 'CC', 'JJ', 'NNS', '.']\n",
      "['NNS', 'IN', 'DT', 'NNS', 'IN', 'NNS', 'WDT', '-NONE-', 'RB', 'MD', 'VB', 'JJ', 'IN', 'JJ', 'NN', 'VBD', 'IN', '$', 'CD', 'CD', '-NONE-', '-NONE-', 'IN', 'CD', ',', 'DT', 'RB', 'JJ', 'NN', 'IN', 'DT', '$', 'CD', 'CD', '-NONE-', 'IN', 'NNP', 'NN', 'NNS', 'DT', 'NN', ',', 'VBG', 'TO', 'DT', 'NN', 'TO', 'NNP', 'NNP', 'NNP', 'NNP', 'NNP', '.']\n",
      "['NNP', 'RB', 'VBD', 'PRP$', 'JJ', 'NN', 'IN', 'DT', 'CC', 'DT', 'NN', 'POS', 'NNP', 'NNP', 'NNS', 'VBP', 'VBG', 'RB', 'IN', 'PRP$', 'JJ', 'NN', 'IN', 'CD', 'JJ', 'NNS', '-LRB-', '$', 'CD', '-NONE-', '-RRB-', '.']\n",
      "['IN', 'DT', 'NNP', 'NNP', 'NNP', 'NN', ',', 'NNP', 'NNS', 'VBD', 'RB', 'CD', 'JJ', 'NNS', 'TO', '$', 'CD', '-NONE-', '.']\n",
      "['JJ', 'NNS', 'RB', 'RB', 'VBD', 'RP', 'CD', 'JJ', 'NN', 'JJ', 'JJ', 'NNS', 'VBG', '$', 'CD', 'CD', '-NONE-', ',', 'DT', 'NNP', 'NNP', 'NNP', 'NNP', 'NNP', 'VBD', '-NONE-', '-NONE-', '.']\n",
      "['JJR', 'DT', 'NN', ',', 'JJ', 'NNS', 'VBD', 'RP', 'DT', 'JJ', ',', '$', 'CD', 'CD', '-NONE-', 'JJ', 'NNS', 'JJ', 'NN', '.']\n",
      "['JJ', 'NNS', 'VBP', 'VBN', 'JJ', 'NN', 'IN', 'JJ', 'NNS', 'TO', 'RBR', 'IN', 'CD', 'NN', 'IN', 'DT', '$', 'CD', 'CD', '-NONE-', 'IN', 'JJ', 'NNS', 'JJ', ',', 'CC', 'PRP$', 'NNS', 'VBP', 'VBG', 'IN', 'DT', 'JJ', 'NN', '.']\n",
      "['PRP', 'RB', 'VBP', 'VBN', 'JJ', 'NNS', 'IN', 'NNP', 'NNP', 'POS', 'JJ', 'NN', ',', '-NONE-', 'VBG', '$', 'CD', 'CD', '-NONE-', 'IN', 'NNP', 'NNP', 'NNS', 'IN', 'DT', 'JJ', 'CD', 'NNS', 'IN', 'DT', 'NN', ',', 'CC', 'RB', 'DT', 'NN', 'IN', 'DT', 'JJ', 'NN', 'VBN', '-NONE-', '.']\n",
      "['JJ', 'NN', 'NN', 'NNP', 'NNP', ',', 'IN', 'PRP$', 'NNP', 'NNP', 'NNP', 'JJ', 'NN', ',', 'VBD', 'PRP$', '$', 'JJ', '-NONE-', 'NN', 'NN', 'IN', 'DT', 'DT', 'JJ', 'NNS', 'JJ', 'IN', 'NNP', 'NNP', ',', 'DT', 'NN', 'IN', 'NNS', 'VBN', '-NONE-', 'IN', 'DT', 'NNPS', '.']\n",
      "['NNP', 'POS', 'NNS', 'IN', 'NN', ',', 'JJ', 'JJ', 'NNS', ',', 'CC', 'JJ', 'NN', 'NNS', 'VBD', 'IN', 'DT', 'JJ', '$', 'CD', 'CD', '-NONE-', 'IN', 'NNP', 'TO', '$', 'CD', 'CD', '-NONE-', ',', 'DT', 'NNP', 'NNP', 'VBD', '-NONE-', '-NONE-', '.']\n",
      "['DT', 'NN', 'VBZ', 'DT', 'JJR', '$', 'CD', 'CD', '-NONE-', 'NN', 'IN', 'DT', 'NN', 'POS', 'JJ', 'NNS', 'IN', 'NNP', 'TO', '$', 'CD', 'CD', '-NONE-', '.']\n",
      "['DT', 'NNP', 'CC', 'NNP', 'NNP', 'VBP', 'VBG', 'JJ', 'NNS', 'IN', 'JJ', 'NN', 'IN', 'NNP', 'IN', '$', 'CD', 'CD', '-NONE-', 'IN', 'JJ', 'JJ', 'NNS', 'VBD', '-NONE-', 'TO', 'DT', 'NNP', 'NN', ',', 'DT', 'NNP', 'NNP', 'VBD', '-NONE-', '-NONE-', '.']\n",
      "['CC', 'DT', 'JJ', 'NN', 'RB', 'MD', 'VB', 'VBN', '-NONE-', 'IN', 'NNP', 'VBD', 'DT', 'NN', '-NONE-', '-NONE-', 'TO', 'VB', 'DT', '$', 'CD', 'CD', '-NONE-', 'NN', ',', 'WDT', '-NONE-', 'VBD', 'VBN', '-NONE-', 'TO', 'DT', 'NN', 'POS', 'JJ', 'JJ', 'NNP', 'NN', 'IN', 'DT', 'NNS', 'VBD', 'NN', 'IN', 'CD', '-NONE-', '.']\n",
      "['NNS', 'VBD', '$', 'CD', 'CD', '-NONE-', 'IN', 'NNS', '-NONE-', 'IN', 'NNP', ',', 'RB', 'DT', 'JJ', 'IN', 'DT', '$', 'CD', 'CD', '-NONE-', 'IN', 'NNP', ',', 'DT', 'NNP', 'NNP', 'VBD', '-NONE-', '-NONE-', '.']\n",
      "['IN', 'DT', 'JJ', 'NN', ',', 'DT', 'NN', 'VBD', '-NONE-', 'NN', 'NN', 'VBD', 'IN', 'DT', 'JJ', 'NN', 'IN', '$', 'CD', 'CD', '-NONE-', ',', 'RB', 'RB', 'JJ', 'IN', 'DT', '$', 'CD', 'CD', '-NONE-', 'VBN', '-NONE-', 'IN', 'NNP', '.']\n",
      "['DT', 'NN', 'VBD', '-NONE-', 'NNS', 'IN', 'JJ', 'NNS', ':', 'DT', 'VBN', '-NONE-', 'TO', 'VB', 'JJR', 'IN', 'CD', 'NNS', ':', 'VBD', 'CD', 'NN', 'IN', 'NNP', 'TO', '$', 'CD', 'CD', '-NONE-', 'RB', '-NONE-', 'VBG', 'CD', 'NN', 'DT', 'NN', 'RB', '.']\n",
      "['NNS', 'IN', 'JJ', 'NNS', 'VBD', 'RB', 'CD', 'NN', 'TO', '$', 'CD', 'CD', '-NONE-', 'IN', '-NONE-', 'VBG', 'CD', 'NN', 'DT', 'NN', 'RB', '.']\n",
      "['NN', 'NNS', 'VBD', 'CD', 'NN', 'TO', '$', 'CD', 'CD', '-NONE-', 'IN', '-NONE-', 'VBG', 'CD', 'NN', 'IN', 'NNP', '.']\n",
      "['NNS', 'POS', 'NNS', 'IN', 'JJ', 'NNS', 'VBD', 'CD', 'NN', 'IN', 'NNP', 'TO', '$', 'CD', 'CD', '-NONE-', ',', '-NONE-', 'VBN', '-NONE-', 'IN', 'NN', 'IN', 'DT', 'NN', 'NN', 'NNS', 'NN', '.']\n",
      "['IN', 'PRP$', 'NN', 'NN', 'NN', ',', 'DT', 'NNP', 'NNP', 'VBD', '-NONE-', 'JJ', 'NN', ',', 'WDT', '-NONE-', 'VBZ', 'IN', 'RB', 'NN', 'IN', 'DT', 'NN', 'NN', ',', 'VBD', 'JJ', 'CD', 'NN', '-NONE-', 'IN', 'NNP', 'TO', 'DT', 'JJ', 'NN', 'IN', '$', 'CD', 'CD', '-NONE-', '.']\n",
      "['NN', 'IN', 'JJ', ',', 'JJ', 'NN', 'VBD', 'JJ', 'CD', 'NN', 'TO', 'DT', 'JJ', 'NN', 'IN', '$', 'CD', 'CD', '-NONE-', 'IN', 'DT', 'NN', 'VBG', 'NN', '.']\n",
      "['NNP', 'NN', 'NN', 'VBD', 'CD', 'NN', 'TO', '$', 'CD', 'CD', '-NONE-', '.']\n",
      "['-NONE-', 'VBG', 'IN', 'DT', 'NNS', 'IN', 'NNP', 'NNP', 'POS', '``', 'DT', 'NNP', 'NNP', 'NNP', \"''\", '-LRB-', 'NNP', ',', 'CD', 'NNS', ',', '$', 'CD', '-NONE-', '-RRB-', ',', 'NN', 'NNS', 'IN', 'DT', 'NNS', 'IN', 'DT', 'NNP', 'VBP', 'DT', 'NN', 'IN', 'NN', '.']\n",
      "['IN', 'NNP', 'NNP', 'POS', '``', 'PRP', 'NNP', 'NNP', ',', \"''\", '-LRB-', 'NNP', ',', 'CD', 'NNS', ',', '$', 'CD', '-NONE-', '-RRB-', ',', 'DT', 'NNP', 'VBP', 'NN', 'TO', 'NN', ',', 'IN', 'DT', 'JJ', 'NN', '-NONE-', 'PRP', 'MD', 'VB', 'RB', 'VBN', '-NONE-', 'TO', 'VB', '-NONE-', 'DT', '``', 'NN', '.', \"''\"]\n",
      "['``', 'NNP', 'NNP', \"''\", '-LRB-', 'NNP', ',', 'CD', 'NNS', ',', '$', 'CD', '-NONE-', '-RRB-', 'IN', 'NNP', 'NNP', 'VBZ', 'NN', 'RB', '-NONE-', '.']\n",
      "['IN', 'NNP', ',', 'DT', 'JJ', 'NN', 'VBZ', 'NNS', 'TO', 'VB', 'RP', 'PRP$', 'NNS', 'IN', '-NONE-', 'VBG', 'NNS', ',', 'NN', 'NNS', 'CC', 'NNS', 'NNS', 'CC', 'VB', 'DT', '$', 'CD', '-NONE-', 'NN', '.']\n",
      "['DT', 'NNP', 'NN', 'VBD', 'NNP', 'NNP', 'NNP', 'NNP', 'POS', 'NN', '-NONE-', 'TO', 'VB', 'DT', '$', 'CD', 'CD', '-NONE-', 'NN', 'NN', 'IN', 'DT', 'JJ', 'NN', 'IN', 'DT', 'NNP', 'NNP', 'CC', 'NNP', 'NNP', 'NNP', 'CD', 'NNS', 'IN', 'RB', '.']\n",
      "['IN', 'JJR', 'NN', ',', 'NNP', 'NNP', ',', 'IN', '-NONE-', 'VBG', 'JJ', 'NNS', 'IN', 'NNP', 'NN', ',', 'VBD', '$', 'CD', 'CD', '-NONE-', 'IN', 'NNS', 'TO', 'DT', 'RB', 'VBN', 'NNP', 'NN', '.']\n",
      "['NNP', 'VBD', 'IN', 'NNP', '-NONE-', 'PRP', 'MD', 'VB', '$', 'CD', 'CD', '-NONE-', 'IN', 'NNP', 'IN', 'DT', 'NN', 'NN', 'VBD', 'VBN', '-NONE-', '.']\n",
      "['DT', 'NN', 'IN', 'NNP', 'NNP', 'VBD', 'DT', 'JJ', 'NN', 'NN', 'WRB', 'PRP', 'VBD', 'IN', 'NN', 'IN', 'NNP', 'IN', '$', 'CD', 'CD', '-NONE-', '-NONE-', '.']\n",
      "['NNP', 'NNP', 'VBD', '-NONE-', 'PRP', 'VBD', '-NONE-', 'TO', 'VB', 'CD', 'CD', 'JJ', 'NNS', '-LRB-', '$', 'CD', 'CD', '-NONE-', '-RRB-', 'IN', 'CD', 'NN', 'JJ', 'NNS', 'JJ', 'NNP', 'CD', ',', 'CD', ',', 'RB', 'IN', 'CD', 'NN', 'NN', 'NNS', '.']\n",
      "['DT', 'JJ', 'JJ', 'NN', 'NN', 'VBD', '-NONE-', 'DT', 'NN', 'NN', 'VBZ', 'DT', 'NN', 'TO', 'VB', '$', 'CD', '-NONE-', 'NN', 'NN', 'IN', 'NNS', 'IN', 'NN', 'CC', 'VBN', 'NN', 'TO', 'DT', 'NN', 'IN', 'NN', '.']\n",
      "['DT', 'NN', 'POS', 'NNP', 'NNP', 'NNP', 'VBZ', 'VBN', '-NONE-', 'TO', 'VB', 'NNP', 'NNP', '$', 'CD', '-NONE-', 'IN', 'JJ', 'NNS', 'IN', 'PRP$', 'NN', 'NNS', 'VBP', 'JJ', '.']\n",
      "['DT', 'NN', 'IN', 'DT', 'NNP', 'NNP', 'IN', 'NNP', 'VBD', 'VBN', '-NONE-', 'IN', '$', 'CD', '-NONE-', ',', 'RB', '$', 'CD', '-NONE-', 'IN', 'DT', 'JJ', 'NN', 'JJ', 'NNP', '.']\n",
      "['NNS', 'RB', 'VBP', 'VBN', '-NONE-', 'IN', '$', 'CD', '-NONE-', ',', 'NN', '-NONE-', ',', 'CC', '$', 'CD', '-NONE-', ',', 'VBN', '-NONE-', '.']\n",
      "['DT', 'JJ', 'NN', 'IN', 'DT', 'JJ', 'NN', 'IN', 'DT', 'NN', 'VBZ', '$', 'CD', '-NONE-', ',', '-NONE-', 'VBN', '-NONE-', 'NNP', 'CD', ',', 'CD', '.']\n",
      "['IN', 'DT', 'JJ', 'CD', 'NNS', ',', 'JJ', 'NNS', 'VBP', 'VBN', 'PRP$', 'NNS', 'IN', 'NNP', 'TO', '$', 'CD', 'CD', '-NONE-', '.']\n",
      "['IN', 'NNP', ',', 'IN', 'NN', ',', 'DT', 'NN', 'POS', 'NNP', 'IN', 'NNP', 'VBD', '$', 'CD', 'CD', '-NONE-', 'IN', 'JJ', 'NN', '-NONE-', 'IN', 'CD', ',', 'CD', 'NNS', 'DT', 'NNP', 'NN', 'NN', 'IN', 'DT', 'NN', '.']\n",
      "['IN', 'NNP', ',', 'PRP', 'VBD', 'JJ', 'CC', 'VBD', 'DT', '$', 'CD', '-NONE-', 'NN', '.']\n",
      "['JJ', 'NNS', 'IN', 'PRP$', 'NNS', 'IN', 'CD', 'CC', 'CD', 'VBD', 'DT', 'NN', 'IN', '$', 'CD', '-NONE-', 'IN', 'NNS', 'IN', 'CD', 'NNS', ':', 'JJ', 'JJ', 'NN', 'TO', 'PRP$', 'JJ', 'NN', 'IN', '$', 'CD', '-NONE-', '.']\n",
      "['NNP', 'NNP', 'VBD', '-NONE-', 'PRP', 'VBD', 'DT', 'NN', 'IN', 'NNP', 'NNPS', 'CC', 'NNP', 'NNP', 'IN', 'DT', 'NNP', 'CC', 'NNP', 'NNP', 'NNP', 'NNP', 'IN', '$', 'CD', 'CD', '-NONE-', '.']\n",
      "['DT', 'JJ', 'NN', ',', 'WDT', '-NONE-', 'VBZ', 'CD', 'NN', 'NNS', 'IN', 'JJ', 'JJ', 'NNP', ',', 'VBD', 'NNS', 'IN', '$', 'CD', 'CD', '-NONE-', 'IN', 'DT', 'NN', 'IN', 'NNP', '.']\n",
      "['DT', 'NNP', 'RB', 'VBZ', 'IN', '$', 'CD', 'CD', '-NONE-', '-NONE-', 'RB', 'IN', 'JJ', 'NN', 'IN', 'IN', 'DT', 'JJ', 'NN', 'NN', 'IN', '$', 'CD', 'CD', '-NONE-', '.']\n",
      "['DT', 'NNP', ',', 'NNP', ',', 'NN', 'VBZ', 'VBN', 'TO', 'DT', 'NN', 'IN', 'NNP', 'IN', 'NNP', 'NNP', 'IN', 'DT', 'NN', 'IN', 'DT', 'VBN', 'NN', 'IN', 'IN', '$', 'CD', '-NONE-', 'DT', 'NN', 'WDT', '-NONE-', 'VBZ', 'JJ', 'NNP', '.']\n",
      "['NNP', 'NNP', 'VBZ', 'VBN', 'DT', 'NN', 'NN', '-NONE-', 'IN', 'NNP', 'NNP', 'CC', 'NNP', 'NNP', ',', 'IN', 'WDT', 'DT', 'IN', 'PRP$', 'JJ', 'NNS', 'MD', 'VB', 'VBN', '-NONE-', 'IN', '$', 'CD', '-NONE-', 'DT', ',', 'CC', '$', 'CD', 'CD', '-NONE-', '-NONE-', '.']\n",
      "['DT', 'NNP', 'NN', 'VBD', '-NONE-', 'TO', 'VB', 'VBN', '-NONE-', 'IN', 'DT', 'NN', 'IN', 'NNP', 'NNP', 'IN', 'NNP', 'IN', '$', 'CD', '-NONE-', 'DT', 'NN', '.']\n",
      "['NNP', 'NNP', 'NNPS', 'CC', 'NNP', ',', 'DT', 'NNP', 'NN', 'NN', ',', 'VBD', 'CD', 'TO', 'CD', 'CD', 'IN', '-NONE-', 'VBG', 'DT', 'JJ', 'NN', 'IN', '$', 'CD', 'CD', '-NONE-', 'IN', 'DT', '$', 'CD', 'CD', '-NONE-', 'JJ', 'NN', 'RB', 'JJ', 'TO', 'PRP$', 'JJ', 'NN', 'VBG', 'NN', '.']\n",
      "['DT', 'CD', 'NNS', 'VBD', '-NONE-', 'PRP', 'VBD', 'IN', 'DT', 'JJ', 'NN', 'NN', 'IN', 'WDT', 'NNP', 'MD', 'VB', 'DT', 'NN', 'NN', 'IN', 'DT', 'IN', 'NNP', 'POS', 'JJ', 'NNS', 'IN', '$', 'CD', '-NONE-', 'DT', '-NONE-', '.']\n",
      "['IN', 'DT', 'JJ', 'NN', ',', 'NNP', 'VBD', 'JJ', 'NN', 'IN', '$', 'CD', 'CD', '-NONE-', ',', 'CC', 'CD', 'NNS', 'DT', 'NN', ',', 'IN', 'NN', 'IN', '$', 'CD', 'CD', '-NONE-', '.']\n",
      "['DT', 'NNP', 'NNP', 'NNP', 'VBZ', 'VBN', 'JJ', 'NNS', 'IN', 'NNS', 'WP', '-NONE-', 'VBP', '-NONE-', 'TO', 'VB', 'JJ', 'NN', 'IN', 'NNS', 'WP', '-NONE-', 'VBP', 'PRP', 'JJR', 'IN', '$', 'CD', '-NONE-', 'IN', 'NN', '.']\n",
      "['DT', 'NNP', 'NNS', 'VBP', 'IN', 'DT', 'CD', 'NN', 'WDT', '-NONE-', 'VBZ', 'NN', 'WP', '-NONE-', 'VBZ', 'JJR', 'IN', '$', 'CD', '-NONE-', 'IN', 'NN', 'IN', 'DT', 'NN', 'CC', 'NN', 'IN', 'CD', 'CC', 'JJR', 'JJ', 'NNS', '``', 'IN', 'DT', 'NN', 'IN', 'NN', 'CC', 'NN', \"''\", 'TO', 'VB', 'DT', 'NN', 'IN', 'DT', 'NN', 'VBN', '-NONE-', 'IN', 'NN', 'CD', '.']\n",
      "['JJ', 'NNS', 'VBP', '$', 'CD', '-NONE-', 'RB', ':', 'IN', 'NNP', ',', 'NNP', 'VBD', 'DT', 'NN', 'WDT', '-NONE-', 'MD', 'VB', 'VBN', 'PRP$', 'NN', 'IN', 'CD', 'NN', '.']\n",
      "['NN', 'NNP', 'NNP', 'VBZ', 'VBG', 'DT', 'NNPS', 'NNP', 'IN', 'NNP', 'NNP', 'IN', '$', 'CD', 'CD', '-NONE-', ',', '-NONE-', 'VBG', '-NONE-', 'PRP', 'VBD', 'DT', '``', 'NN', '-NONE-', 'TO', 'VB', 'CC', 'VB', \"''\", 'PRP', 'IN', '-NONE-', 'VBG', 'DT', 'NNS', 'POS', 'NN', 'NN', '.']\n",
      "['DT', 'NN', 'RB', 'VBD', 'IN', 'IN', 'DT', 'NN', 'PRP', 'VBD', 'CD', 'NNS', ',', 'CC', 'RB', '$', 'CD', '-NONE-', ',', 'IN', 'DT', 'NN', '.']\n",
      "['DT', 'NN', 'VBD', 'VBN', '-NONE-', 'TO', 'VB', 'RB', 'CD', 'CD', 'NNS', '-LRB-', '$', 'CD', '-NONE-', '-RRB-', ',', 'CC', 'NNP', 'RB', 'VBD', '-NONE-', 'TO', 'VB', 'PRP', 'IN', 'RB', '.']\n",
      "['NNP', 'NNP', 'NNP', 'VBD', '-NONE-', 'TO', 'VB', 'NNP', 'NNP', 'NNP', ',', 'WDT', '-NONE-', 'VBZ', 'CD', 'NN', 'NNS', 'CC', 'JJ', 'NNS', 'IN', '$', 'CD', 'CD', '-NONE-', '.']\n",
      "['NNP', 'NNP', 'NNP', 'VBD', 'DT', 'NN', 'IN', 'CD', 'IN', 'PRP$', 'NN', 'NNS', 'TO', 'NNP', 'NNP', 'IN', '$', 'CD', 'CD', '-NONE-', 'IN', 'NN', 'CC', 'NNS', ',', '-NONE-', 'VBG', 'DT', 'CD', 'NN', 'NN', 'NN', 'IN', 'DT', 'JJ', 'NN', '.']\n",
      "['NNP', 'NNP', 'NNP', ',', 'WDT', '-NONE-', 'VBZ', 'CC', 'VBZ', 'DT', 'NN', 'IN', 'NN', 'NN', 'NNS', ',', 'VBD', '-NONE-', 'NNP', 'NNS', 'VBD', 'CD', 'NN', 'TO', '$', 'CD', 'CD', '-NONE-', 'IN', '$', 'CD', 'CD', '-NONE-', 'DT', 'NN', 'RBR', '.']\n",
      "['NNS', 'IN', 'NNS', 'JJ', 'JJR', 'IN', 'CD', 'NN', 'VBD', 'CD', 'NN', 'TO', '$', 'CD', 'CD', '-NONE-', 'IN', '$', 'CD', 'CD', '-NONE-', '.']\n",
      "['NNP', 'VBD', '-NONE-', 'DT', 'NN', 'IN', 'DT', 'JJ', 'CC', 'JJ', 'NNS', 'RB', 'MD', 'VB', 'RB', 'CD', 'CD', 'NNS', '-LRB-', '$', 'CD', 'CD', '-NONE-', '-RRB-', '.']\n",
      "['NNP', 'NNP', 'NNP', 'VBD', 'DT', 'NN', '$', 'CD', 'CD', '-NONE-', 'JJ', 'JJ', 'NN', ',', 'VBG', 'DT', 'JJ', 'NN', 'NN', 'WDT', '-NONE-', 'VBZ', 'DT', 'VBG', 'JJ', 'NN', 'IN', 'NN', 'NN', '.']\n",
      "['IN', 'NNP', ',', 'DT', 'JJ', 'NN', 'VBD', '-NONE-', 'JJ', 'NN', 'CC', 'VBG', 'NNS', 'MD', 'VB', 'IN', 'DT', 'VBN', '$', 'CD', 'CD', 'TO', '$', 'CD', 'CD', '-NONE-', 'JJ', 'NN', 'IN', 'DT', 'JJ', 'NN', '.']\n",
      "['CC', 'NN', 'NNS', 'VBD', 'NN', 'IN', 'PRP', 'VBD', '-NONE-', 'TO', 'VB', 'DT', '$', 'CD', 'CD', '-NONE-', 'JJ', 'NN', 'IN', 'DT', 'NN', '-NONE-', 'TO', 'VB', 'DT', 'NN', 'IN', 'JJ', 'NN', 'NNS', ',', '-NONE-', 'VBG', 'JJ', 'NN', 'IN', 'DT', 'NN', 'RB', 'RB', 'IN', 'DT', 'NN', '-NONE-', 'TO', 'VB', 'TO', 'JJR', 'JJ', 'NN', 'NNS', '.']\n",
      "['DT', '$', 'CD', 'CD', '-NONE-', 'JJ', 'NN', 'VBZ', 'CD', 'NNS', 'DT', 'NN', '.']\n",
      "['-NONE-', 'RB', 'VBG', 'DT', 'JJ', 'NN', ',', 'DT', 'NN', 'VBD', '-NONE-', 'PRP', 'MD', 'VB', 'VBD', 'DT', 'JJ', 'NN', 'IN', '$', 'CD', 'CD', '-NONE-', ',', 'CC', 'CD', 'NNS', 'DT', 'NN', '.']\n",
      "['DT', 'NN', 'RBR', ',', 'PRP', 'VBD', 'NN', 'IN', '$', 'CD', 'CD', '-NONE-', ',', 'CC', 'CD', 'NNS', 'DT', 'NN', '.']\n",
      "['NN', 'VBD', 'CD', 'NN', 'TO', '$', 'CD', 'CD', '-NONE-', 'IN', '$', 'CD', 'CD', '-NONE-', '.']\n",
      "['NN', 'VBD', 'VBN', '-NONE-', 'IN', '$', 'CD', '-NONE-', ',', 'RB', 'IN', '$', 'CD', '-NONE-', 'JJ', 'NNP', '.']\n",
      "['DT', 'JJ', 'NN', 'IN', 'NNP', 'IN', 'DT', 'CD', 'JJ', 'NN', 'JJ', 'NN', 'NN', 'VBN', '-NONE-', 'IN', 'RB', '$', 'CD', 'CD', '-NONE-', 'VBZ', 'VBN', 'NN', '-NONE-', 'IN', 'DT', 'NN', 'IN', 'NNS', 'VBG', 'DT', 'NNS', 'MD', 'VB', 'IN', 'JJ', 'NNS', ',', 'VBG', 'TO', 'NNP', 'NNP', '.']\n",
      "['IN', 'DT', 'NNP', 'NNP', 'IN', 'NNP', 'NNP', ',', 'NN', 'IN', 'JJ', 'NN', 'VBN', 'IN', '$', 'CD', '-NONE-', 'DT', 'NN', ',', 'IN', 'CD', 'NNS', '.']\n",
      "['IN', 'RB', 'NN', 'IN', 'NNP', 'NNP', 'NNP', ',', 'NN', 'VBD', 'VBN', '-NONE-', 'IN', '$', 'CD', '-NONE-', 'DT', 'NN', '.']\n",
      "['JJ', 'NNS', 'IN', 'DT', 'NN', 'VBP', 'IN', '$', 'CD', '-NONE-', 'CC', 'JJ', 'NNS', 'NN', '$', 'CD', '-NONE-', '.']\n",
      "['NNP', 'VBZ', 'VBG', 'DT', 'NN', 'IN', 'NN', 'IN', 'NN', 'NN', ',', 'WDT', 'PRP', 'VBD', '-NONE-', '-NONE-', 'MD', 'VB', 'VBN', '-NONE-', 'IN', 'RBR', 'IN', '$', 'CD', 'CD', '-NONE-', 'IN', 'CD', 'CC', '$', 'CD', 'CD', '-NONE-', 'IN', 'CD', '.']\n",
      "['NNP', 'NNP', 'NNP', ',', 'NNP', ',', 'VBD', 'NNP', 'NNP', 'NNP', 'CC', 'NNP', ',', 'NNP', ',', 'IN', 'NN', 'IN', 'NN', 'IN', 'PRP$', '$', 'CD', 'CD', '-NONE-', 'NN', '.']\n",
      "['-NONE-', 'VBN', '-NONE-', 'IN', 'NNP', ',', 'NNP', 'CC', 'NNP', ',', 'NNP', 'NNP', ',', 'DT', '$', 'CD', 'CD', '-NONE-', 'NN', 'VBZ', 'NNP', 'POS', 'JJ', 'NN', 'CC', 'PRP$', 'JJ', 'JJ', 'CC', 'JJ', 'NN', '.']\n",
      "['NNP', 'NNPS', 'NNP', 'VBD', '-NONE-', 'PRP', 'MD', 'VB', 'DT', 'NN', 'IN', 'PRP$', '$', 'JJ', '-NONE-', 'JJ', 'NN', 'IN', '-NONE-', 'VBN', '-NONE-', 'IN', 'NNP', 'NNP', 'NNP', ',', 'WDT', '-NONE-', 'VBD', 'DT', 'JJR', 'JJ', 'NN', 'IN', 'NNP', 'NNPS', '.']\n",
      "['NNP', 'NNPS', ',', 'DT', 'NNP', ',', 'JJ', 'NN', 'NN', ',', 'VBD', 'NNP', 'IN', 'PRP', 'MD', 'VB', '$', 'CD', 'CD', '-NONE-', 'IN', 'NNS', 'CC', 'VB', 'DT', 'IN', 'DT', 'NNS', '-NONE-', 'TO', 'VB', 'IN', 'CD', 'NN', 'IN', 'PRP$', 'JJ', 'NNS', 'IN', '$', 'CD', '-NONE-', 'RB', '.']\n",
      "['IN', 'NNP', ',', 'DT', 'CD', 'NNS', ',', 'IN', 'PRP$', 'RB', 'VBN', 'VBG', 'NN', ',', 'NNP', ',', 'VBD', '$', 'CD', '-NONE-', 'DT', 'NN', ',', 'CC', '$', 'CD', 'CD', '-NONE-', ',', 'IN', 'NNP', 'NNPS', '.']\n",
      "['IN', 'NNP', ',', 'NNP', 'VBD', 'DT', 'NN', 'TO', '$', 'CD', '-NONE-', 'DT', 'NN', ',', 'CC', '$', 'CD', 'CD', '-NONE-', '.']\n",
      "['NN', ',', 'NNP', 'NNPS', 'POS', 'JJ', 'NN', 'NN', ',', 'NNP', 'NNP', ',', 'VBD', 'IN', 'DT', 'NN', 'IN', ',', 'IN', 'DT', 'JJ', 'NN', ',', 'NNP', 'NNPS', 'MD', 'VB', 'RP', 'IN', 'DT', 'NN', 'NN', 'IN', 'RB', '$', 'CD', 'CD', '-NONE-', '.']\n",
      "['IN', '$', 'CD', 'CD', '-NONE-', 'IN', 'WDT', 'MD', 'VB', 'VBN', '-NONE-', 'TO', 'DT', 'NN', ',', '-NONE-', 'VBG', 'IN', '$', 'CD', 'CD', '-NONE-', ',', 'PRP', 'VBD', '-NONE-', '-NONE-', '.']\n",
      "['DT', '$', 'CD', 'CD', '-NONE-', ',', 'NNP', 'NNP', 'VBD', '-NONE-', '-NONE-', ',', '``', 'VBZ', 'PRP', 'DT', 'NN', 'IN', 'NN', 'NNP', 'VBZ', 'PRP$', 'NN', '.']\n",
      "['PRP', 'VBP', 'JJ', '-NONE-', 'TO', 'VB', 'PRP$', 'NN', 'IN', 'DT', '$', 'CD', '-NONE-', 'NN', 'IN', 'JJ', '.']\n",
      "['DT', 'NN', 'IN', 'NNP', 'VBD', 'IN', 'NNP', 'NNPS', 'POS', 'NN', ':', 'IN', 'PDT', 'DT', 'NN', 'NNS', 'VBP', ':', 'MD', 'VB', 'IN', 'NNS', 'VBG', 'RB', '$', 'CD', 'TO', '$', 'CD', '-NONE-', 'DT', 'NN', 'IN', 'NN', '.']\n",
      "['IN', 'NNP', 'NNP', 'NNP', 'NNP', 'JJ', 'NN', 'NN', ',', 'NNP', 'NNPS', 'VBD', 'IN', '$', 'CD', '-NONE-', ',', 'RB', 'CD', 'NNS', '.']\n",
      "['NNP', 'NNP', 'NNP', 'VBD', '-NONE-', 'PRP', 'MD', 'VB', 'RBR', 'IN', '$', 'CD', 'CD', '-NONE-', 'IN', 'CD', 'VBN', 'NNS', 'IN', '-NONE-', 'VBG', 'NNS', '.']\n",
      "['NNP', 'IN', 'NNP', 'NNP', 'VBZ', 'VBN', 'VBN', '-NONE-', 'RB', 'IN', 'DT', 'NN', 'POS', 'JJ', 'NN', ',', 'IN', 'PRP$', 'JJ', 'NN', 'VBG', 'CD', 'NN', 'TO', '$', 'CD', 'CD', '-NONE-', ',', 'CC', 'CD', 'NNS', 'DT', 'NN', ',', 'IN', 'DT', 'JJ', 'CD', 'NNS', 'IN', 'CD', 'IN', 'DT', 'JJ', 'NN', '.']\n",
      "['DT', 'NNP', ',', 'JJ', 'NN', 'IN', 'NN', 'NNS', 'CC', 'JJ', 'NN', 'NNS', 'VBD', '-NONE-', 'PRP', 'VBD', 'DT', 'NN', 'JJ', 'TO', 'PRP$', 'NN', 'NN', 'IN', '$', 'CD', '-NONE-', ',', 'CC', 'CD', 'NNS', 'DT', 'NN', '.']\n",
      "['IN', 'DT', 'JJ', 'NN', ',', 'DT', 'NN', 'VBD', 'JJ', 'NN', 'IN', '$', 'CD', 'CD', '-NONE-', ',', 'CC', 'CD', 'NNS', 'DT', 'NN', '.']\n",
      "['WRB', 'NNP', 'NNP', ',', 'NN', 'IN', 'NNP', 'POS', 'NNP', 'NNP', 'NNP', 'IN', 'NNP', 'NNP', ',', 'VBD', 'DT', '$', 'CD', '-NONE-', 'NN', 'NN', 'IN', 'PRP$', 'CD', 'NNP', 'CD', 'NNP', 'DT', 'NN', '-NONE-', ',', 'JJ', 'NN', 'NNS', 'CC', 'NNS', 'IN', 'DT', 'NN', 'VBD', '.']\n",
      "['NNP', 'NNP', 'CD', 'NNP', 'NNP', 'NNP', 'VBD', 'RP', 'DT', 'NN', 'IN', 'DT', 'NN', 'NN', 'IN', '$', 'CD', '-NONE-', 'DT', 'NN', '.']\n",
      "['DT', 'JJ', 'NN', 'NNS', 'VBD', 'IN', 'NN', 'IN', '$', 'CD', '-NONE-', '-NONE-', 'TO', '$', 'CD', '-NONE-', '-NONE-', 'DT', 'NN', '.']\n",
      "['NNP', 'POS', 'JJ', 'NNS', 'IN', 'CD', 'CC', 'CD', 'VBP', '$', 'CD', 'TO', '$', 'CD', '-NONE-', 'DT', '-LRB-', 'IN', 'IN', 'DT', 'JJS', 'IN', 'NNS', 'IN', 'NN', ',', 'NNP', 'NNP', ',', 'WDT', '-NONE-', 'VBZ', 'RB', '$', 'CD', '-NONE-', '.', '-RRB-', '.']\n",
      "['NNP', 'NNP', ',', 'DT', 'VBG', 'NNP', ',', 'RB', 'VBZ', 'IN', 'RB', 'RB', '$', 'CD', '-NONE-', 'DT', 'NN', 'IN', 'DT', 'JJR', 'NN', 'IN', 'CD', ':', 'DT', 'RB', 'JJ', 'CD', 'VBZ', '$', 'CD', '-NONE-', '.']\n",
      "['IN', 'NNP', ',', 'DT', 'IN', 'DT', 'NN', 'NNS', 'VBP', 'VBG', 'IN', '$', 'CD', '-NONE-', 'DT', 'NN', '.']\n",
      "['DT', 'CD', 'NNP', 'VBZ', '$', 'CD', '-NONE-', '.']\n",
      "['NNP', 'NNP', 'IN', '$', 'CD', '-NONE-', 'DT', 'NN', 'VBZ', 'RP', 'IN', 'DT', 'NN', 'CC', 'NNP', 'POS', 'NNP', 'IN', 'NNP', 'NNP', 'IN', 'NNP', 'VBZ', 'VBG', 'IN', 'DT', 'NN', '.']\n",
      "['NNP', 'NNP', 'POS', 'CD', 'NNP', 'NNP', 'NNP', 'NNP', ',', 'IN', 'NN', ',', 'VBZ', '$', 'CD', '-NONE-', '.']\n",
      "['IN', 'DT', 'CD', 'NN', ',', 'PRP', 'VBD', 'RBR', ':', 'NNP', 'NNP', ',', '$', 'CD', '-NONE-', ':', 'NNP', ',', '$', 'CD', '-NONE-', ':', 'NNP', ',', '$', 'CD', '-NONE-', '.']\n",
      "['DT', 'JJ', 'NNP', 'NN', ',', 'NNP', ',', 'VBZ', 'RB', 'VBN', 'PRP$', 'CD', 'NNP', 'IN', '$', 'CD', '-NONE-', '.']\n",
      "['IN', 'NNP', 'RB', 'VBZ', 'NNP', 'NNP', 'NNP', 'IN', '$', 'CD', '-NONE-', 'DT', 'NN', ',', 'NNP', 'NNP', 'POS', 'NNP', 'NNP', ',', 'DT', '$', 'CD', '-NONE-', 'NNP', 'IN', 'NNP', ',', 'CC', 'NNP', 'NNP', 'IN', '$', 'CD', '-NONE-', '.']\n",
      "['NNP', 'POS', 'NNP', 'NNP', 'NNP', 'CD', '-LRB-', 'VBN', '-NONE-', 'RB', 'IN', 'PRP$', 'JJ', 'NN', '-RRB-', 'VBZ', '$', 'CD', '-NONE-', ',', 'IN', 'VBZ', '-NONE-', 'NNP', 'POS', 'NNP', 'NNP', 'CD', '.']\n",
      "['NN', 'NNS', 'VBP', 'RB', 'VBN', 'DT', 'VBN', 'NN', 'IN', 'DT', 'NNS', ',', 'NNP', 'NNP', 'VBD', ':', '-NONE-', '-NONE-', '``', 'PRP', 'VBP', 'VBN', 'DT', 'JJ', 'NN', 'IN', 'NN', 'IN', 'NNS', 'IN', 'DT', 'CD', 'CC', 'CD', ',', 'WDT', '-NONE-', 'VBP', 'IN', '$', 'CD', 'TO', '$', 'CD', '-NONE-', 'DT', 'NN', '.']\n",
      "['DT', 'IN', 'DT', 'JJR', 'NNS', ',', 'RB', 'IN', '$', 'CD', 'TO', '$', 'CD', '-NONE-', '-NONE-', 'DT', 'NN', 'CC', 'RB', ',', 'RB', 'VBP', 'DT', 'NN', '.', \"''\"]\n",
      "['NNP', 'NNP', 'NNP', 'RB', 'VBD', '-NONE-', 'TO', 'VB', 'PRP', 'IN', '$', 'CD', '-NONE-', 'DT', 'NN', ',', 'CC', 'WRB', 'DT', 'NN', 'IN', 'NNP', 'NNP', 'VBD', ',', '``', 'VBZ', 'DT', 'JJ', 'CC', 'JJ', '.', \"''\", '-NONE-', 'PRP', 'JJ', 'DT', 'NN', '.']\n",
      "['-NONE-', 'VBG', 'DT', 'NN', 'IN', 'RB', '$', 'CD', '-NONE-', 'DT', 'NN', 'NN', '-LRB-', '$', 'CD', '-NONE-', 'NN', '-RRB-', ',', 'PRP', 'VBD', 'NNS', 'IN', 'DT', 'NN', 'DT', 'NN', 'VBG', 'PRP', '-NONE-', 'TO', 'VB', 'CD', 'IN', 'CD', 'NNS', ':', 'LS', '-RRB-', 'RB', ',', 'DT', 'NN', 'VBZ', 'RB', 'JJ', '-LRB-', 'CD', 'NNS', '-RRB-', ':', 'LS', '-RRB-', 'RB', ',', 'PRP', 'VBZ', 'JJ', 'CC', 'PRP', 'MD', 'VB', 'PRP', '-LRB-', 'CD', 'NNS', '-RRB-', ':', 'LS', '-RRB-', 'PRP', 'MD', 'VB', 'DT', '-NONE-', 'PRP', 'MD', 'VB', '-NONE-', '-LRB-', 'CD', 'NNS', '-RRB-', '.']\n",
      "['NNP', 'NNP', 'VBZ', 'VBN', 'NNS', 'IN', 'DT', 'NNS', '-LRB-', 'IN', 'NNP', 'NNP', 'NNP', ',', 'RB', '$', 'CD', '-NONE-', '-RRB-', 'RB', '-NONE-', 'TO', 'VB', 'RP', 'NN', ',', 'CC', 'PRP', 'VBZ', 'VBG', '-NONE-', 'TO', 'VB', 'DT', 'NN', 'TO', 'JJ', 'JJ', 'NNPS', 'CC', 'NNPS', 'CC', 'NNPS', 'IN', 'DT', '$', 'CD', 'TO', '$', 'CD', '-NONE-', 'NN', '.']\n",
      "['NN', 'NNS', 'MD', 'RB', 'VB', 'NNP', 'NNP', 'IN', 'NN', ',', 'CC', 'PRP', 'VBP', '-NONE-', 'TO', 'VB', 'NNP', 'DT', 'NNP', ',', '-NONE-', 'RB', 'VBG', 'DT', 'NN', 'IN', '$', 'CD', '-NONE-', 'TO', '$', 'CD', '-NONE-', '.']\n",
      "['NNP', 'NNP', 'CC', 'NNP', 'NNP', 'VBD', '-NONE-', 'PRP$', 'VBN', 'NNS', 'NN', '-NONE-', '-NONE-', 'TO', 'VB', 'RB', '$', 'CD', 'CD', '-NONE-', 'VBD', 'VBN', '-NONE-', 'JJ', 'CC', 'DT', 'NN', 'MD', 'VB', '-NONE-', 'VBG', 'NNS', 'TO', 'NNS', 'IN', 'DT', 'NN', 'IN', 'DT', 'NN', '.']\n",
      "['DT', 'NN', 'VBZ', 'DT', 'NN', 'TO', 'VB', '$', 'CD', '-NONE-', 'NN', 'NN', 'IN', 'CD', 'NN', 'NNS', 'JJ', 'CD', 'CC', 'VBZ', '-NONE-', 'TO', 'VB', 'CD', 'JJ', 'NNS', 'IN', 'CD', 'NNS', 'DT', 'NN', '.']\n",
      "['DT', 'NNS', ',', 'WDT', '-NONE-', 'VBP', 'NN', 'CD', ',', 'MD', 'VB', 'VBN', '-NONE-', 'IN', '$', 'CD', '-NONE-', 'DT', '.']\n",
      "['DT', 'NNP', 'VBD', '-NONE-', 'PRP', 'VBZ', '-NONE-', 'TO', 'VB', '$', 'CD', 'CD', '-NONE-', 'IN', 'NNS', 'CC', 'NNS', 'IN', 'NN', ',', 'CC', 'VBD', '-NONE-', 'DT', 'NNS', 'MD', 'VB', 'VBN', '-NONE-', 'IN', 'NNP', 'VBZ', 'RB', '-NONE-', 'TO', 'VB', 'DT', 'JJ', 'NN', 'NN', '.']\n",
      "['IN', 'PRP', 'MD', 'VB', 'NN', 'IN', 'JJ', 'NNS', ',', 'NNP', 'NNP', 'VBD', '-NONE-', '-NONE-', ',', 'DT', 'JJ', 'NN', 'MD', 'RB', 'VB', 'DT', 'NN', '-NONE-', '-NONE-', 'TO', 'VB', 'RP', '$', 'CD', 'CD', '-NONE-', 'IN', 'NNP', 'NNS', 'WDT', '-NONE-', 'VBP', 'IN', 'NNP', '-NONE-', '.']\n",
      "['DT', 'NNS', '-NONE-', '-NONE-', 'TO', 'VB', 'VBN', '-NONE-', 'JJ', 'NN', 'MD', 'VB', 'RB', '$', 'CD', 'CD', '-NONE-', 'IN', 'NN', 'CC', 'VB', '$', 'CD', 'CD', '-NONE-', 'IN', 'VBG', 'NNS', '.']\n",
      "[':', '$', 'CD', 'CD', '-NONE-', 'IN', 'JJ', 'NNS', ',', '-NONE-', '-NONE-', 'TO', 'VB', 'VBN', '-NONE-', 'NNP', 'CC', 'TO', 'VB', 'NNP', 'CD', ',', 'CD', '.']\n",
      "[':', '$', 'CD', 'CD', '-NONE-', 'IN', 'JJ', 'NNS', ',', '-NONE-', '-NONE-', 'TO', 'VB', 'VBN', '-NONE-', 'NNP', 'CC', 'TO', 'VB', 'NNP', 'CD', ',', 'CD', '.']\n",
      "[':', '$', 'CD', 'CD', '-NONE-', 'IN', 'JJ', 'NNS', ',', '-NONE-', '-NONE-', 'TO', 'VB', 'VBN', '-NONE-', 'NNP', 'CC', 'TO', 'VB', 'NNP', 'CD', ',', 'CD', '.']\n",
      "['DT', 'NNP', 'RB', 'VBD', '-NONE-', 'PRP', 'VBZ', '-NONE-', 'TO', 'VB', '$', 'CD', 'CD', '-NONE-', 'IN', 'JJ', 'NN', 'NN', 'NNS', 'IN', 'NNP', '.']\n",
      "['DT', 'NNP', 'VBD', '-NONE-', 'PRP', 'VBZ', '-NONE-', 'TO', 'VB', '$', 'CD', 'CD', '-NONE-', 'IN', 'DT', 'JJ', 'NN', 'IN', 'NN', '-NONE-', 'TO', 'VB', 'NNP', 'IN', 'DT', '$', 'CD', 'CD', '-NONE-', 'NN', 'NN', '.']\n",
      "['NNS', 'VBD', '-NONE-', 'IN', 'NNP', 'CC', 'DT', 'VBN', '-NONE-', 'IN', 'JJ', 'NN', 'MD', 'VB', 'DT', 'NN', 'IN', '$', 'CD', 'CD', '-NONE-', '.']\n",
      "['DT', 'VBG', '$', 'CD', 'CD', '-NONE-', 'MD', 'VB', 'VBN', '-NONE-', 'IN', 'DT', 'NN', 'IN', 'JJ', 'NNP', 'NNS', ',', 'JJ', 'NNS', 'IN', 'NNP', 'CC', 'JJ', 'NNS', 'IN', 'JJ', 'NNP', ',', 'DT', 'NNP', 'VBD', '-NONE-', '-NONE-', '.']\n",
      "['IN', 'DT', 'JJ', 'CD', 'NNS', 'IN', 'CD', ',', 'DT', 'NNP', 'VBZ', 'IN', 'PRP', 'MD', 'VB', '-NONE-', 'TO', 'VB', 'IN', '$', 'CD', 'CD', 'CC', '$', 'CD', 'CD', '-NONE-', ',', '-NONE-', 'VBG', 'IN', 'PRP', 'VBZ', '-NONE-', 'TO', 'VB', 'IN', 'DT', '$', 'CD', 'CD', '-NONE-', 'NN', 'NN', 'IN', 'DT', 'NN', 'IN', 'NNP', '.']\n",
      "['NNP', ',', 'DT', 'NN', 'CC', 'NN', 'IN', 'VBN', 'NNS', 'CC', 'JJ', 'NN', 'VBN', '-NONE-', 'IN', 'NNP', ',', 'NNP', ',', 'VBZ', 'JJ', 'NNS', 'IN', 'RB', '$', 'CD', 'CD', '-NONE-', ',', 'NNP', 'VBD', '-NONE-', '-NONE-', '.']\n",
      "['NNS', 'VBD', 'VBN', '-NONE-', 'IN', 'DT', 'NN', '-NONE-', '-NONE-', 'NNS', 'VBD', '-NONE-', 'IN', 'NNS', 'IN', 'DT', 'NN', 'IN', 'NNP', 'POS', '$', 'CD', 'CD', '-NONE-', 'NN', 'IN', 'JJ', 'NNP', 'NNP', 'VBD', 'RB', 'RB', '.']\n",
      "['DT', 'NNP', 'POS', 'NN', 'JJ', 'NN', 'VBD', 'RB', 'DT', 'NN', 'IN', 'DT', 'NN', ',', 'CC', '$', 'CD', '-NONE-', 'IN', 'DT', '$', 'CD', '-NONE-', 'IN', 'NN', 'NN', '.']\n",
      "['NNP', 'NNP', 'CC', 'NNP', 'NNP', 'VBD', 'DT', 'CD', 'NN', 'NN', 'IN', 'JJ', 'NN', 'TO', 'CD', 'CD', 'NN', '-LRB-', '$', 'CD', 'CD', '-NONE-', '-RRB-', 'IN', 'PRP$', 'JJ', 'JJ', 'NN', 'VBD', 'JJ', 'CD', 'VBN', 'IN', 'CD', 'CD', 'NN', 'DT', 'NN', 'RBR', '.']\n",
      "['NNP', 'NNP', 'NNP', 'CC', 'NNP', 'NNP', 'NNP', 'VBD', '-NONE-', 'TO', 'VB', 'NNP', 'NNP', 'NNP', 'IN', '$', 'CD', '-NONE-', 'DT', 'NN', ',', 'CC', 'RB', '$', 'CD', 'CD', '-NONE-', ',', '-NONE-', 'VBG', 'RP', 'DT', 'NN', 'IN', 'DT', 'NN', 'NNS', 'NN', '.']\n",
      "['DT', 'NN', 'VBZ', 'DT', 'JJR', 'NN', '-NONE-', 'IN', 'NNP', 'CC', 'NNP', 'NNP', '-NONE-', 'TO', 'VB', 'NNP', 'NNP', 'NN', 'CC', 'VB', 'JJ', 'IN', 'DT', 'NN', 'WDT', '-NONE-', 'MD', 'VB', 'NNS', '$', 'CD', '-NONE-', 'DT', 'NN', '.']\n",
      "['NNP', 'NNP', 'VBD', 'RB', 'VBN', '-NONE-', 'IN', 'DT', 'JJR', 'NN', 'VBN', '-NONE-', 'IN', 'NNP', ',', '-NONE-', 'VBG', '-NONE-', 'PRP', 'VBZ', 'IN', '$', 'CD', '-NONE-', 'DT', 'NN', 'VBZ', '``', 'DT', 'JJS', '-NONE-', 'PRP', 'MD', 'VB', '-NONE-', 'IN', 'NNP', 'NNP', 'IN', 'PRP', 'VBZ', 'DT', 'JJ', 'NN', '.', \"''\"]\n",
      "['NNP', 'NNP', 'NN', 'VBD', '$', 'CD', '-NONE-', 'DT', 'NN', 'NN', '-NONE-', 'TO', 'VB', 'IN', '$', 'CD', '-NONE-', 'DT', 'NN', ',', 'IN', 'NNP', 'NNS', 'VBD', 'JJ', 'IN', '$', 'CD', '-NONE-', 'CC', 'NNP', 'VBD', 'CD', 'NNS', 'TO', '$', 'CD', '-NONE-', ',', 'DT', 'IN', 'NNP', 'NNP', 'NNP', 'NNP', 'JJ', 'VBG', '.']\n",
      "['NNP', 'NNP', 'NNP', ',', 'NNP', 'NN', 'CC', 'JJ', 'NN', 'NN', ',', 'VBD', '-NONE-', 'NNP', 'CC', 'NNP', 'NNP', 'VBD', 'DT', 'NN', '-NONE-', '-NONE-', 'PRP', 'VBD', 'VBG', '-NONE-', 'IN', 'NNP', 'NNP', 'IN', 'PRP', 'RB', 'VBD', 'DT', 'NN', 'WDT', '-NONE-', 'VBD', 'RB', '$', 'CD', 'CD', '-NONE-', 'IN', 'NN', 'CC', 'DT', 'JJ', 'NN', 'IN', 'JJ', 'VBN', 'NN', '.']\n",
      "['IN', 'DT', 'JJ', 'NN', ',', 'NNP', 'NNP', 'VBD', '$', 'CD', 'CD', '-NONE-', ',', 'CC', '$', 'CD', '-NONE-', 'DT', 'NN', ',', 'RB', 'IN', '$', 'CD', 'CD', '-NONE-', ',', 'CC', '$', 'CD', '-NONE-', 'DT', 'NN', 'IN', 'JJR', 'NNS', 'JJ', '.']\n",
      "['NNS', 'VBD', 'TO', '$', 'CD', 'CD', '-NONE-', 'IN', '$', 'CD', 'CD', '-NONE-', '.']\n",
      "['NNP', 'NNP', 'NNP', ',', 'VBN', '-NONE-', 'IN', 'NNP', ',', 'NNP', ',', 'VBD', '-NONE-', 'PRP', 'VBZ', 'NNP', 'CC', 'NNP', 'POS', 'NNS', 'IN', 'NNS', 'IN', 'NNP', ',', 'VBN', '-NONE-', 'IN', '$', 'CD', 'CD', '-NONE-', ',', 'DT', 'JJ', 'NN', 'IN', 'JJ', 'NNS', 'CC', 'DT', 'NN', '-NONE-', 'TO', 'VB', 'NNP', 'RB', '.']\n",
      "['DT', 'NNP', 'NN', 'VBZ', 'VBN', 'DT', 'CD', 'NN', 'NN', 'VBN', '-NONE-', 'IN', 'JJR', 'IN', '$', 'CD', 'CD', '-NONE-', 'IN', 'DT', 'JJ', 'NN', ',', 'NNP', 'NNP', 'NNP', '.']\n",
      "['IN', 'JJ', 'NN', ',', 'NNP', 'VBD', 'VBN', '$', 'CD', 'CD', '-NONE-', 'IN', 'PRP$', 'JJ', 'NNS', 'IN', 'NNP', '.']\n",
      "['IN', 'DT', 'JJ', 'NN', 'IN', 'CD', 'RB', ',', 'JJ', 'NNS', 'VBD', '$', 'CD', 'CD', '-NONE-', '-NONE-', 'IN', 'NN', 'NNS', 'IN', 'NNP', 'NNS', ',', 'DT', 'CD', 'NN', 'NN', 'IN', 'DT', 'NN', 'IN', 'DT', 'IN', 'CD', ',', 'VBZ', '-NONE-', '-NONE-', 'NNP', 'NNP', 'NNP', '.']\n",
      "['NNS', 'POS', 'NN', 'IN', 'NNP', 'NNP', 'VBZ', '``', 'RB', 'JJ', ':', 'JJR', 'IN', '$', 'CD', 'CD', '-NONE-', ',', \"''\", 'NNP', 'NNP', 'VBZ', '-NONE-', '-NONE-', '.']\n",
      "['NNS', 'IN', 'DT', 'NNS', 'IN', 'DT', 'JJ', 'NN', 'VBG', 'JJ', 'NNP', 'VBD', 'JJR', 'IN', '$', 'CD', 'CD', '-NONE-', '.']\n",
      "['DT', 'CD', 'NN', 'TO', 'CD', 'NN', '-NONE-', 'NN', 'IN', '$', 'CD', 'CD', '-NONE-', '``', 'VBP', 'RB', 'NN', ',', \"''\", 'NNP', 'NNP', 'VBZ', '-NONE-', '-NONE-', '.']\n",
      "['DT', '-NONE-', 'PRP', 'VBD', '-NONE-', 'TO', 'VB', '-NONE-', 'VBD', 'VB', '$', 'CD', '-NONE-', 'IN', 'DT', 'NN', 'IN', 'NN', ',', 'CC', 'VB', 'IN', 'DT', '$', 'CD', '-NONE-', 'JJ', 'NN', 'IN', 'NN', '.']\n",
      "['DT', 'NN', 'RB', 'RB', 'VBZ', 'DT', 'JJ', 'NN', 'NN', 'IN', 'TO', '$', 'CD', '-NONE-', ',', 'CC', 'VBZ', 'RP', 'DT', 'JJ', 'JJ', 'NN', '-NONE-', '-NONE-', 'TO', 'VB', 'IN', '-NONE-', 'VBG', 'NN', '.']\n",
      "['IN', 'CD', ',', 'NNP', 'NNP', 'CC', 'NNP', 'IN', 'NNP', 'NNP', 'VBD', 'DT', 'NNP', 'NNP', ',', 'WDT', '-NONE-', 'VBD', 'JJ', 'NN', ',', 'DT', 'NN', 'NN', ',', 'JJ', 'NN', 'CC', 'NNS', 'NNS', 'IN', 'DT', '$', 'CD', '-NONE-', 'JJ', 'NN', '.']\n",
      "['NNP', 'NNP', 'VBD', 'JJR', 'IN', '$', 'CD', 'CD', '-NONE-', '-NONE-', 'TO', 'VB', 'PRP$', 'NNP', 'NN', ',', 'JJ', 'NNS', 'VBN', '-NONE-', 'IN', 'JJ', 'NNS', ',', 'IN', 'CD', ',', 'VBG', 'TO', 'NNP', 'NNP', ',', 'JJ', 'NN', 'NN', 'IN', 'NN', '.']\n",
      "['CD', 'NNS', '-NONE-', 'PRP', 'MD', 'VB', '-NONE-', 'IN', '$', 'CD', '-NONE-', 'CC', 'JJR', ':']\n",
      "['NNS', 'NN', 'VBP', '$', 'CD', '-NONE-', 'IN', 'NN', 'NN', ':', 'PRP', 'VBP', 'RB', 'VB', 'JJ', 'IN', 'PRP', '.']\n",
      "['PRP$', '$', 'CD', '-NONE-', 'MD', 'VB', '-NONE-', 'VB', 'DT', 'JJ', 'NNS', 'CC', 'NN', 'JJ', ':', 'CC', 'IN', 'IN', 'DT', 'JJ', 'NN', 'NN', '.']\n",
      "['-NONE-', 'VB', 'IN', 'DT', 'NN', '-NONE-', 'PRP', 'MD', 'VB', '-NONE-', 'IN', 'RB', '$', 'CD', '-NONE-', 'DT', 'NN', ',', 'RB', 'DT', 'NN', 'IN', 'DT', 'JJ', 'NNP', 'CC', 'CD', 'NNS', 'IN', 'DT', 'NN', 'NN', '.']\n",
      "['DT', '$', 'CD', '-NONE-', '-NONE-', 'PRP', 'VBP', '-NONE-', 'MD', 'VB', 'DT', 'JJ', 'NN', '-NONE-', 'TO', 'VB', 'VBG', 'JJ', 'NN', 'CC', 'NN', 'NN', ':', 'CC', 'VB', 'PRP$', 'NNP', 'NNP', 'NNP', 'IN', 'DT', 'JJ', 'NN', 'NN', '.']\n",
      "['PRP', 'VBD', 'NNP', 'NNP', 'POS', 'NN', 'NN', 'CC', 'RB', 'RB', 'VBD', 'DT', 'NNP', 'NNP', '-NONE-', 'VBG', 'IN', 'DT', 'NN', 'VBN', '-NONE-', 'IN', 'PRP$', 'NN', ',', 'NNP', 'NNP', ',', 'WDT', '-NONE-', 'VBD', 'VBN', 'VBN', '-NONE-', 'TO', 'NNP', 'IN', 'DT', 'JJ', '$', 'CD', '-NONE-', ',', 'VBN', 'IN', 'NNP', 'NNP', 'POS', 'NNP', 'NN', '.']\n",
      "['NNP', 'NNPS', 'NNP', 'IN', 'NNP', 'CC', 'DT', 'NN', 'IN', 'DT', 'NN', ',', 'NNP', 'NNP', 'NNP', 'IN', 'NNP', 'DT', 'NNP', ',', 'NNP', ',', 'VBD', 'RB', 'VBN', '-NONE-', '$', 'CD', '-NONE-', 'CC', 'VBD', '-NONE-', 'IN', 'VBN', 'NNS', 'IN', 'VBG', 'NNS', 'IN', 'NNS', 'NNS', '.']\n",
      "['NNP', 'NNP', 'CC', 'NNP', ',', 'NNP', ',', 'CC', 'DT', 'NN', 'IN', 'DT', 'NN', ',', 'NNP', 'NNP', 'NNP', 'IN', 'NNP', ',', 'VBD', 'RB', 'VBN', '-NONE-', '$', 'CD', '-NONE-', 'CC', 'VBN', '-NONE-', ',', 'IN', 'JJ', 'JJ', 'NN', 'IN', 'DT', 'NN', 'POS', 'NNS', ',', 'IN', 'JJ', 'NNS', '.']\n",
      "['NNP', 'NNP', 'NNP', ',', 'IN', 'NNP', ',', 'NNP', ',', 'CC', 'DT', 'NN', 'IN', 'DT', 'NN', ',', 'NNP', 'NNP', 'IN', 'NNP', ',', 'NNP', ',', 'VBD', 'RB', 'VBN', '-NONE-', '$', 'CD', '-NONE-', 'CC', 'VBN', '-NONE-', 'JJ', 'NNS', 'IN', '-NONE-', 'RB', 'VBG', 'NNS', 'IN', 'JJ', 'NNS', '.']\n",
      "['NNP', 'NNP', ',', 'IN', 'NNP', ',', 'NNP', ',', 'CC', 'DT', 'NN', 'IN', 'DT', 'NN', ',', 'NNP', 'NNP', 'NNP', ',', 'RB', 'IN', 'NNP', ',', 'VBD', 'RB', 'VBN', '-NONE-', '$', 'CD', '-NONE-', 'CC', 'VBN', '-NONE-', 'JJ', 'NNS', 'IN', 'NN', 'IN', 'DT', 'NN', '.']\n",
      "['NNP', 'CC', 'NNP', 'NNP', 'NNP', ',', 'IN', 'NNP', 'NNP', ',', 'NNP', ',', 'CC', 'PRP$', 'NN', ',', 'NNP', 'NNP', 'NNP', ',', 'IN', 'NNP', 'NNP', ',', 'NNP', ',', 'VBD', 'TO', 'DT', 'JJ', 'NN', 'IN', '$', 'CD', '-NONE-', '.']\n",
      "['NNP', 'NNP', 'NNP', 'NNP', ',', 'IN', 'NNP', 'NNP', ',', 'CC', 'PRP$', 'NN', ',', 'NNP', 'NNP', 'NNP', ',', 'RB', 'IN', 'NNP', 'NNP', ',', 'VBD', 'TO', 'DT', '$', 'CD', '-NONE-', 'NN', '.']\n",
      "['NNP', 'NNP', 'NNP', ',', 'NNP', 'NNP', ',', 'CC', 'CD', 'IN', 'PRP$', 'NNS', ':', 'NNP', 'NNP', 'NNP', 'CC', 'NNP', 'NNP', 'NNP', 'NNP', ',', 'DT', 'IN', 'NNP', 'NNP', ',', 'NNP', ',', 'CC', 'NNP', 'NNP', 'NNP', ',', 'IN', 'NNP', 'NNP', ',', 'NNP', '.', ':', 'VBD', 'TO', 'DT', 'NN', 'IN', '$', 'CD', '-NONE-', '.']\n",
      "['NNP', 'NNP', 'CC', 'NNP', ',', 'IN', 'NNP', ',', 'NNP', ',', 'CC', 'PRP$', 'NN', ',', 'NNP', 'NNP', 'NNP', 'NNP', ',', 'RB', 'IN', 'NNP', ',', 'VBD', 'VBN', '-NONE-', 'IN', '-NONE-', 'VBG', 'JJ', 'NNS', 'IN', 'CD', 'NNS', 'CC', 'VBD', 'RB', 'VBN', '-NONE-', '$', 'CD', '-NONE-', '.']\n",
      "['NNP', 'NNP', 'NNP', 'NNP', ',', 'NNP', 'NNP', ',', 'WDT', '-NONE-', 'VBZ', 'JJ', '-NONE-', 'IN', 'NNP', 'NNP', 'NNP', ',', 'VBD', 'TO', 'DT', '$', 'CD', '-NONE-', 'NN', '.']\n",
      "['NNP', 'NNP', 'NNP', ',', 'NNP', ',', 'NNP', ',', 'VBN', '-NONE-', '$', 'CD', '-NONE-', ':', 'NNP', 'NNP', 'NNP', 'NNP', ',', 'NNP', 'NNP', ',', 'NNP', ',', '$', 'CD', '-NONE-', ':', 'NNP', 'NNP', ',', 'NNP', 'NNP', ',', 'NNP', ',', '$', 'CD', '-NONE-', 'CC', 'JJ', 'NN', ':', 'NNP', 'NNP', ',', 'NNP', 'NNP', ',', 'NNP', ',', '$', 'CD', '-NONE-', 'CC', 'JJ', 'NN', ':', 'NNP', 'NNP', 'NNP', ',', 'NNP', ',', 'NNP', ',', '$', 'CD', '-NONE-', 'CC', 'JJ', 'NN', ':', 'NNP', 'NNP', 'NNP', ',', 'NNP', ',', 'NNP', ':', 'NNP', 'NNP', ',', 'NNP', ',', '$', 'CD', '-NONE-', ',', 'VBD', '-NONE-', 'IN', 'DT', 'NN', ':', 'NNP', 'NNP', 'NNP', ',', 'NNP', ',', '$', 'CD', '-NONE-', ':', 'NNP', 'NNP', 'NNP', ',', 'VBN', '-NONE-', '$', 'CD', '-NONE-', ',', 'VBN', '-NONE-', '-NONE-', 'TO', 'VB', '$', 'CD', '-NONE-', ',', 'JJ', 'NN', '.']\n",
      "['NNP', 'NNP', 'NNP', ',', 'NNP', ',', 'NNP', ',', 'VBN', '-NONE-', '$', 'CD', '-NONE-', ':', 'NNP', 'NNP', 'NNP', ',', 'NNP', ',', 'NNP', ',', '$', 'CD', '-NONE-', 'CC', 'JJ', 'NN', ':', 'NNP', 'NNP', 'NNP', ',', 'NNP', 'NNP', ',', 'NNP', ',', 'VBN', '-NONE-', '$', 'CD', '-NONE-', ',', 'VBN', '-NONE-', '-NONE-', 'TO', 'VB', '$', 'CD', '-NONE-', 'CC', 'VBN', '-NONE-', 'CD', 'NN', ':', 'NNP', 'NNP', 'NNP', ',', 'NNP', 'NNP', ',', 'VBN', '-NONE-', '$', 'CD', '-NONE-', ',', 'VBN', '-NONE-', '-NONE-', 'TO', 'VB', '$', 'CD', '-NONE-', 'CC', 'VBN', '-NONE-', 'CD', 'NNS', '.']\n",
      "['NNP', 'NNP', 'NNP', ',', 'NNP', ',', 'NNP', ',', 'VBN', '-NONE-', '$', 'CD', '-NONE-', ':', 'NNP', 'NNP', 'NNP', ',', 'NNP', ',', '$', 'CD', '-NONE-', ':', 'NNP', 'NNP', 'NNP', ',', 'NNP', ',', 'NNP', ',', '$', 'CD', '-NONE-', ':', 'NNP', 'NNP', ',', 'NNP', ',', 'NNP', ',', '$', 'CD', '-NONE-', ':', 'NNP', 'NNP', 'NNP', ',', 'NNP', ',', '$', 'CD', '-NONE-', 'CC', 'JJ', 'NN', ':', 'NNP', 'NNP', 'NNP', ',', 'NNP', 'NNP', ',', '$', 'CD', '-NONE-', ':', 'NNP', 'NNP', 'NNP', 'NNP', ',', 'NNP', 'NNP', ',', 'NNP', ',', '$', 'CD', '-NONE-', ':', 'NNP', 'NNP', 'NNP', ',', 'NNP', 'NNP', ',', 'NNP', ',', '$', 'CD', '-NONE-', ':', 'NNP', 'NNP', 'NNP', ',', 'NNP', ',', 'NNP', ',', '$', 'CD', '-NONE-', '.']\n",
      "['NNP', 'NNP', 'NNP', 'NNP', ',', 'NNP', ',', 'NNP', ',', 'VBN', '-NONE-', '$', 'CD', '-NONE-', ':', 'NNP', 'NNP', 'NNP', ',', 'NNP', 'NNP', 'NNP', ',', 'NNP', ',', '$', 'CD', '-NONE-', ':', 'NNP', 'NNP', 'NNP', ',', 'NNP', ',', 'NNP', ',', 'VBN', '-NONE-', '$', 'CD', '-NONE-', ',', 'VBN', '-NONE-', '-NONE-', 'TO', 'VB', '$', 'CD', '-NONE-', ':', 'NNP', 'NNP', 'NNP', ',', 'NNP', ',', 'NNP', ',', '$', 'CD', '-NONE-', ':', 'NNP', 'NNP', 'NNP', ',', 'NNP', ',', 'NNP', ',', '$', 'CD', '-NONE-', 'CC', 'JJ', 'NN', ':', 'NNP', 'NNP', ',', 'NNP', 'NNP', ',', 'NNP', ',', '$', 'CD', '-NONE-', ':', 'NNP', 'NNP', ',', 'NNP', ',', '$', 'CD', '-NONE-', 'CC', 'JJ', 'NN', ':', 'NNP', 'NNP', 'NNP', ',', 'NNP', 'NNP', ',', '$', 'CD', '-NONE-', ':', 'NNP', 'NNP', 'NNP', ',', 'NNP', 'NNP', ',', '$', 'CD', '-NONE-', '.']\n",
      "['DT', 'VBG', '-NONE-', 'VBD', 'DT', 'VBN', 'CC', 'VBN', '-NONE-', ':', 'NNP', 'NNP', 'NNP', ',', 'NNP', 'NNP', ',', 'NNP', ',', 'VBN', '-NONE-', '$', 'CD', '-NONE-', 'CC', 'VBN', '-NONE-', '-NONE-', 'TO', 'VB', '$', 'CD', '-NONE-', ':', 'NNP', 'NNP', 'NNP', ',', 'NNP', ',', 'NNP', ',', 'VBN', '-NONE-', '$', 'CD', '-NONE-', 'CC', 'VBN', '-NONE-', '-NONE-', 'TO', 'VB', '$', 'CD', '-NONE-', ':', 'NNP', 'NNP', 'NNP', ',', 'NNP', 'NNP', ',', 'NNP', ',', 'VBN', '-NONE-', '$', 'CD', '-NONE-', '.']\n",
      "['DT', 'NN', '-NONE-', 'VBD', 'VBN', '-NONE-', 'CC', ',', 'WRB', '-NONE-', 'VBN', '-NONE-', '-NONE-', ',', 'VBN', '-NONE-', 'CC', 'VBD', 'TO', 'NNS', 'IN', '-NONE-', 'VBG', 'CC', 'VBG', 'NN', ':', 'NNP', 'NNP', 'NNP', ',', 'NNP', ',', 'NNP', ',', '$', 'CD', '-NONE-', 'NN', ':', 'NNP', 'NNP', 'NNP', ',', 'NNP', ',', '$', 'CD', '-NONE-', 'NN', 'CC', 'JJ', 'NN', ':', 'NNP', 'NNP', 'NNP', ',', 'NNP', 'NNP', ',', 'NNP', ',', '$', 'CD', '-NONE-', 'NN', ',', 'JJ', 'NN', 'CC', 'JJ', 'NN', 'IN', 'DT', 'NN', ':', 'NNP', 'NNP', 'NNP', ',', 'NNP', 'NNP', ',', 'NNP', ',', '$', 'CD', '-NONE-', 'NN', 'CC', 'JJ', 'NN', ':', 'NNP', 'NNP', 'NNP', ',', 'NNP', ',', 'NNP', ',', '$', 'CD', '-NONE-', 'NN', ':', 'NNP', 'NNP', 'NNP', ',', 'NNP', 'NNP', ',', '$', 'CD', '-NONE-', 'NN', 'CC', 'JJ', 'NN', ':', 'NNP', 'NNP', 'NNP', ',', 'NNP', 'NNP', ',', 'NNP', ',', '$', 'CD', '-NONE-', 'NN', ':', 'NNP', 'NNP', 'NNP', ',', 'NNP', ',', 'NNP', ',', '$', 'CD', '-NONE-', 'NN', 'CC', 'JJ', 'NN', ':', 'NNP', 'NNP', 'NNP', ',', 'NNP', 'NNP', ',', '$', 'CD', '-NONE-', 'NN', 'CC', 'JJ', 'NN', ':', 'NNP', 'NNP', 'NNP', ',', 'NNP', 'NNP', ',', '$', 'CD', '-NONE-', 'NN', 'CC', 'JJ', 'NN', ':', 'NNP', 'NNP', 'NNP', ',', 'NNP', 'NNP', ',', 'NNP', ',', '$', 'CD', '-NONE-', 'NN', ':', 'NNP', 'NNP', 'NNP', ',', 'NNP', ',', 'NNP', ',', '$', 'CD', '-NONE-', 'NN', 'CC', 'JJ', 'NN', ':', 'NNP', 'NNP', 'NNP', ',', 'NNP', ',', 'NNP', ',', '$', 'CD', '-NONE-', 'NN', 'CC', 'JJ', 'NN', ':', 'NNP', 'NNP', 'NNP', ',', 'NNP', 'NNP', ',', 'NNP', ',', '$', 'CD', '-NONE-', 'CC', 'JJ', 'NN', ':', 'NNP', 'NNP', 'NNP', ',', 'NNP', 'NNP', ',', '$', 'CD', '-NONE-', 'CC', 'JJ', 'NN', ':', 'CC', 'NNP', 'NNP', 'NNP', ',', 'NNP', 'NNP', ',', 'NNP', ',', 'JJ', 'NN', '.']\n",
      "['RB', ',', '``', 'RB', 'RBR', '-LRB-', 'NN', 'NN', '-RRB-', '-NONE-', 'VBZ', 'VBN', '-NONE-', 'IN', 'RB', 'IN', 'IN', 'DT', 'NNP', \"''\", 'VBD', '-NONE-', '-NONE-', 'NNP', 'NNP', ',', 'NN', 'NN', 'NN', 'IN', 'NNP', 'NNP', 'NNP', 'NNP', ',', 'WDT', '-NONE-', 'VBZ', 'IN', '#', 'CD', 'CD', '-NONE-', '-LRB-', '$', 'CD', 'CD', '-NONE-', '-RRB-', 'IN', 'NNP', 'NNP', 'JJ', 'NNS', '.']\n",
      "['NNS', 'VBD', '-NONE-', 'DT', 'JJ', 'NN', ',', 'TO', '$', 'CD', '-NONE-', 'DT', 'NN', 'IN', 'NNP', 'CD', ',', 'VBZ', 'RB', 'JJ', 'IN', 'DT', 'VBG', 'NN', ',', 'IN', 'NNS', 'VBD', 'IN', 'DT', 'NN', 'MD', 'RB', 'VB', 'JJ', 'NN', 'CC', 'VB', 'JJ', 'NNS', 'IN', 'NNS', '.']\n",
      "['IN', 'DT', 'NNS', 'VBD', 'DT', 'NN', ',', 'WDT', '-NONE-', 'MD', 'VB', 'TO', 'DT', 'JJ', 'NN', 'IN', 'DT', 'JJ', 'NN', 'IN', 'DT', 'JJ', 'NN', 'VBD', 'VBN', '-NONE-', 'IN', 'CD', ',', '-NONE-', 'VBG', 'DT', 'NN', 'TO', '$', 'CD', '-NONE-', 'DT', 'NN', 'IN', '$', 'CD', '-NONE-', '.']\n",
      "['IN', 'DT', 'NN', 'VBD', '-NONE-', 'NN', ',', 'DT', 'JJ', 'NN', 'MD', 'VB', 'TO', '$', 'CD', '-NONE-', 'JJ', 'NNP', '.']\n",
      "['IN', 'DT', 'JJ', 'NN', 'VBD', 'RB', 'VBN', 'VBN', '-NONE-', 'IN', 'PDT', 'DT', 'JJ', 'NNP', 'NN', 'NN', ',', 'DT', 'NN', 'IN', '$', 'CD', '-NONE-', 'DT', 'NN', 'IN', 'CD', 'MD', 'RB', 'VB', 'JJR', 'IN', 'CD', 'NN', 'IN', 'JJ', 'NN', 'NN', ',', 'NNP', 'NNP', 'VBD', '-NONE-', '-NONE-', '.']\n",
      "['DT', 'NN', 'VBZ', 'DT', 'NN', 'NN', 'IN', '$', 'CD', '-NONE-', 'DT', 'NN', 'IN', 'NNP', ',', 'CC', 'IN', '$', 'CD', '-NONE-', 'DT', 'NN', ',', 'CC', 'CD', 'NN', 'IN', 'DT', 'JJ', 'NN', ',', 'IN', 'NNP', 'CD', '.']\n",
      "['NNP', 'NNP', 'NNPS', 'NNP', ',', 'DT', 'NN', 'IN', 'NNP', 'NNP', 'NNP', ',', 'VBD', 'DT', '$', 'CD', 'CD', '-NONE-', 'NNP', 'NN', 'IN', 'NN', 'CC', 'NNS', 'IN', 'NNS', 'IN', 'DT', 'JJ', 'NN', '.']\n",
      "['NNP', 'NNP', 'NNP', 'VBD', 'DT', '$', 'CD', 'CD', '-NONE-', 'NNP', 'NNP', 'NN', 'IN', 'NN', 'NN', 'NN', 'NN', '.']\n",
      "['NNP', 'NNP', 'NNP', 'VBD', 'VBN', '-NONE-', 'DT', '$', 'CD', 'CD', '-NONE-', 'NNP', 'NNP', 'NN', 'IN', 'NN', 'NN', 'CC', 'VBG', 'NN', '.']\n",
      "['NNP', 'NNP', 'NNP', 'VBD', 'DT', '$', 'CD', 'CD', '-NONE-', 'NNP', 'NNP', 'NN', 'IN', 'NN', 'NNS', 'NN', '.']\n",
      "['NNP', 'NNP', ',', 'DT', 'JJ', 'NN', 'CC', 'NN', 'JJ', 'NN', 'IN', 'NNP', 'NNP', 'VBZ', 'VBG', 'DT', 'NN', 'NN', 'POS', 'JJ', '$', 'CD', 'CD', '-NONE-', 'NN', 'IN', 'NNP', 'NNP', 'NNP', 'NNP', '.']\n",
      "['NNP', 'POS', 'NNS', 'VBD', 'TO', '$', 'CD', 'CD', '-NONE-', 'JJ', 'NN', ',', 'VBN', 'IN', '$', 'CD', 'CD', '-NONE-', 'IN', 'CD', ',', 'WRB', 'NNP', 'NNP', 'VBD', 'DT', 'NNS', '-NONE-', '.']\n",
      "['NN', 'IN', 'VBG', 'NNS', 'VBZ', 'VBN', 'TO', '$', 'CD', 'CD', '-NONE-', 'IN', '$', 'CD', 'CD', '-NONE-', '.']\n",
      "['DT', 'VBG', 'NN', 'MD', 'VB', 'DT', 'JJS', 'NNS', 'NN', 'IN', 'DT', 'NN', 'IN', 'VBN', 'NNS', 'IN', 'JJR', 'IN', '$', 'CD', 'CD', '-NONE-', '.']\n",
      "['DT', 'NNP', 'NN', 'VBD', 'JJ', 'NNS', 'IN', 'DT', 'NN', 'IN', 'JJR', 'IN', '$', 'CD', 'CD', '-NONE-', 'IN', 'JJ', 'NN', 'IN', 'NNP', 'WDT', '-NONE-', 'VBZ', 'RB', 'IN', '$', 'CD', 'CD', '-NONE-', 'IN', 'NN', 'CC', 'NN', 'NNS', 'IN', 'JJ', 'CD', 'IN', 'NNS', 'IN', '-NONE-', 'VBG', 'JJ', 'NN', 'CC', 'NN', '.']\n",
      "['IN', 'DT', 'NNP', 'IN', 'NNP', 'NNP', ',', 'NNS', 'VBD', '$', 'CD', 'CD', '-NONE-', 'IN', 'JJ', 'NN', 'NNS', 'IN', 'DT', 'VBN', 'NN', 'NN', 'NN', 'NN', ',', 'CC', 'JJ', 'NN', 'NNS', 'IN', 'DT', 'NNP', 'NNP', 'NNP', 'NNP', 'VBP', 'VBN', '-NONE-', 'IN', '$', 'CD', 'CD', '-NONE-', 'IN', 'JJ', 'CD', 'IN', 'NN', 'IN', 'DT', 'JJ', 'NNP', 'NN', '.']\n",
      "['DT', 'NN', 'VBD', 'IN', 'JJS', '$', 'CD', 'CD', '-NONE-', 'IN', 'JJ', 'NN', 'CC', 'NN', 'NN', 'IN', 'RB', ',', 'CC', 'IN', 'DT', 'NN', 'VBD', 'VBN', '-NONE-', ',', 'DT', 'NNS', 'VBP', 'VBN', 'TO', '-NONE-', 'VBG', 'JJR', 'IN', '$', 'CD', 'CD', '-NONE-', 'IN', 'JJ', 'NN', 'NNS', 'CC', 'JJ', 'NNS', 'VBN', '-NONE-', 'IN', 'DT', 'NNP', 'NN', '.']\n",
      "['-NONE-', 'TO', 'VB', 'DT', 'JJ', 'NN', 'NN', ',', 'DT', 'NNP', 'NNPS', 'NNP', 'JJ', 'NN', 'VBD', 'VBN', '-NONE-', 'TO', 'VB', 'DT', 'VBN', '$', 'CD', 'CD', '-NONE-', 'IN', 'DT', 'NNP', '.']\n",
      "['DT', 'NN', 'IN', 'NNP', 'VBD', 'IN', 'DT', 'NN', 'RB', 'VBD', '$', 'CD', 'CD', '-NONE-', 'IN', 'JJ', 'NN', 'VBG', 'NNS', ',', 'DT', 'CD', 'NN', 'NN', 'IN', 'JJ', 'CD', '.']\n",
      "['IN', 'DT', 'JJ', 'NN', 'IN', 'JJ', 'NN', ',', 'DT', 'NN', 'NN', ',', 'DT', 'JJ', '$', 'CD', 'CD', '-NONE-', '-NONE-', 'MD', 'VB', 'VBN', '-NONE-', 'IN', 'NN', 'NN', '-NONE-', '-NONE-', 'TO', 'VB', 'DT', 'NN', 'IN', 'NNS', ',', 'VBN', 'DT', 'TO', 'JJ', 'NN', 'CC', 'DT', 'NN', 'IN', 'DT', 'JJ', 'NN', '.']\n",
      "['DT', 'JJ', 'NNS', 'VBP', 'RB', '$', 'CD', 'CD', '-NONE-', ',', 'CC', 'NNP', 'NNP', 'NNP', 'NNP', 'NNP', '-LRB-', 'NNP', ',', 'NNP', '.', '-RRB-', 'VBD', 'DT', 'NN', 'DT', 'NN', 'IN', '-NONE-', 'VBG', 'NN', 'IN', 'DT', 'NN', 'VB', 'VBN', '-NONE-', 'TO', 'JJ', 'NNS', 'IN', 'DT', 'NNP', ',', 'JJ', 'IN', 'NNP', 'CC', 'NNP', '.']\n",
      "['IN', 'JJ', 'NN', 'NN', ',', 'DT', 'NNP', 'VBD', 'NN', 'NNS', 'CC', 'VBD', 'JJ', 'NN', 'TO', '$', 'CD', 'CD', '-NONE-', 'IN', 'JJ', 'NNS', 'IN', 'NN', 'NN', 'CC', 'JJ', 'NNS', 'IN', 'JJ', 'CD', '.']\n",
      "['DT', 'NN', 'VBZ', 'VBN', '-NONE-', 'TO', 'DT', 'VBN', '$', 'CD', 'CD', '-NONE-', 'NN', 'NN', 'WDT', '-NONE-', 'VBZ', '-NONE-', 'JJ', 'TO', 'DT', 'NNP', 'CC', 'VBZ', 'IN', 'PRP', 'DT', 'VBN', 'JJ', 'NN', 'NN', 'IN', 'RB', 'DT', 'NNP', 'JJ', 'NN', 'NNS', '.']\n",
      "['DT', 'RBS', 'JJ', 'NN', 'VBD', 'DT', 'RB', '$', 'CD', 'CD', '-NONE-', 'JJ', 'CD', 'NN', 'VBG', 'DT', 'NNP', ',', 'NNP', 'CC', 'NNP', 'NNS', '.']\n",
      "['DT', 'NNP', 'NNP', 'VBD', 'NNP', 'NNP', 'IN', 'JJ', 'NN', 'CC', 'NN', 'NNS', 'IN', 'CD', 'NNP', 'NNS', ',', 'CC', 'VBD', '$', 'CD', 'CD', '-NONE-', 'IN', 'NNS', ',', 'DT', 'JJS', 'NN', 'RB', 'VBN', '-NONE-', 'IN', 'VBN', 'NN', 'NNS', 'IN', 'DT', 'NN', '.']\n",
      "['DT', 'NN', 'POS', 'NNP', 'NNP', 'CC', 'NNP', 'NNP', 'VBD', 'NNS', 'IN', '$', 'CD', 'CD', '-NONE-', 'IN', 'VBN', 'NNS', 'IN', 'DT', 'NN', 'POS', 'NNP', 'NNP', ',', 'NNP', ',', 'NN', 'NN', ':', 'DT', 'VBD', 'DT', 'NN', 'IN', 'VBN', 'NNS', 'IN', 'DT', 'JJ', 'NN', '.']\n",
      "['DT', 'JJ', 'NN', 'VBG', 'DT', 'NN', 'POS', 'NNP', ',', 'NNP', ',', 'NN', 'NNS', 'VBD', 'JJR', 'IN', 'CD', 'VBN', 'NNS', 'IN', 'JJ', 'CC', 'JJ', 'NNS', ',', 'IN', 'WDT', 'NNP', 'VBD', '$', 'CD', 'CD', '-NONE-', 'IN', 'NNS', '-NONE-', '.']\n",
      "['IN', 'DT', 'NNP', 'NN', ',', 'NNP', 'POS', 'JJS', 'VBN', 'NN', 'IN', 'CD', 'NN', 'VBD', '$', 'CD', 'CD', '-NONE-', 'IN', 'VBN', 'NN', 'NNS', 'IN', 'NNP', 'NNP', 'CC', 'NNP', ',', 'DT', 'NN', 'NN', 'IN', 'NNP', 'NNP', 'NNP', ',', 'NNP', '.']\n",
      "['NNP', 'NNP', 'NNP', 'VBD', '-NONE-', 'PRP', 'VBZ', '-NONE-', 'TO', 'VB', 'CD', 'CD', 'TO', 'CD', 'CD', 'JJ', 'NNS', '-LRB-', '$', 'CD', 'CD', 'TO', '$', 'CD', 'CD', '-NONE-', '-RRB-', 'IN', 'DT', 'JJ', 'NN', 'IN', 'JJ', 'VBN', 'NNS', '.']\n",
      "['PRP$', 'NN', '$', 'CD', 'CD', '-NONE-', ':', 'VBZ', 'VBN', 'IN', '-NONE-', 'IN', 'PRP', '.']\n",
      "['IN', 'JJ', 'NN', 'IN', 'DT', 'NNP', 'NNP', 'NNP', 'NNP', ',', 'NNP', 'POS', 'NNS', 'VBD', '$', 'CD', '-NONE-', '-NONE-', 'TO', 'VB', 'IN', '$', 'CD', '-NONE-', '.']\n",
      "['IN', 'NNP', ',', 'DT', 'NN', 'VBD', 'DT', '$', 'CD', 'CD', '-NONE-', 'NN', 'NN', 'IN', 'JJ', 'CD', 'NNS', 'WRB', 'PRP', 'VBD', 'DT', 'JJ', 'VBG', 'NN', '-NONE-', '.']\n",
      "['IN', 'JJ', 'CD', ',', 'NNP', 'NNP', 'VBD', 'DT', 'NN', 'IN', '$', 'CD', '-NONE-', '.']\n",
      "['PRP', 'MD', 'VB', 'JJ', 'IN', 'DT', 'JJ', 'NN', 'IN', 'JJR', 'IN', '$', 'CD', '-NONE-', 'IN', 'JJ', 'JJ', 'NN', 'NNS', '.']\n",
      "['IN', 'NNP', 'NNP', 'POS', 'JJ', 'NN', 'IN', 'NN', ',', 'DT', 'NN', 'POS', 'NNS', 'VBD', 'TO', '$', 'CD', 'CD', '-NONE-', 'IN', '$', 'CD', 'CD', '-NONE-', 'CC', 'JJ', 'NN', 'VBD', 'TO', '$', 'CD', 'CD', '-NONE-', 'IN', '$', 'CD', 'CD', '-NONE-', ',', 'DT', 'NN', 'VBD', '-NONE-', '-NONE-', '.']\n",
      "['NNS', 'VBN', '-NONE-', 'IN', 'JJ', 'NNS', 'IN', 'JJ', 'NN', 'IN', 'NNS', 'IN', '$', 'CD', 'CD', 'CC', 'JJR', '-NONE-', '.']\n",
      "['JJ', 'NN', ':', 'JJ', 'JJ', 'NNS', 'VBN', '-NONE-', 'IN', 'NNS', 'IN', 'JJ', 'NNS', 'IN', 'NNS', 'IN', '$', 'CD', '-NONE-', ':', 'CD', 'NN', 'CD', 'NNS', ':', 'CD', 'NN', 'CD', 'NNS', ':', 'CD', 'NN', 'CD', 'NNS', '.']\n",
      "['JJ', 'IN', 'JJ', 'NNS', 'VBN', '-NONE-', 'IN', 'JJ', 'NNP', 'NNP', 'NNS', 'IN', 'JJ', 'JJ', 'NNS', 'IN', 'JJ', 'NNS', ',', 'RB', 'IN', 'NNS', 'IN', '$', 'CD', 'CD', 'CC', 'JJR', '-NONE-', '.']\n",
      "['DT', 'JJ', 'NN', 'VBZ', '$', 'CD', '-NONE-', '.']\n",
      "['NNP', 'NNPS', ':', 'NNS', 'IN', 'DT', 'NNP', ',', 'NNP', 'CD', ',', 'CD', ',', 'NN', 'IN', 'JJ', 'NNP', 'NN', 'NNS', ',', 'VBN', '-NONE-', 'IN', 'DT', 'NN', 'IN', 'NN', 'NN', 'IN', 'NNS', 'IN', '$', 'CD', 'TO', '$', 'CD', 'CD', '-NONE-', ':', 'CD', 'NN', 'CD', 'NNS', ':', 'CD', 'NN', 'CD', 'NNS', '.']\n",
      "['DT', 'NN', 'VBD', '-NONE-', 'DT', 'NN', 'POS', 'JJ', 'NNS', 'NN', 'VBD', 'TO', '$', 'CD', 'CD', '-NONE-', 'IN', '$', 'CD', 'CD', '-NONE-', 'IN', 'NNP', 'NNP', 'POS', 'NN', '.']\n",
      "['IN', 'CD', 'IN', 'DT', 'RBS', 'JJ', 'NNS', 'IN', 'NN', ',', 'JJ', 'NN', 'NN', 'IN', 'DT', 'NNP', 'NNP', 'VBD', 'TO', 'DT', 'JJ', 'NN', 'IN', '$', 'CD', 'CD', '-NONE-', 'JJ', 'NN', '.']\n",
      "['DT', 'JJ', 'NN', 'VBD', '$', 'CD', 'CD', '-NONE-', 'IN', 'CD', ',', 'VBG', 'TO', 'DT', 'NNP', 'NNP', '.']\n",
      "['NNS', 'VBD', 'DT', 'NNS', 'RB', 'TO', 'DT', '$', 'CD', 'CD', '-NONE-', 'JJ', 'NN', 'VBN', '-NONE-', 'IN', 'NNP', '.']\n",
      "['NNP', 'VBD', 'DT', 'NN', 'IN', '$', 'CD', 'CD', '-NONE-', 'IN', 'JJ', 'NN', 'NN', 'JJ', 'NN', ',', 'VBN', 'IN', 'NNP', ',', '$', 'CD', 'CD', '-NONE-', ':', 'NNP', ',', '$', 'CD', 'CD', '-NONE-', ':', 'NNP', ',', '$', 'CD', 'CD', '-NONE-', ':', 'CC', 'NNP', ',', '$', 'CD', 'CD', '-NONE-', '.']\n",
      "['JJ', 'NN', ',', 'NN', 'NNS', 'TO', 'NNS', 'VBD', 'TO', 'JJR', 'IN', '$', 'CD', 'CD', '-NONE-', 'IN', 'DT', 'NN', '$', 'CD', 'CD', '-NONE-', 'IN', 'CD', '.']\n",
      "['NNS', 'VBP', 'VBN', '-NONE-', 'TO', 'VB', 'IN', '$', 'CD', 'CD', '-NONE-', 'CC', '$', 'CD', 'CD', '-NONE-', 'DT', 'NN', '.']\n",
      "['NN', 'VBD', 'PRP', 'IN', 'DT', 'NN', 'VBD', 'VBG', '$', 'CD', 'CD', '-NONE-', 'IN', 'DT', 'NN', 'VBD', '-NONE-', 'TO', 'VB', 'VBG', 'IN', '$', 'CD', 'CD', '-NONE-', 'DT', 'NN', ',', 'CC', 'NNS', 'VBD', '-NONE-', 'NNP', 'MD', 'VB', 'RB', 'VBN', 'DT', 'NN', 'RB', '.']\n",
      "['NNP', 'NNP', 'NNP', 'VBD', '-NONE-', 'PRP', 'VBD', 'RB', 'VB', 'DT', '$', 'CD', 'CD', '-NONE-', 'JJ', 'NN', 'NN', 'JJ', 'NN', 'IN', '$', 'CD', 'CD', '-NONE-', 'IN', 'JJ', 'VBN', 'NNS', '.']\n",
      "['NNP', 'VBD', 'DT', 'NN', 'NN', 'IN', 'NNS', 'JJR', 'IN', 'CD', 'NNS', 'JJ', 'IN', 'NN', 'NNS', 'IN', '$', 'CD', '-NONE-', 'WP', '-NONE-', 'VBD', 'RB', '``', 'VBN', 'DT', 'NNS', ',', \"''\", 'DT', 'NNP', 'NN', 'VBZ', '-NONE-', '-NONE-', '.']\n",
      "['DT', 'NN', ',', 'WDT', '-NONE-', 'VBZ', 'VBN', '-NONE-', 'TO', 'VB', 'VBN', 'IN', 'IN', 'CD', 'NNS', 'VBN', '-NONE-', 'IN', 'IN', '#', 'CD', 'CD', '-NONE-', '-LRB-', '$', 'CD', 'CD', '-NONE-', '-RRB-', ',', 'VBD', 'NNS', 'IN', 'NNS', 'IN', 'JJ', 'NN', 'NNS', '.']\n",
      "['NNS', 'IN', 'NNP', 'NNP', '``', 'VBP', 'VBG', 'IN', 'NNS', ',', 'CC', 'NNS', 'WP', '-NONE-', 'VBP', 'NNS', '-NONE-', 'TO', 'VB', 'VBP', 'DT', 'JJ', 'NN', ',', \"''\", 'VBZ', '-NONE-', '-NONE-', 'NNP', 'NNP', 'NNP', ',', 'NN', 'IN', 'NNP', 'NNP', 'NNP', 'NNP', ',', 'DT', 'NNP', 'NN', 'WDT', '-NONE-', 'VBZ', 'DT', '$', 'CD', 'CD', '-NONE-', 'NN', 'WDT', '-NONE-', 'VBZ', 'NN', 'NN', '.']\n",
      "['DT', 'NN', 'NN', 'IN', '$', 'CD', 'CD', '-NONE-', 'IN', 'NN', 'RB', 'VBZ', 'DT', 'JJ', 'NN', 'IN', '$', 'CD', '-NONE-', '.']\n",
      "['DT', 'NNP', 'CD', 'NN', 'VBD', 'VBN', '-NONE-', 'RB', 'IN', 'NN', 'NNS', ',', 'CC', 'IN', 'NN', 'IN', 'DT', 'NN', 'IN', 'DT', '$', 'CD', 'CD', '-NONE-', 'NN', 'IN', 'NNP', 'NNP', '.']\n",
      "['JJ', 'NN', 'NNS', 'VBP', '-NONE-', 'TO', 'VB', 'CD', 'NNS', 'TO', 'CD', 'NNS', 'IN', 'DT', '$', 'CD', '-NONE-', '-NONE-', 'PRP', 'VBP', '-NONE-', 'IN', 'JJ', 'JJ', 'NNS', ',', 'CC', 'JJR', 'NNS', 'IN', 'JJR', 'NNS', '.']\n",
      "['DT', 'NNS', 'VBP', 'RB', 'DT', 'JJ', 'NNS', 'IN', '$', 'CD', '-NONE-', 'VBN', '-NONE-', '.']\n",
      "['NN', ',', 'IN', '$', 'CD', 'CD', '-NONE-', ',', 'CC', 'CD', 'NN', 'IN', 'DT', 'JJ', 'NN', 'NNS', ',', 'VBZ', 'VBN', '-NONE-', 'IN', 'NN', 'NNS', '.']\n",
      "['JJ', 'NN', ',', 'DT', 'JJ', 'NN', 'VBD', '$', 'CD', '-NONE-', ',', 'CD', 'NN', 'JJR', 'IN', 'IN', 'CD', '.']\n",
      "['IN', 'DT', 'NN', 'IN', 'JJ', 'NNS', '-NONE-', 'TO', 'VB', 'NN', ',', 'NNP', 'VBD', 'IN', '$', 'CD', 'CD', '-NONE-', 'DT', 'NNP', 'NN', 'POS', 'NN', 'IN', 'JJ', 'NN', 'IN', 'JJ', 'CD', ',', 'WDT', '-NONE-', 'VBD', 'NNP', 'CD', '.']\n",
      "['-NONE-', 'TO', 'VB', 'DT', 'NN', ',', 'NNP', 'VBD', 'DT', '$', 'CD', '-NONE-', 'NN', 'IN', 'NNS', 'CC', 'NNS', 'MD', 'VB', '-NONE-', 'TO', 'VB', '-NONE-', 'DT', 'NN', '-NONE-', 'PRP', 'VBP', 'VBN', 'NNS', 'TO', 'JJ', 'NNS', 'IN', 'NNS', ',', 'NNS', 'CC', 'JJ', 'JJ', 'NNS', '-NONE-', '.']\n",
      "['IN', 'NNS', 'VBN', '-NONE-', 'IN', 'DT', 'NNS', 'IN', 'NNP', ',', 'DT', 'NN', 'POS', 'NN', 'IN', '$', 'CD', 'CD', '-NONE-', 'IN', 'DT', 'NNP', 'NNP', 'MD', 'VB', 'VBN', '-NONE-', '$', 'CD', 'CD', '-NONE-', '.']\n",
      "['DT', 'NNP', 'NN', 'NN', 'IN', '$', 'CD', 'CD', '-NONE-', ',', 'IN', '$', 'CD', 'CD', '-NONE-', 'IN', 'WDT', '-NONE-', 'MD', 'VB', 'IN', 'JJ', 'NN', ',', 'MD', 'RB', 'VB', 'VBN', '-NONE-', 'IN', '$', 'CD', 'CD', '-NONE-', '.']\n",
      "['IN', 'DT', 'NN', ',', 'NNS', 'VBG', 'NNS', 'CC', 'NNS', 'VBN', '-NONE-', 'IN', '$', 'CD', 'CD', '-NONE-', 'CC', 'RBR', 'MD', 'VB', 'NNP', 'CC', 'NNP', 'NNP', 'JJ', 'NNS', 'IN', '-NONE-', 'VBG', 'DT', 'NNS', '.']\n",
      "['NNS', 'IN', 'DT', 'NN', 'NN', 'VBP', 'IN', ',', 'VBN', 'IN', 'JJ', 'NN', 'NNS', 'IN', 'JJR', 'IN', 'CD', 'DT', 'NN', ',', 'DT', 'NNS', 'MD', 'VB', 'IN', 'JJS', '$', 'CD', 'CD', '-NONE-', '-NONE-', 'DT', 'JJ', 'NN', ',', 'CC', '$', 'CD', 'CD', '-NONE-', 'JJR', 'IN', 'DT', 'NN', 'NNS', '.']\n",
      "['``', 'WRB', 'PRP', 'VBP', 'DT', '-NONE-', ',', 'EX', 'VBZ', 'RB', 'DT', 'NN', ',', 'CC', 'EX', 'VBZ', 'IN', 'NN', 'DT', 'NN', 'NN', 'IN', '$', 'CD', 'CD', '-NONE-', \"''\", 'DT', 'IN', 'DT', 'NNP', 'CC', 'DT', 'NNP', 'NNP', ',', 'NNP', 'NNP', 'NNP', '-LRB-', 'NNP', ',', 'NNP', '-RRB-', 'VBD', '-NONE-', '-NONE-', 'IN', 'NNP', 'NN', '.']\n",
      "['DT', 'NN', 'IN', 'NN', 'IN', '$', 'CD', 'CD', '-NONE-', 'VBN', '-NONE-', 'IN', 'DT', 'NNS', 'IN', 'JJ', 'CD', 'MD', 'VB', 'TO', 'DT', 'NNP', 'IN', 'JJ', '.']\n",
      "['IN', 'NNP', 'POS', ',', 'DT', 'NN', 'IN', 'CD', 'NNS', 'IN', 'NNP', 'NNP', 'POS', '``', 'NNS', \"''\", 'NN', 'VBD', 'IN', '$', 'CD', '-NONE-', ',', 'DT', 'JJ', 'NN', '.']\n",
      "['-NONE-', 'RB', 'DT', '$', 'CD', 'JJ', 'NN', ',', 'CD', 'NN', 'NN', 'VBZ', 'VBN', '-NONE-', 'TO', 'VB', '$', 'CD', 'CD', '-NONE-', 'JJ', 'NN', 'CC', 'IN', '$', 'CD', 'CD', '-NONE-', 'IN', 'CD', 'IN', 'NNS', 'IN', 'DT', 'NN', 'VBP', '-NONE-', 'TO', 'VB', ',', 'VBZ', '-NONE-', '-NONE-', 'NNP', 'NNP', 'IN', 'NNP', ',', 'NNP', 'CC', 'NNP', 'NNP', '.']\n",
      "['DT', 'NN', ':', 'WDT', '-NONE-', 'VBZ', 'DT', 'NN', 'IN', 'CD', 'NNS', 'TO', '$', 'CD', '-NONE-', 'DT', 'NN', ':', 'RB', 'VBZ', 'VBN', '-NONE-', 'IN', 'NN', 'NN', ',', 'NNS', 'CC', 'NN', 'NNS', '.']\n",
      "['DT', '$', 'CD', '-NONE-', 'NN', 'VBZ', 'VBN', '-NONE-', 'TO', 'VB', 'RB', 'VBG', 'VBN', 'NN', 'TO', 'NNS', 'IN', 'JJ', 'NNS', '.']\n",
      "['-NONE-', 'VBN', '-NONE-', 'IN', 'DT', '$', 'CD', 'CD', '-NONE-', 'NN', 'IN', 'NNP', 'NNP', 'CC', 'NNP', 'NNP', ',', 'DT', 'NN', 'MD', 'VB', 'JJ', 'JJ', 'NNS', ',', 'VBG', 'NN', 'IN', 'JJ', 'NN', '.']\n",
      "['NNP', ',', 'DT', 'NN', 'VBG', 'DT', 'NN', 'IN', 'NNP', 'NNP', ',', 'VBZ', 'VBN', '-NONE-', 'IN', 'DT', '$', 'CD', '-NONE-', 'NN', 'IN', 'JJ', 'NN', '.']\n",
      "['NNP', 'NNP', 'VBZ', '-NONE-', 'PRP', 'VBD', 'RB', 'VBN', 'DT', '$', 'CD', '-NONE-', '-NONE-', 'PRP', 'VBD', '-NONE-', 'IN', 'DT', 'CD', 'NN', 'WRB', 'PRP', 'VBD', 'JJR', 'NN', 'JJ', 'NNP', 'CD', '-NONE-', '.']\n",
      "['IN', 'NNS', 'IN', 'DT', 'NN', ',', 'NNS', 'JJ', 'IN', 'DT', 'NNPS', 'MD', 'VB', '$', 'CD', '-NONE-', 'DT', 'NN', 'IN', 'NN', ',', 'WDT', '-NONE-', 'VBZ', 'VBN', '-NONE-', 'IN', 'NNP', '.']\n",
      "['RB', ',', 'NNP', 'VBD', 'DT', 'NN', 'JJ', 'NN', 'IN', '$', 'CD', 'CD', '-NONE-', ',', 'CC', 'CD', 'NNS', 'DT', 'NN', ',', 'CC', 'JJ', 'NN', 'IN', '$', 'CD', 'CD', '-NONE-', ',', 'CC', '$', 'CD', '-NONE-', 'DT', 'NN', ',', 'DT', 'NN', 'JJR', '.']\n",
      "['DT', 'JJS', 'NNS', 'VBP', 'DT', 'JJ', 'NNS', ',', 'WDT', '-NONE-', 'VBD', 'DT', 'JJ', 'NN', 'IN', '$', 'CD', 'CD', '-NONE-', '.']\n",
      "['IN', 'NNP', 'NNP', 'NNP', 'JJ', 'NN', ',', 'NNP', 'NNS', 'VBD', 'NN', 'IN', '$', 'CD', '-NONE-', ',', 'RB', 'CD', 'NNS', '.']\n",
      "['$', 'CD', 'CD', '-NONE-', 'IN', 'CD', 'CD', 'NN', 'NNS', 'JJ', 'NNP', 'CD', ',', 'CD', ',', 'VBN', '-NONE-', 'IN', 'CD', '-NONE-', 'TO', 'VB', 'CD', 'NN', '.']\n",
      "['DT', 'NN', 'IN', 'DT', 'NN', 'VBD', 'VBN', '-NONE-', 'IN', 'DT', 'RB', 'VBN', '$', 'CD', 'CD', '-NONE-', '.']\n",
      "['$', 'CD', 'CD', '-NONE-', 'IN', 'JJ', 'NN', 'JJ', 'NN', 'NN', 'NNS', 'JJ', 'CD', 'CC', 'CD', ',', 'RB', 'VBN', '-NONE-', 'IN', 'DT', 'NNP', 'NNPS', 'NNP', 'NN', '-NONE-', 'TO', 'VB', 'IN', 'CD', 'NN', 'IN', 'CD', 'TO', 'CD', 'NN', 'IN', 'CD', '.']\n",
      "['EX', 'VBZ', '$', 'CD', 'CD', '-NONE-', 'IN', 'CD', 'NN', 'NN', 'NNS', 'JJ', 'CD', 'VBN', '-NONE-', 'IN', 'CD', 'CD', '-NONE-', 'TO', 'VB', 'CD', 'NN', '.']\n",
      "['$', 'CD', 'CD', '-NONE-', 'IN', 'NN', 'NN', 'NNS', ',', 'CD', 'NNP', 'NNP', ',', 'JJ', 'CD', ',', 'CD', 'CC', 'CD', ',', 'RB', 'VBN', '-NONE-', 'IN', 'DT', 'NNP', 'NNP', 'CC', 'NNP', 'NNPS', 'NNP', 'NN', '-NONE-', 'TO', 'VB', 'IN', 'CD', 'NN', 'IN', 'CD', 'TO', 'CD', 'NN', 'IN', 'CD', '.']\n",
      "['$', 'CD', 'CD', '-NONE-', 'IN', 'NN', 'NN', 'NNS', ',', 'CD', 'JJ', 'CC', 'JJ', 'NN', ',', 'RB', 'VBN', '-NONE-', 'IN', 'DT', 'NNP', 'NNP', 'NNP', 'NNPS', 'NN', '-NONE-', 'TO', 'VB', 'IN', 'CD', 'NN', 'IN', 'CD', 'IN', 'JJ', 'NN', 'NNS', 'TO', 'CD', 'NN', 'IN', 'CD', 'IN', 'JJ', 'NN', 'NNS', '.']\n",
      "['EX', 'VBZ', '$', 'CD', 'CD', '-NONE-', 'IN', 'JJ', 'NN', 'NNS', ',', 'DT', 'NN', 'IN', 'WDT', '-NONE-', 'VBZ', 'RB', 'JJ', 'TO', 'DT', 'JJ', 'NN', 'NN', 'NN', '.']\n",
      "['EX', 'VBZ', '$', 'CD', 'CD', '-NONE-', 'IN', 'JJ', 'NN', 'NNS', ',', 'WDT', '-NONE-', 'VBP', 'JJ', 'TO', 'DT', 'JJ', 'NN', 'NN', 'NN', '.']\n",
      "['$', 'CD', 'CD', '-NONE-', 'IN', 'NNS', 'JJ', 'NNP', 'CD', ',', 'CD', ',', 'IN', 'JJ', 'NNS', ',', 'VBG', 'DT', 'CD', 'CD', 'NN', 'NN', 'IN', 'NN', ',', 'IN', 'NNP', 'NNP', 'NNP', '.']\n",
      "['DT', '$', 'CD', '-NONE-', 'NN', 'VBZ', 'CD', 'NN', ',', 'JJ', 'IN', 'NNP', 'CD', ',', 'CD', ',', 'IN', 'NNP', 'CD', ',', 'CD', ',', '-NONE-', '-NONE-', 'TO', 'VB', 'NNS', 'IN', 'DT', 'VBN', 'NN', 'IN', 'CD', 'CD', 'NN', 'TO', 'DT', 'JJ', 'NN', 'WRB', 'NNS', 'VBP', 'VBN', '-NONE-', 'NNP', '-NONE-', '-NONE-', '.']\n",
      "['JJ', 'NN', ',', 'IN', 'PRP', 'VBZ', 'VBG', 'NNP', 'NNP', 'NNS', '-NONE-', 'TO', 'VB', 'IN', 'TO', '$', 'CD', 'CD', '-NONE-', 'IN', 'DT', 'JJ', 'NN', '.']\n",
      "['JJ', 'NN', ',', 'NNP', 'NNS', 'VBD', 'NNS', 'RP', 'IN', 'DT', '$', 'CD', 'CD', '-NONE-', 'NN', 'NN', 'CC', 'NN', 'NN', '.']\n",
      "['PRP$', 'NNS', 'VBD', 'DT', 'JJ', 'NN', 'IN', 'PRP$', 'NN', ':', 'DT', 'JJ', 'NN', ',', 'DT', 'NNP', 'IN', 'NNP', ',', 'DT', 'JJ', 'NNS', ':', 'CC', 'VBD', '$', 'CD', '-NONE-', 'IN', 'NN', '.']\n",
      "['JJ', 'NNS', 'IN', 'PRP', 'VBD', 'RP', '-NONE-', 'VBG', '-NONE-', 'TO', 'VB', 'NNP', '-NONE-', 'TO', 'VB', 'PRP$', 'JJ', 'NNP', 'NNP', ',', 'CC', 'RB', 'VBD', 'PRP$', 'JJ', '$', 'CD', 'CD', '-NONE-', 'NN', 'IN', 'JJ', 'NNS', '.']\n",
      "['NNP', 'NNP', 'NNP', 'VBD', 'IN', 'JJ', 'NN', 'IN', 'DT', 'CD', 'NNS', 'VBD', 'NNP', 'CD', 'VBD', 'CD', 'NN', 'TO', '#', 'CD', 'CD', '-NONE-', '-LRB-', '$', 'CD', 'CD', '-NONE-', '-RRB-', ',', 'CC', 'CD', 'NN', 'DT', 'NN', ',', 'IN', '#', 'CD', 'CD', '-NONE-', '-LRB-', '$', 'CD', 'CD', '-NONE-', '-RRB-', ',', 'CC', 'CD', 'NN', 'DT', 'NN', '.']\n",
      "['DT', 'JJ', 'NN', 'NN', 'IN', 'NNP', 'NNP', ',', 'NNP', 'NNP', 'POS', 'JJS', 'JJ', 'NN', 'IN', 'DT', 'NN', ',', 'VBZ', 'VBG', 'JJ', 'TO', 'NNP', 'NNP', 'IN', 'PRP', 'VBD', 'JJR', 'IN', '$', 'CD', 'CD', '-NONE-', 'IN', 'JJ', ',', 'JJ', 'NN', 'NNS', 'IN', 'NNP', 'NNS', '.']\n",
      "['IN', 'NN', ',', 'DT', 'JJ', 'NN', 'IN', 'NNP', 'NNP', 'VBD', '-NONE-', 'TO', 'NNP', 'NNP', 'NNP', '.', 'VBD', 'RB', 'VBN', 'IN', 'NN', 'WRB', 'PRP$', '$', 'CD', 'CD', '-NONE-', 'NN', 'NN', 'IN', 'DT', 'NN', 'IN', 'DT', 'NN', 'NN', 'VBD', 'VBN', '-NONE-', '-NONE-', '.']\n",
      "['IN', 'NN', ',', 'NNP', 'POS', 'VBN', '$', 'CD', 'CD', '-NONE-', 'IN', 'NN', 'VBZ', 'VBN', '-NONE-', ',', 'VBG', 'TO', 'DT', 'NN', 'NNS', ',', 'IN', 'PRP', 'VBZ', '$', 'CD', 'CD', '-NONE-', 'IN', 'NN', '.']\n",
      "['NNP', '``', 'RB', 'RB', 'VBZ', '$', 'CD', 'CD', '-NONE-', 'IN', 'NN', ',', \"''\", 'VBZ', '-NONE-', 'NNP', 'NNP', 'IN', 'NNP', '.']\n",
      "['``', 'PRP', 'VBP', 'RB', 'VBN', '-NONE-', 'IN', '$', 'CD', 'CD', '-NONE-', 'IN', 'NN', ',', \"''\", 'DT', 'NNP', 'NN', 'VBD', '-NONE-', '-NONE-', '.']\n",
      "['NNP', 'NNPS', 'NNP', 'NNP', ',', 'DT', 'NN', 'NN', ',', 'VBD', 'DT', 'NN', 'IN', 'NNP', 'NNP', 'NNPS', 'NNP', 'POS', 'NNP', 'NN', 'NN', 'IN', '$', 'CD', 'CD', '-NONE-', 'CC', 'DT', 'NN', 'IN', '$', 'CD', 'CD', '-NONE-', 'IN', 'NN', '.']\n",
      "['NNP', ',', 'VBN', '-NONE-', 'IN', 'NNP', ',', 'NNP', ',', 'VBZ', 'CD', 'NNS', 'IN', 'DT', 'NN', ':', 'PRP', 'VBD', 'NN', 'IN', '$', 'CD', 'CD', '-NONE-', 'JJ', 'NN', '.']\n",
      "['DT', 'JJ', 'NN', 'NN', 'VBD', '-NONE-', 'JJ', 'NN', 'VBD', 'TO', 'CD', 'CD', 'NNS', '-LRB-', '$', 'CD', 'CD', '-NONE-', '-RRB-', ',', 'CC', 'CD', 'NNS', 'DT', 'NN', ',', 'IN', 'CD', 'CD', 'NNS', ',', 'CC', 'CD', 'NNS', 'DT', 'NN', ',', 'DT', 'NN', 'IN', '.']\n",
      "['DT', 'NN', 'IN', 'DT', 'NNP', 'NN', 'VBD', 'IN', 'DT', 'NNP', 'NNP', 'NNP', 'NN', '-NONE-', 'TO', 'VB', 'IN', 'DT', 'NNP', 'POS', 'NN', '-NONE-', 'TO', 'VB', 'DT', '$', 'CD', 'CD', '-NONE-', 'IN', 'NN', 'NN', 'TO', 'NNP', ',', 'IN', 'JJR', '-NONE-', '-NONE-', 'TO', 'VB', 'IN', 'DT', 'NNP', '.']\n",
      "['NNP', 'NNPS', 'NNP', 'VBD', '-NONE-', 'PRP', 'VBZ', 'JJ', 'NN', 'IN', 'DT', 'NN', 'VBG', 'NNP', 'CD', ',', 'CD', ',', 'TO', 'VB', 'IN', 'DT', 'JJ', 'NN', 'POS', 'NN', 'IN', '$', 'CD', '-NONE-', 'DT', 'NN', '.']\n",
      "['DT', 'NNP', ',', 'NNP', ',', 'NN', 'IN', 'NNS', 'RB', 'VBD', '-NONE-', 'PRP', 'VBZ', '-NONE-', 'TO', 'VB', 'NNS', 'IN', 'DT', 'JJ', 'JJ', 'NN', 'WDT', '-NONE-', 'VBP', '``', 'RB', 'JJ', \"''\", 'JJ', 'CD', 'NNS', 'IN', '$', 'CD', 'CD', '-NONE-', '.']\n",
      "['IN', 'JJ', 'CD', ',', 'NNP', 'VBD', '$', 'CD', 'CD', '-NONE-', ',', 'CC', '$', 'CD', '-NONE-', 'DT', 'NN', '.']\n",
      "['DT', 'NN', 'POS', 'NN', 'VBD', '$', 'CD', '-NONE-', 'TO', '$', 'CD', '-NONE-', 'IN', 'JJ', 'NN', 'NN', '.']\n",
      "['NNP', 'NNP', 'NNP', ',', 'NNP', ',', 'NNP', ',', 'VBN', '-NONE-', 'NNS', 'IN', 'PRP$', 'JJ', 'NN', 'VBD', 'NNP', 'CD', 'VBD', 'CD', 'NN', 'TO', 'CD', 'NN', 'IN', 'DT', 'JJ', '$', 'CD', 'CD', '-NONE-', ',', 'CC', 'CD', 'NNS', 'DT', 'NN', '.']\n",
      "['IN', 'JJ', 'CD', ',', 'DT', 'NN', 'VBD', '$', 'CD', 'CD', '-NONE-', ',', 'CC', '$', 'CD', '-NONE-', 'DT', 'NN', ',', 'IN', 'NN', 'IN', '$', 'CD', 'CD', '-NONE-', '.']\n"
     ]
    }
   ],
   "source": [
    "for y in y_train:\n",
    "    if \"$\" in y:\n",
    "        print(y)\n",
    "## there are many \"$\" tags used in the dataset itself"
   ]
  },
  {
   "cell_type": "code",
   "execution_count": 155,
   "metadata": {},
   "outputs": [],
   "source": [
    "def accuracy(y_true, y_pred):       \n",
    "    y_true = np.concatenate(y_true)\n",
    "    y_pred = np.concatenate(y_pred)\n",
    "    \n",
    "    return np.mean(y_true == y_pred)"
   ]
  },
  {
   "cell_type": "code",
   "execution_count": 156,
   "metadata": {
    "scrolled": true
   },
   "outputs": [
    {
     "data": {
      "application/vnd.jupyter.widget-view+json": {
       "model_id": "0a9cfaecb55b48ffa4e5e9c9778bbd61",
       "version_major": 2,
       "version_minor": 0
      },
      "text/plain": [
       "  0%|          | 0/1 [00:00<?, ?it/s]"
      ]
     },
     "metadata": {},
     "output_type": "display_data"
    },
    {
     "data": {
      "application/vnd.jupyter.widget-view+json": {
       "model_id": "99a52d1f53ac4cacb24bb3af739c0cee",
       "version_major": 2,
       "version_minor": 0
      },
      "text/plain": [
       "  0%|          | 0/23 [00:00<?, ?it/s]"
      ]
     },
     "metadata": {},
     "output_type": "display_data"
    },
    {
     "name": "stdout",
     "output_type": "stream",
     "text": [
      "0.0\n",
      "CPU times: user 1min 36s, sys: 369 ms, total: 1min 37s\n",
      "Wall time: 1min 47s\n"
     ]
    },
    {
     "name": "stderr",
     "output_type": "stream",
     "text": [
      "/tmp/ipykernel_11606/1507108342.py:5: FutureWarning: elementwise comparison failed; returning scalar instead, but in the future will perform elementwise comparison\n",
      "  return np.mean(y_true == y_pred)\n"
     ]
    }
   ],
   "source": [
    "%%time\n",
    "\n",
    "hh = HMM().fit(X_train, y_train)\n",
    "y_pred = hh.predict(X_test)\n",
    "print(accuracy(y_test, y_pred))"
   ]
  },
  {
   "cell_type": "markdown",
   "metadata": {},
   "source": [
    "Your accuracy must be > 0.73"
   ]
  },
  {
   "cell_type": "code",
   "execution_count": 157,
   "metadata": {},
   "outputs": [
    {
     "name": "stdout",
     "output_type": "stream",
     "text": [
      "pred:\tIN\tNNP\t,\tDT\tJJ\tNN\tIN\tCD\tJJ\tNNS\t,\tWDT\t-NONE-\tVBD\t-NONE-\tNNP\tNNP\t,\tVBD\tVBG\tNNS\tTO\tNNS\t.\n",
      "true:\tIN\tNNP\t,\tDT\tNNP\tNN\tIN\tCD\tVBN\tNNS\t,\tWDT\t-NONE-\tVBD\tCD\tNNS\tNNP\t,\tVBD\tCD\tNNS\tTO\tCD\t.\n",
      "\n"
     ]
    }
   ],
   "source": [
    "for i in range(len(y_pred[:3])):\n",
    "    print(\"pred:\", *y_pred[i], sep='\\t')\n",
    "    print(\"true:\", *y_test[i], sep='\\t')\n",
    "    print()"
   ]
  },
  {
   "cell_type": "markdown",
   "metadata": {},
   "source": [
    "## Task 3. Vectorized viterbi (20%)\n",
    "Our currrent implementation of Viterbi is too slow. Let's make it vectorized. "
   ]
  },
  {
   "cell_type": "code",
   "execution_count": 166,
   "metadata": {},
   "outputs": [],
   "source": [
    "class HmmVectorized(HMM):\n",
    "    \n",
    "    def _viterbi(self, X):\n",
    "        \"\"\"\n",
    "        Vectorized version of Viterbi. Let's speed up!\n",
    "        X - list of observables\n",
    "        \"\"\"   \n",
    "        T = len(X)\n",
    "        \n",
    "        # One may notice, at every step t we only need pi[t-1, u, v] = pi_prev[u,v] to compute pi[t, u, v] = pi_curr[u,v]\n",
    "        pi_prev = np.zeros((self.h_dim, self.h_dim))\n",
    "        \n",
    "        # backpointers\n",
    "        bp = np.zeros((T + 1, self.h_dim, self.h_dim), dtype=int)\n",
    "        \n",
    "        a_rowsum = self.A_rowsum.reshape(self.h_dim, self.h_dim, 1)\n",
    "        \n",
    "        ###################\n",
    "        # fill pi and bp\n",
    "        # pi_curr[u, v] = max_{w} [ pi_prev[w, u] * q(v| w, u) * e(x_k| v) ]\n",
    "        # bp[t, u, v] = argmax_{w} [ pi_prev[w, u] * q(v| w, u) * e(x_k| v) ]\n",
    "        \n",
    "        # log_prob[w, u, v] (shape=(h_dim, h_dim, h_dim)) -- log of probabilities of (w, u, v) sequence of hidden states v time is t\n",
    "        # pi_curr[:, :] =  max_{w} lop_prob[w, :, :]\n",
    "        # bp[t, :, :] =  argmax_{w} lop_prob[w, :, :]\n",
    "        # log_prob[w, u, v] = pi_prev[w, u] * q(v| w, u) * e(x_k| v)\n",
    "        # log_prob[:(w), :(u), :(v)] = log( pi_prev[:(w), :(u), np.newaxis] * A_sm[:(w), :(u), :(v)] * e[np.newaxis, np.newaxis, :(v)] )\n",
    "        \n",
    "        \n",
    "        # don't use tr_prob() and em_prob(), apply laplace smoothing directly here\n",
    "        # laplace smoothing\n",
    "        B_sm_log = np.log( (self.B+self.alpha)/(self.B_rowsum.reshape(-1, 1) + self.o_dim*self.alpha) )\n",
    "        \n",
    "        A = self.A.reshape((self.h_dim, self.h_dim, self.h_dim))\n",
    "        A_sm_log = np.log( (A+self.alpha) / (a_rowsum + self.h_dim*self.alpha) )\n",
    "        \n",
    "        for t in range(1):\n",
    "            # first element without pi_prev\n",
    "            x_t = self.o_state(X[t])\n",
    "            e_log = B_sm_log[:, x_t]\n",
    "            log_prob = A_sm_log + e_log[np.newaxis, np.newaxis, :]\n",
    "            pi_prev = np.max(log_prob, axis=0)\n",
    "            bp[t] = np.argmax(log_prob, axis=0)\n",
    "        \n",
    "        for t in range(1, T):\n",
    "            x_t = self.o_state(X[t])\n",
    "            e_log = B_sm_log[:, x_t]\n",
    "            log_prob = pi_prev[:, :, np.newaxis] + A_sm_log + e_log[np.newaxis, np.newaxis, :]\n",
    "            pi_prev = np.max(log_prob, axis=0)\n",
    "            bp[t] = np.argmax(log_prob, axis=0)\n",
    "        \n",
    "        ###################\n",
    "        \n",
    "        term_idx = self.hidden_states[self.TERM]\n",
    "        \n",
    "        ###################\n",
    "        # r(u,v) = pi[T, u, v] * q(TERM | u, v)\n",
    "        # find argmax_{u, v} r(u, v)\n",
    "        # express r(u,v) as matrix additions\n",
    "        r = sum([\n",
    "            pi_prev, \n",
    "            A_sm_log[:, :, term_idx],\n",
    "        ])\n",
    "        u, v = np.unravel_index(np.argmax(r), (self.h_dim, self.h_dim))\n",
    "        h_states = [v, u]\n",
    "        ###################\n",
    "        \n",
    "        ###################\n",
    "        # rollback backpointers\n",
    "        # y_{t-2} = bp[t, y_{t-1}, y_t]\n",
    "        # h_states is a reversed sequence of hidden states\n",
    "        for t in reversed(range(T)):\n",
    "            h_states.append(bp[t, h_states[-1], h_states[-2]])\n",
    "        ###################\n",
    "        \n",
    "        return [self.hidden_idx2state[i] for i in reversed(h_states[:T])]"
   ]
  },
  {
   "cell_type": "markdown",
   "metadata": {},
   "source": [
    "Let's take a larger test subset"
   ]
  },
  {
   "cell_type": "code",
   "execution_count": 169,
   "metadata": {},
   "outputs": [
    {
     "data": {
      "text/plain": [
       "3914"
      ]
     },
     "execution_count": 169,
     "metadata": {},
     "output_type": "execute_result"
    }
   ],
   "source": [
    "len(treebank.tagged_sents())"
   ]
  },
  {
   "cell_type": "code",
   "execution_count": 167,
   "metadata": {},
   "outputs": [
    {
     "name": "stdout",
     "output_type": "stream",
     "text": [
      "sentence:  Pierre Vinken , 61 years old , will join the board as a nonexecutive director Nov. 29 .\n",
      "tags:  NNP NNP , CD NNS JJ , MD VB DT NN IN DT JJ NN NNP CD .\n"
     ]
    }
   ],
   "source": [
    "data = treebank.tagged_sents()[:3000]\n",
    "test_data = treebank.tagged_sents()[3000:3300]\n",
    "\n",
    "X_train = [[x[0] for x in y] for y in data]\n",
    "y_train = [[x[1] for x in y] for y in data]\n",
    "\n",
    "X_test = [[x[0] for x in y] for y in test_data]\n",
    "y_test = [[x[1] for x in y] for y in test_data]\n",
    "\n",
    "print('sentence: ', \" \".join(X_train[0]))\n",
    "print('tags: ', \" \".join(y_train[0]))"
   ]
  },
  {
   "cell_type": "code",
   "execution_count": 168,
   "metadata": {
    "scrolled": true
   },
   "outputs": [
    {
     "data": {
      "application/vnd.jupyter.widget-view+json": {
       "model_id": "eba21f7b051541a0a80ab3ecd11d0e9b",
       "version_major": 2,
       "version_minor": 0
      },
      "text/plain": [
       "  0%|          | 0/300 [00:00<?, ?it/s]"
      ]
     },
     "metadata": {},
     "output_type": "display_data"
    },
    {
     "name": "stdout",
     "output_type": "stream",
     "text": [
      "0.8993342210386152\n",
      "CPU times: user 47.3 s, sys: 526 ms, total: 47.9 s\n",
      "Wall time: 1min 39s\n"
     ]
    }
   ],
   "source": [
    "%%time\n",
    "\n",
    "hh = HmmVectorized().fit(X_train, y_train)\n",
    "y_pred = hh.predict(X_test)\n",
    "print(accuracy(y_test, y_pred))"
   ]
  },
  {
   "cell_type": "markdown",
   "metadata": {},
   "source": [
    "Your accuracy must be > 0.83 "
   ]
  },
  {
   "cell_type": "code",
   "execution_count": 170,
   "metadata": {},
   "outputs": [
    {
     "name": "stdout",
     "output_type": "stream",
     "text": [
      "pred:\tIN\tNNP\t,\tDT\tJJ\tNN\tIN\tCD\tJJR\tNNS\t,\tWDT\t-NONE-\tVBD\t-NONE-\tNNP\tNNP\t,\tVBD\tVBG\tNNS\tTO\tNNS\t.\n",
      "true:\tIN\tNNP\t,\tDT\tNNP\tNN\tIN\tCD\tVBN\tNNS\t,\tWDT\t-NONE-\tVBD\tCD\tNNS\tNNP\t,\tVBD\tCD\tNNS\tTO\tCD\t.\n",
      "text:\tAt\tTokyo\t,\tthe\tNikkei\tindex\tof\t225\tselected\tissues\t,\twhich\t*T*-1\tgained\t132\tpoints\tTuesday\t,\tadded\t14.99\tpoints\tto\t35564.43\t.\n",
      "\n",
      "pred:\tIN\tJJ\tNN\tIN\tNNP\tNNP\t,\tDT\tJJS\tNN\tVBD\tVBG\tNNS\tTO\tNNS\t.\n",
      "true:\tIN\tRB\tNN\tIN\tNNP\tNNP\t,\tDT\tNNP\tNN\tVBD\tCD\tNNS\tTO\tCD\t.\n",
      "text:\tIn\tearly\ttrading\tin\tTokyo\tThursday\t,\tthe\tNikkei\tindex\tfell\t63.79\tpoints\tto\t35500.64\t.\n",
      "\n",
      "pred:\tNNP\tPOS\tNN\tIN\tDT\tNNP\tNN\tVBD\tVBN\t-NONE-\tIN\tCD\tCD\tNNS\t,\tIN\tNN\tIN\tNNP\tPOS\tNNP\tCD\t.\n",
      "true:\tNNP\tPOS\tNN\tIN\tDT\tNNP\tNNP\tVBD\tVBN\t-NONE-\tIN\tCD\tCD\tNNS\t,\tIN\tNN\tIN\tNNP\tPOS\tCD\tCD\t.\n",
      "text:\tWednesday\t's\tvolume\ton\tthe\tFirst\tSection\twas\testimated\t*-1\tat\t900\tmillion\tshares\t,\tin\tline\twith\tTuesday\t's\t909\tmillion\t.\n",
      "\n"
     ]
    }
   ],
   "source": [
    "for i in range(len(y_pred[:3])):\n",
    "    print(\"pred:\", *y_pred[i], sep='\\t')\n",
    "    print(\"true:\", *y_test[i], sep='\\t')\n",
    "    print(\"text:\", *X_test[i], sep='\\t')\n",
    "    print()"
   ]
  },
  {
   "cell_type": "markdown",
   "metadata": {},
   "source": [
    "Given data of true_char corrupted\\_char build spelling correction model using HMM.    \n",
    "There are 2 datatsets (spelling10.txt, spelling20.txt) with 10% and 20% corruption probability respectively.  \n",
    "Each dataset contains 30556 words. Use first 28000 for training and the rest for testing. Estimate accuracy on the test subset.  "
   ]
  },
  {
   "cell_type": "code",
   "execution_count": 198,
   "metadata": {},
   "outputs": [],
   "source": [
    "def load_dataset(file_path):\n",
    "    '''\n",
    "    returns X, y\n",
    "    X - list of observable states (corrupted strings)\n",
    "    y - list of hidden states (true strings)\n",
    "    '''\n",
    "    X = []\n",
    "    y = []\n",
    "    delimiter = '_'\n",
    "    current_x = []\n",
    "    current_y = []\n",
    "    file = np.loadtxt(file_path, dtype=str)\n",
    "    for line in file:\n",
    "        l, r = line # l -- true, r - corrupted \n",
    "        if l == delimiter:\n",
    "            X.append((current_x))\n",
    "            y.append((current_y))\n",
    "            current_x = []\n",
    "            current_y = []\n",
    "        else:\n",
    "            current_x.append(r)\n",
    "            current_y.append(l)\n",
    "    X.append((current_x))\n",
    "    y.append((current_y))\n",
    "            \n",
    "    return X, y\n",
    "            "
   ]
  },
  {
   "cell_type": "markdown",
   "metadata": {},
   "source": [
    "## Task4. Spelling correction (20%)\n",
    "You should get > 92% accuracy on spelling10 dataset"
   ]
  },
  {
   "cell_type": "code",
   "execution_count": 199,
   "metadata": {},
   "outputs": [],
   "source": [
    "X, y = load_dataset(\"data/spelling10.txt\")\n",
    "train_slice = slice(28_000)\n",
    "test_slice = slice(28_000, None)\n",
    "X_train = X[train_slice]\n",
    "y_train = y[train_slice]\n",
    "X_test = X[test_slice]\n",
    "y_test = y[test_slice]"
   ]
  },
  {
   "cell_type": "code",
   "execution_count": 200,
   "metadata": {},
   "outputs": [
    {
     "data": {
      "application/vnd.jupyter.widget-view+json": {
       "model_id": "96d0d1ea19fc480b9aa71af46b638cc6",
       "version_major": 2,
       "version_minor": 0
      },
      "text/plain": [
       "  0%|          | 0/2558 [00:00<?, ?it/s]"
      ]
     },
     "metadata": {},
     "output_type": "display_data"
    },
    {
     "name": "stdout",
     "output_type": "stream",
     "text": [
      "0.9349734989320465\n"
     ]
    }
   ],
   "source": [
    "# YOUR CODE HERE\n",
    "hh = HmmVectorized().fit(X_train, y_train)\n",
    "y_pred = hh.predict(X_test)\n",
    "print(accuracy(y_test, y_pred))"
   ]
  },
  {
   "cell_type": "code",
   "execution_count": 203,
   "metadata": {},
   "outputs": [
    {
     "data": {
      "text/plain": [
       "0.900878095087414"
      ]
     },
     "execution_count": 203,
     "metadata": {},
     "output_type": "execute_result"
    }
   ],
   "source": [
    "accuracy(y_test, X_test)"
   ]
  },
  {
   "cell_type": "code",
   "execution_count": 211,
   "metadata": {},
   "outputs": [],
   "source": [
    "def show_examples(y_true, y_predict, x, N=10):\n",
    "    for data, label in zip([y_true, x, y_predict], \n",
    "                           [\"true\", \"corrupted\", \"predict\"]):\n",
    "        print(\"{:<12}\".format(label+\":\"), *[''.join(x) for x in data[:N]])"
   ]
  },
  {
   "cell_type": "code",
   "execution_count": 202,
   "metadata": {},
   "outputs": [
    {
     "name": "stdout",
     "output_type": "stream",
     "text": [
      "true:        in the strictest sense but a whole spectrum of related\n",
      "corrupted:   in the strictest ernse but a whole spectrum of re$$sted\n",
      "corrected:   in the strictest wrnse but a whole spectrum of relsted\n"
     ]
    }
   ],
   "source": [
    "show_examples(y_test, y_pred, X_test)"
   ]
  },
  {
   "cell_type": "markdown",
   "metadata": {},
   "source": [
    "## Task5. Spelling correction (20%)\n",
    "You should get > 88% accuracy on spelling20 dataset"
   ]
  },
  {
   "cell_type": "code",
   "execution_count": 204,
   "metadata": {},
   "outputs": [],
   "source": [
    "X, y = load_dataset(\"data/spelling20.txt\")\n",
    "train_slice = slice(28_000)\n",
    "test_slice = slice(28_000, None)\n",
    "X_train = X[train_slice]\n",
    "y_train = y[train_slice]\n",
    "X_test = X[test_slice]\n",
    "y_test = y[test_slice]"
   ]
  },
  {
   "cell_type": "code",
   "execution_count": 205,
   "metadata": {},
   "outputs": [
    {
     "data": {
      "application/vnd.jupyter.widget-view+json": {
       "model_id": "06ef6460da7749c6b37aef50b9079b76",
       "version_major": 2,
       "version_minor": 0
      },
      "text/plain": [
       "  0%|          | 0/2558 [00:00<?, ?it/s]"
      ]
     },
     "metadata": {},
     "output_type": "display_data"
    },
    {
     "name": "stdout",
     "output_type": "stream",
     "text": [
      "0.8888537299264299\n"
     ]
    }
   ],
   "source": [
    "# YOUR CODE HERE\n",
    "hh = HmmVectorized().fit(X_train, y_train)\n",
    "y_pred = hh.predict(X_test)\n",
    "print(accuracy(y_test, y_pred))"
   ]
  },
  {
   "cell_type": "code",
   "execution_count": 206,
   "metadata": {},
   "outputs": [
    {
     "data": {
      "text/plain": [
       "0.803259235819951"
      ]
     },
     "execution_count": 206,
     "metadata": {},
     "output_type": "execute_result"
    }
   ],
   "source": [
    "accuracy(y_test, X_test)"
   ]
  },
  {
   "cell_type": "code",
   "execution_count": 212,
   "metadata": {},
   "outputs": [
    {
     "name": "stdout",
     "output_type": "stream",
     "text": [
      "true:        in the strictest sense but a whole spectrum of related\n",
      "corrupted:   in tge strictest xense nyt a whooe specfrum od relqtwc\n",
      "predict:     in the strictest sense ny$$ s whole spectrum ld related\n"
     ]
    }
   ],
   "source": [
    "show_examples(y_test, y_pred, X_test)"
   ]
  }
 ],
 "metadata": {
  "kernelspec": {
   "display_name": "Python 3 (ipykernel)",
   "language": "python",
   "name": "python3"
  },
  "language_info": {
   "codemirror_mode": {
    "name": "ipython",
    "version": 3
   },
   "file_extension": ".py",
   "mimetype": "text/x-python",
   "name": "python",
   "nbconvert_exporter": "python",
   "pygments_lexer": "ipython3",
   "version": "3.11.0"
  },
  "widgets": {
   "state": {},
   "version": "1.1.2"
  }
 },
 "nbformat": 4,
 "nbformat_minor": 2
}
